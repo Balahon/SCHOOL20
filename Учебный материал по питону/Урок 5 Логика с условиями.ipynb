{
 "cells": [
  {
   "cell_type": "code",
   "execution_count": 1,
   "id": "e6be37ff",
   "metadata": {},
   "outputs": [
    {
     "name": "stdout",
     "output_type": "stream",
     "text": [
      "Истина\n"
     ]
    }
   ],
   "source": [
    "if True:\n",
    "    print('Истина')"
   ]
  },
  {
   "cell_type": "code",
   "execution_count": 2,
   "id": "0eb26999",
   "metadata": {},
   "outputs": [
    {
     "name": "stdout",
     "output_type": "stream",
     "text": [
      "3 больше 2\n"
     ]
    }
   ],
   "source": [
    "if 3 > 2:\n",
    "    print(\"3 больше 2\")"
   ]
  },
  {
   "cell_type": "code",
   "execution_count": 5,
   "id": "4bbe7360",
   "metadata": {},
   "outputs": [
    {
     "name": "stdout",
     "output_type": "stream",
     "text": [
      "False\n"
     ]
    }
   ],
   "source": [
    "if 3 < 2:\n",
    "    print(\"3 меньше 2\")\n",
    "else:\n",
    "    print(False)"
   ]
  },
  {
   "cell_type": "code",
   "execution_count": 6,
   "id": "f8c3ea46",
   "metadata": {},
   "outputs": [
    {
     "name": "stdout",
     "output_type": "stream",
     "text": [
      "a = True\n"
     ]
    }
   ],
   "source": [
    "a = True\n",
    "if a:\n",
    "    print(\"a = True\")"
   ]
  },
  {
   "cell_type": "code",
   "execution_count": 9,
   "id": "cb8575d6",
   "metadata": {},
   "outputs": [
    {
     "name": "stdout",
     "output_type": "stream",
     "text": [
      "нд\n",
      "хммм.... Такую расу я не знаю\n"
     ]
    }
   ],
   "source": [
    "selected_caracter = input()\n",
    "if selected_caracter == \"Elf\":\n",
    "    print('Вы выбрали расу эльфов')\n",
    "elif selected_caracter == \"Ork\":\n",
    "    print('Вы выбрали расу орков')\n",
    "else:\n",
    "    print('хммм.... Такую расу я не знаю')"
   ]
  },
  {
   "cell_type": "code",
   "execution_count": null,
   "id": "99d9f278",
   "metadata": {},
   "outputs": [],
   "source": []
  }
 ],
 "metadata": {
  "kernelspec": {
   "display_name": "Python 3 (ipykernel)",
   "language": "python",
   "name": "python3"
  },
  "language_info": {
   "codemirror_mode": {
    "name": "ipython",
    "version": 3
   },
   "file_extension": ".py",
   "mimetype": "text/x-python",
   "name": "python",
   "nbconvert_exporter": "python",
   "pygments_lexer": "ipython3",
   "version": "3.8.7"
  }
 },
 "nbformat": 4,
 "nbformat_minor": 5
}
