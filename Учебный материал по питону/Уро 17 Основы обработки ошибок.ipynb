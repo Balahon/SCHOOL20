{
 "cells": [
  {
   "cell_type": "code",
   "execution_count": 5,
   "id": "300137d0",
   "metadata": {},
   "outputs": [],
   "source": [
    "def delenie(a, b):\n",
    "    try: # если все работает\n",
    "        return a / b\n",
    "    except ZeroDivisionError as ex: # поведение при ошибке\n",
    "        print(f\"ошибка, на 0 делить нельзя\")\n",
    "    except: # все ошибки\n",
    "        print('неизвестная ошибка')"
   ]
  },
  {
   "cell_type": "code",
   "execution_count": 3,
   "id": "85b52ea8",
   "metadata": {},
   "outputs": [
    {
     "name": "stdout",
     "output_type": "stream",
     "text": [
      "ошибка, на 0 делить нельзя\n"
     ]
    }
   ],
   "source": [
    "delenie(6,0)"
   ]
  },
  {
   "cell_type": "code",
   "execution_count": 6,
   "id": "c62a8fa8",
   "metadata": {},
   "outputs": [
    {
     "name": "stdout",
     "output_type": "stream",
     "text": [
      "4\n",
      "неизвестная ошибка\n"
     ]
    }
   ],
   "source": [
    "delenie01 = input()\n",
    "delenie(4, delenie01)"
   ]
  },
  {
   "cell_type": "code",
   "execution_count": 10,
   "id": "aee215e7",
   "metadata": {},
   "outputs": [
    {
     "name": "stdout",
     "output_type": "stream",
     "text": [
      "Ошибка, файл не найден. No such file or directory\n",
      "хоть и ошибка, finally выполняется\n",
      "дальше все работает\n"
     ]
    }
   ],
   "source": [
    "file = None\n",
    "try:\n",
    "    file = open('17.txt') #такого файла нет\n",
    "    data = file.read() # выдаст ошибку\n",
    "except FileNotFoundError as ex: # если файл не найден\n",
    "# что бы не выводил ошибку, пропишем сценарий\n",
    "    print(f'Ошибка, файл не найден. {ex.strerror}')\n",
    "else: # если try отработал, попадем сюда\n",
    "    # если except, то не попадаем.\n",
    "#     тут прописывается логика или функции\n",
    "    print('иначе')\n",
    "finally: # предназначен для очистки низкоуровневых ресурсов\n",
    "#    таких как file.close()\n",
    "    print(\"хоть и ошибка, finally выполняется\")\n",
    "    if file: # сюда не попадаем, т.к. file = None (не найден)\n",
    "        file.close()\n",
    "print('дальше все работает')"
   ]
  },
  {
   "cell_type": "code",
   "execution_count": 11,
   "id": "54d9fee3",
   "metadata": {},
   "outputs": [
    {
     "name": "stdout",
     "output_type": "stream",
     "text": [
      "Введите что нибудь: t2\n",
      "Не число! Попробуй снова\n",
      "Введите что нибудь: 2\n"
     ]
    }
   ],
   "source": [
    "def get_int():\n",
    "    while True:\n",
    "        try:\n",
    "            reply = int(input(\"Введите что нибудь: \"))\n",
    "            return reply\n",
    "        except:\n",
    "            print(\"Не число! Попробуй снова\")\n",
    "            continue\n",
    "number = get_int()"
   ]
  },
  {
   "cell_type": "code",
   "execution_count": null,
   "id": "2bb7bf71",
   "metadata": {},
   "outputs": [],
   "source": []
  }
 ],
 "metadata": {
  "kernelspec": {
   "display_name": "Python 3 (ipykernel)",
   "language": "python",
   "name": "python3"
  },
  "language_info": {
   "codemirror_mode": {
    "name": "ipython",
    "version": 3
   },
   "file_extension": ".py",
   "mimetype": "text/x-python",
   "name": "python",
   "nbconvert_exporter": "python",
   "pygments_lexer": "ipython3",
   "version": "3.8.7"
  }
 },
 "nbformat": 4,
 "nbformat_minor": 5
}
