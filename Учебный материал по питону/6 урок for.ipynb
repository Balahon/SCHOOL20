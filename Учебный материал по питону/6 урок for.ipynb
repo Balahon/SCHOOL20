{
 "cells": [
  {
   "cell_type": "code",
   "execution_count": 1,
   "id": "b7071f4d",
   "metadata": {},
   "outputs": [
    {
     "name": "stdout",
     "output_type": "stream",
     "text": [
      "[2, 3, 4, 5, 6]\n"
     ]
    }
   ],
   "source": [
    "numbers = [1,2,3,4,5]\n",
    "for i in range(len(numbers)):\n",
    "    numbers[i] += 1\n",
    "print(numbers)"
   ]
  },
  {
   "cell_type": "code",
   "execution_count": 2,
   "id": "bd11f0ec",
   "metadata": {},
   "outputs": [
    {
     "name": "stdout",
     "output_type": "stream",
     "text": [
      "4\n",
      "9\n",
      "16\n",
      "25\n",
      "36\n"
     ]
    }
   ],
   "source": [
    "for i in numbers:\n",
    "    print(i ** 2)"
   ]
  },
  {
   "cell_type": "code",
   "execution_count": 6,
   "id": "8d483db8",
   "metadata": {},
   "outputs": [
    {
     "name": "stdout",
     "output_type": "stream",
     "text": [
      "1\n",
      "2\n",
      "3\n",
      "4\n",
      "5\n",
      "6\n",
      "7\n",
      "8\n"
     ]
    }
   ],
   "source": [
    "for i in range(1,9):\n",
    "    print(i)"
   ]
  },
  {
   "cell_type": "code",
   "execution_count": 7,
   "id": "ea4f2802",
   "metadata": {},
   "outputs": [
    {
     "name": "stdout",
     "output_type": "stream",
     "text": [
      "1 нечетное\n",
      "2 четное\n",
      "3 нечетное\n",
      "4 четное\n",
      "5 нечетное\n",
      "6 четное\n",
      "7 нечетное\n",
      "8 четное\n"
     ]
    }
   ],
   "source": [
    "for i in range(1,9):\n",
    "    if i % 2 == 0:\n",
    "        print(f'{i} четное')\n",
    "    else:\n",
    "        print(f'{i} нечетное')"
   ]
  },
  {
   "cell_type": "code",
   "execution_count": 11,
   "id": "a8b407fe",
   "metadata": {},
   "outputs": [
    {
     "data": {
      "text/plain": [
       "[2, 6, 10, 14, 18]"
      ]
     },
     "execution_count": 11,
     "metadata": {},
     "output_type": "execute_result"
    }
   ],
   "source": [
    "# Функция enumerate() применяется в случаях, \n",
    "# когда необходим счётчик количества элементов в последовательности. \n",
    "# Позволяет избавиться от необходимости инициировать \n",
    "# и обновлять отдельную переменную-счётчик.\n",
    "numbers = [1,3,5,7,9]\n",
    "for i, item in enumerate(numbers): # i-индексб item-значение\n",
    "    numbers[i] *= 2 # или же numbers[i] = item * 2\n",
    "numbers"
   ]
  },
  {
   "cell_type": "code",
   "execution_count": 12,
   "id": "70dd05b4",
   "metadata": {},
   "outputs": [
    {
     "name": "stdout",
     "output_type": "stream",
     "text": [
      "J\n",
      "o\n",
      "h\n",
      "n\n"
     ]
    }
   ],
   "source": [
    "name = 'John'\n",
    "for l in name:\n",
    "    print(l)"
   ]
  },
  {
   "cell_type": "code",
   "execution_count": 13,
   "id": "58016e0b",
   "metadata": {},
   "outputs": [
    {
     "name": "stdout",
     "output_type": "stream",
     "text": [
      "Привет\n",
      "Привет\n",
      "Привет\n",
      "Привет\n",
      "Привет\n"
     ]
    }
   ],
   "source": [
    "for _ in range(5):\n",
    "    print('Привет')"
   ]
  },
  {
   "cell_type": "code",
   "execution_count": 15,
   "id": "cd66248d",
   "metadata": {},
   "outputs": [
    {
     "name": "stdout",
     "output_type": "stream",
     "text": [
      "John\n",
      "Bob\n",
      "32\n"
     ]
    }
   ],
   "source": [
    "person = ('John', 'Bob',32)\n",
    "for item in person:\n",
    "    print(item)"
   ]
  },
  {
   "cell_type": "code",
   "execution_count": 22,
   "id": "ee6ad8cc",
   "metadata": {},
   "outputs": [
    {
     "name": "stdout",
     "output_type": "stream",
     "text": [
      "['John Men', 'Bob', '32']\n",
      "['John Men', 'Bob Men', '32']\n",
      "['John Men', 'Bob Men', '32 Men']\n"
     ]
    }
   ],
   "source": [
    "person = ['John', 'Bob','32']\n",
    "for i,item in enumerate(person):\n",
    "    person[i] = item + ' Men'\n",
    "    print(person)"
   ]
  },
  {
   "cell_type": "code",
   "execution_count": 23,
   "id": "3c912405",
   "metadata": {},
   "outputs": [
    {
     "data": {
      "text/plain": [
       "3"
      ]
     },
     "execution_count": 23,
     "metadata": {},
     "output_type": "execute_result"
    }
   ],
   "source": [
    "persons = [('John',22), ('Bob',32), ('Dave',42)]\n",
    "len(person)"
   ]
  },
  {
   "cell_type": "code",
   "execution_count": 24,
   "id": "9fd53396",
   "metadata": {},
   "outputs": [
    {
     "name": "stdout",
     "output_type": "stream",
     "text": [
      "John is 22 years old\n",
      "Bob is 32 years old\n",
      "Dave is 42 years old\n"
     ]
    }
   ],
   "source": [
    "for (name,age) in persons:\n",
    "    print(f'{name} is {age} years old')"
   ]
  },
  {
   "cell_type": "code",
   "execution_count": 26,
   "id": "e4cdedca",
   "metadata": {},
   "outputs": [],
   "source": [
    "players = dict(Carlsen = 2842,Caruana = 2822,Mamedyarov = 2801,Ding = 2797,Giri = 2780)"
   ]
  },
  {
   "cell_type": "code",
   "execution_count": 27,
   "id": "ca1695a4",
   "metadata": {},
   "outputs": [
    {
     "name": "stdout",
     "output_type": "stream",
     "text": [
      "Carlsen\n",
      "Caruana\n",
      "Mamedyarov\n",
      "Ding\n",
      "Giri\n"
     ]
    }
   ],
   "source": [
    "for item in players:\n",
    "    print(item)"
   ]
  },
  {
   "cell_type": "code",
   "execution_count": 28,
   "id": "ce827ebb",
   "metadata": {},
   "outputs": [
    {
     "name": "stdout",
     "output_type": "stream",
     "text": [
      "('Carlsen', 2842)\n",
      "('Caruana', 2822)\n",
      "('Mamedyarov', 2801)\n",
      "('Ding', 2797)\n",
      "('Giri', 2780)\n"
     ]
    }
   ],
   "source": [
    "for item in players.items():\n",
    "    print(item)"
   ]
  },
  {
   "cell_type": "code",
   "execution_count": 30,
   "id": "c016d8cb",
   "metadata": {},
   "outputs": [
    {
     "name": "stdout",
     "output_type": "stream",
     "text": [
      "Carlsen has rating 2842\n",
      "Caruana has rating 2822\n",
      "Mamedyarov has rating 2801\n",
      "Ding has rating 2797\n",
      "Giri has rating 2780\n"
     ]
    }
   ],
   "source": [
    "for k, v in players.items():\n",
    "    print(f'{k} has rating {v}')"
   ]
  },
  {
   "cell_type": "code",
   "execution_count": 31,
   "id": "11edab3e",
   "metadata": {},
   "outputs": [
    {
     "name": "stdout",
     "output_type": "stream",
     "text": [
      "2842\n",
      "2822\n",
      "2801\n",
      "2797\n",
      "2780\n"
     ]
    }
   ],
   "source": [
    "for v in players.values():\n",
    "    print(v)"
   ]
  },
  {
   "cell_type": "code",
   "execution_count": 34,
   "id": "098c92b4",
   "metadata": {},
   "outputs": [
    {
     "name": "stdout",
     "output_type": "stream",
     "text": [
      "2 -2\n",
      "2 -2\n",
      "4 -4\n",
      "-5 5\n",
      "6 -6\n",
      "8 -8\n",
      "[(2, -2), (2, -2), (4, -4), (-5, 5), (6, -6), (8, -8)]\n"
     ]
    }
   ],
   "source": [
    "# найдем все сочетания сумма которых даст 0\n",
    "list1 = [2,4,-5,6,8,-2]\n",
    "list2 = [-2,-4,5,-6,-8,-2]\n",
    "\n",
    "pairs = []\n",
    "for x in list1:\n",
    "    for y in list2:\n",
    "        if x + y == 0:\n",
    "            pairs.append((x,y))\n",
    "            print(x,y)\n",
    "print(pairs)"
   ]
  }
 ],
 "metadata": {
  "kernelspec": {
   "display_name": "Python 3 (ipykernel)",
   "language": "python",
   "name": "python3"
  },
  "language_info": {
   "codemirror_mode": {
    "name": "ipython",
    "version": 3
   },
   "file_extension": ".py",
   "mimetype": "text/x-python",
   "name": "python",
   "nbconvert_exporter": "python",
   "pygments_lexer": "ipython3",
   "version": "3.8.7"
  }
 },
 "nbformat": 4,
 "nbformat_minor": 5
}
