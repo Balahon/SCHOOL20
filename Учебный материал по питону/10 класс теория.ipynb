{
 "cells": [
  {
   "cell_type": "code",
   "execution_count": 1,
   "id": "wicked-columbus",
   "metadata": {},
   "outputs": [
    {
     "name": "stdout",
     "output_type": "stream",
     "text": [
      "<class 'int'>\n"
     ]
    }
   ],
   "source": [
    "a = 4\n",
    "print(type(a))#вывод типа переменной"
   ]
  },
  {
   "cell_type": "code",
   "execution_count": 4,
   "id": "rural-custom",
   "metadata": {},
   "outputs": [
    {
     "name": "stdout",
     "output_type": "stream",
     "text": [
      "12 32\n",
      "123 12\n"
     ]
    }
   ],
   "source": [
    "a, b = map(int,input().split())\n",
    "#map - применяет операцию ко всем элементам\n",
    "# input().split() - разделяется пробелом на части, получается набор значений\n",
    "# можо записать так\n",
    "# z, x = input().split()\n",
    "# z, x = int(a), int(b)"
   ]
  },
  {
   "cell_type": "code",
   "execution_count": null,
   "id": "organized-cemetery",
   "metadata": {},
   "outputs": [],
   "source": [
    "print(\"{}{}{}\".format(a, b, c)) \n",
    "# {:5d} - 5 позиций (d - decimal - десятичный)\n",
    "#{:7.3f} - 7 позиций, 3 знака после запятой (f - fixed - фиксированный)\n",
    "#{:10.3e} - 10 позиций, 3 знака после десятичной точки в записи значений\n",
    "# *3.333e-01**1.111e-01"
   ]
  },
  {
   "cell_type": "code",
   "execution_count": null,
   "id": "lasting-martial",
   "metadata": {},
   "outputs": [],
   "source": [
    "a += b #a = a + b\n",
    "a -= b #a = a - b\n",
    "a *= b #a = a * b\n",
    "a /= b #a = a / b\n",
    "a = b % 10 #mod\n",
    "a = b // 10 #div\n",
    "a = a ** n #степень n\n"
   ]
  },
  {
   "cell_type": "code",
   "execution_count": null,
   "id": "conventional-liverpool",
   "metadata": {},
   "outputs": [],
   "source": [
    "bin() #перевод в 2 с.с. \n",
    "oct() #перевод в 8 с.с.\n",
    "hex() #перевод в 16 с.с.\n",
    "abs() #модуль\n",
    "round() #округление"
   ]
  },
  {
   "cell_type": "code",
   "execution_count": null,
   "id": "agreed-senator",
   "metadata": {},
   "outputs": [],
   "source": [
    "import random\n",
    "random() #случайное число из 0, 1\n",
    "randint(1, 6) #случайное целое число из 1, 6\n",
    "7 * random() + 5 # вещественное случ. число в полуинтервале 5, 12(не вкл. 12)\n",
    "uniform(5, 12)#тоже самое"
   ]
  },
  {
   "cell_type": "code",
   "execution_count": null,
   "id": "velvet-cedar",
   "metadata": {},
   "outputs": [],
   "source": [
    "max(a, b) #возвращает макс на интервале a, b\n",
    "min(a, b)"
   ]
  },
  {
   "cell_type": "code",
   "execution_count": null,
   "id": "eleven-kazakhstan",
   "metadata": {},
   "outputs": [],
   "source": [
    "# Алгоритм Евклида: заменять большее из двух значений на их разность, пока\n",
    "# числа не станут равны. Полученное число и есть НОД\n",
    "while a != b:\n",
    "    if a > b:\n",
    "        a = a - b\n",
    "    else:\n",
    "        b = b - a\n",
    "print(a)\n",
    "# модифицированный Евклид: заменять большее из двух значений на остаток от \n",
    "# деления большего на меньшее, пока остаток не станет = 0. Тогда второе\n",
    "# чило и есть НОД\n",
    "while a != b and b != 0:\n",
    "    if a > b:    \n",
    "        a = a % b\n",
    "    else:\n",
    "        b = b % a\n",
    "print(a + b)"
   ]
  },
  {
   "cell_type": "code",
   "execution_count": null,
   "id": "radio-karaoke",
   "metadata": {},
   "outputs": [],
   "source": [
    "break # досрочный выход из цикла\n",
    "next # продолжение (пропуск)"
   ]
  },
  {
   "cell_type": "code",
   "execution_count": null,
   "id": "specific-roller",
   "metadata": {},
   "outputs": [],
   "source": [
    "for i in range(1, 100, 2) # цикл от 1 до 99 с шагом 2"
   ]
  },
  {
   "cell_type": "code",
   "execution_count": null,
   "id": "exceptional-ballet",
   "metadata": {},
   "outputs": [],
   "source": [
    "def function() #функция или процедура (def - define - определить)\n",
    "global a #аргумент а оставляет значение, полученное во время выполнения\n",
    "# функции после выхода из нее.\n",
    "# Процедура - вспомогательные алгоритмы, которые могут многократно вызываться\n",
    "# из основной программы и другими подпрограммами\n",
    "# В отличии от процедуры Функция всегда ВОЗВРАЩАЕТ ЗНАЧЕНИЕ - РЕЗУЛЬТАТ\n",
    "return a #возвращает значение а после выполнения функции\n",
    "return a, d #возвращает значение а и b после выполнения функции"
   ]
  },
  {
   "cell_type": "code",
   "execution_count": null,
   "id": "certified-electricity",
   "metadata": {},
   "outputs": [],
   "source": [
    "# Рекурсия - способ определения множества объектов через само это множество\n",
    "# на основе заданных простых базовых случаев\n",
    "# Рекурсная процедура (функция) - вызывает сама себя напрямую или через \n",
    "# другие процедуры (функции)\n",
    "def Hanoi(n, k, m):\n",
    "    p = 6 - k - m\n",
    "    Hanoi(n - 1, k, p)\n",
    "    print(k, \" -> \", m)\n",
    "    Hanoi(n - 1, p, m)"
   ]
  },
  {
   "cell_type": "code",
   "execution_count": null,
   "id": "mature-finish",
   "metadata": {},
   "outputs": [],
   "source": [
    "#массив\n",
    "A = [1, 2, 3, 4]\n",
    "A = [1, 2] + [3, 4]\n",
    "A = [0] * 10 # список из 10 элементо (нулевой)\n",
    "A = [i for i in range(10)] # список из 10 элементо от 0 до 9\n",
    "A = list(range(10)) #токой же список (list - создание списка)\n",
    "A = [i for i in range(10) if (условие отбора)] \n",
    "# список из 10 элементо от 0 до 9 с условием отбора\n",
    "A = [ randint(20, 100) for i in range(10)]  \n",
    "# список из 10 элементо заполненный случ. числ. от 20 до 100\n",
    "len(A) # выводит длину списка\n",
    "A.append(x) # добавляет элемент х в конец списка\n",
    "A.insert(1,35) #добавляет цефру 35 на место индекса 1\n",
    "A.pop(1) #удаляет элемент до номером(индексом) 1\n",
    "A = [int(input()) for i in range(N)] # #вводим массив в одну строчку через запятую\n",
    "s = input().split() #тоже самое, но массив символьный\n",
    "A = [int(x) for x in s] # из символьного в цивровой\n",
    "A = list(map(int,s)) #тоже самое, не используя генератор\n",
    "print(A) #вывод [1, 2, 3, ...]\n",
    "print(*A)#1 2 3 4 ...\n",
    "for i in range(N):\n",
    "    print(A[i], end = \" \") #1 2 3 4 ...\n",
    "for x in A:\n",
    "    print(x, end = \" \") #1 2 3 4 ...\n",
    "A = [x + 1 for x in A] #прибавит 1 к каждому элементу массива А \n"
   ]
  },
  {
   "cell_type": "code",
   "execution_count": 11,
   "id": "established-bulgarian",
   "metadata": {
    "scrolled": true
   },
   "outputs": [
    {
     "name": "stdout",
     "output_type": "stream",
     "text": [
      "туториал\n",
      "по\n",
      "функции\n",
      "print()\n",
      "1...2...3...4..."
     ]
    }
   ],
   "source": [
    "# sep # это может быть строка, которую необходимо вставлять \n",
    "# между значениями, по умолчанию — пробел.\n",
    "# \\n #перенесет каждое слово на новую строку\n",
    "print('туториал', 'по', 'функции', 'print()', sep='\\n') \n",
    "# end # это строка, которая добавляется после последнего значения. \n",
    "# По умолчанию — это перенос на новую строку (\\n).\n",
    "# С помощью аргумента end программист может самостоятельно\n",
    "# определить окончание выражения print.\n",
    "def value(items):\n",
    "    for item in items:\n",
    "        print(item, end='...')\n",
    "value([1,2,3,4])"
   ]
  },
  {
   "cell_type": "code",
   "execution_count": null,
   "id": "certified-syndrome",
   "metadata": {},
   "outputs": [],
   "source": [
    "A.index()# возвращает индекс элемента массива(в скобки прописывают элемент)\n",
    "if X in A:\n",
    "    nX = A.index(X)\n",
    "    print(\"A[\", nX, \"] = \", X, sep = \"\")\n",
    "else:\n",
    "    print(\"не нашли!\")"
   ]
  },
  {
   "cell_type": "code",
   "execution_count": null,
   "id": "answering-traveler",
   "metadata": {},
   "outputs": [],
   "source": [
    "max(A)# возвращает максимальный элемент массива\n",
    "min(A)# возвращает минимальный элемент массива"
   ]
  },
  {
   "cell_type": "code",
   "execution_count": null,
   "id": "solid-protein",
   "metadata": {},
   "outputs": [],
   "source": [
    "#реверс\n",
    "for i in range(N // 2):\n",
    "    A[i], A[N - i - 1] = A[N - i - 1], A[i]\n",
    "A.reverse() #встроенная функция реверса массива"
   ]
  },
  {
   "cell_type": "code",
   "execution_count": 1,
   "id": "speaking-puppy",
   "metadata": {},
   "outputs": [
    {
     "name": "stdout",
     "output_type": "stream",
     "text": [
      "0 1 2 3 4\n",
      "[1, 2, 3, 4, 0]\n",
      "A[1:N] + [A[0]] =  [2, 3, 4, 0, 1]\n",
      "A[1:] + [A[0]] =  [3, 4, 0, 1, 2]\n",
      "A[:5] + [A[0]] =  [3, 4, 0, 1, 2, 3]\n",
      "Acopy = A[:]  [3, 4, 0, 1, 2, 3]\n",
      "B = A[-3:]  [1, 2, 3]\n",
      "A = A[::-1]  [3, 2, 1, 0, 4, 3]\n",
      "A.reverse  [3, 4, 0, 1, 2, 3]\n",
      "[3, 4, 0, 1, 2, 3]\n"
     ]
    }
   ],
   "source": [
    "N = 5\n",
    "A = [i for i in range(N)]\n",
    "print(*A)\n",
    "#сдвиг элементов массива\n",
    "c = A[0]\n",
    "for i in range(N - 1):\n",
    "    A[i] = A[i + 1]\n",
    "A[N - 1] = c\n",
    "print(A)\n",
    "#срез массива\n",
    "A = A[1:N] + [A[0]] #сдвиг (первую цифру в конец)\n",
    "print(\"A[1:N] + [A[0]] = \", A)\n",
    "A = A[1:] + [A[0]] #сдвиг (первую цифру в конец)\n",
    "print(\"A[1:] + [A[0]] = \", A)\n",
    "A = A[:5] + [A[0]] #добавить 1 цифру в конце\n",
    "print(\"A[:5] + [A[0]] = \", A)\n",
    "Acopy = A[:] #копирование массива\n",
    "print(\"Acopy = A[:] \", Acopy)\n",
    "B = A[-3:] #выбрать из массива последние 3\n",
    "print(\"B = A[-3:] \", B)\n",
    "A = A[::-1] #реверс\n",
    "print(\"A = A[::-1] \", A)\n",
    "A.reverse() #реверс\n",
    "print(\"A.reverse \", A)\n",
    "B = A[:]\n",
    "print(B)"
   ]
  },
  {
   "cell_type": "code",
   "execution_count": 11,
   "id": "gorgeous-township",
   "metadata": {},
   "outputs": [
    {
     "name": "stdout",
     "output_type": "stream",
     "text": [
      "[2, 8, 674]\n",
      "[2, 8, 674]\n",
      "[2, 5, 8, 345, 674, 453]\n"
     ]
    }
   ],
   "source": [
    "#отбор нужных элементов\n",
    "A = [2, 5, 8, 345, 674, 453]\n",
    "B = []\n",
    "for x in A:\n",
    "    if x % 2 == 0:\n",
    "        B.append(x)\n",
    "print(B)\n",
    "B = [x for x in A if x % 2 == 0]\n",
    "print(B)\n",
    "C = A[::]\n",
    "print( C)"
   ]
  },
  {
   "cell_type": "code",
   "execution_count": 7,
   "id": "consolidated-bathroom",
   "metadata": {},
   "outputs": [],
   "source": [
    "B = A[::] # копирование массива\n",
    "import copy\n",
    "A = [1, 2, 3]\n",
    "B = copy.copy(A) #копирование массива поверхностное.\n",
    "# не копирует изменяемые объекты, например другой список\n",
    "B = copy.deepcopy(A) # полное копирование"
   ]
  },
  {
   "cell_type": "code",
   "execution_count": null,
   "id": "broken-video",
   "metadata": {},
   "outputs": [],
   "source": [
    "B = sorted(A) #по возрастанию\n",
    "B = sorted(A, reverse = True) #по убыванию\n",
    "def lastDigit(n):\n",
    "    return n % 10\n",
    "B = sorted(A, key = lastDigit) #по возрастанию последней локации\n",
    "# вметсто def можно использовать lambda\n",
    "B = sorted(A, key = lambda x: x % 10)\n",
    "#sorted не изменяет исходный массив, а возвращает его отсортировочную копию\n",
    "#что бы отсортировать оригинал, нужно использовать sort\n",
    "A.sort(key = lambda x: x % 10, reverse = True)"
   ]
  },
  {
   "cell_type": "code",
   "execution_count": 3,
   "id": "super-brake",
   "metadata": {},
   "outputs": [
    {
     "name": "stdout",
     "output_type": "stream",
     "text": [
      "[1, 2, 3, 1, 3, 5]\n",
      "[1, 35, 2, 3]\n",
      "[1, 35, 3]\n"
     ]
    }
   ],
   "source": [
    "A = [1, 2, 3]\n",
    "B = [1, 3, 5]\n",
    "C = A + B\n",
    "print(C)\n",
    "A.insert(1,35) \n",
    "print(A)\n",
    "A.pop(2)\n",
    "print(A)"
   ]
  },
  {
   "cell_type": "code",
   "execution_count": null,
   "id": "editorial-vacuum",
   "metadata": {},
   "outputs": [],
   "source": [
    "B = [x for x in A if 180 < x and x < 190] #генерация массива с условием\n",
    "# поиск макс элемента\n",
    "M = A[0]\n",
    "for i in range(1,N):\n",
    "    if A[i] > M:\n",
    "        M = A[i]\n",
    "print(M)\n",
    "# или так\n",
    "M = A[0]\n",
    "for x in A:\n",
    "    if x > M:\n",
    "        M = x\n",
    "print(M)\n",
    "# или так\n",
    "M = max(A)\n",
    "indexMax = A.index(M)"
   ]
  },
  {
   "cell_type": "code",
   "execution_count": 2,
   "id": "absolute-bronze",
   "metadata": {},
   "outputs": [],
   "source": [
    "def printMatrix(A):\n",
    "    for i in range(len(A)):\n",
    "        for j in range(len(A[i])):\n",
    "            print(\"{:4d}\".format(A[i][j]), end = \"\")\n",
    "        print()\n",
    "def printMatrix1(A):\n",
    "    for row in A:\n",
    "        for x in row:\n",
    "            print(\"{:4d}\".format(A[i][j]), end = \"\")\n",
    "        print()"
   ]
  },
  {
   "cell_type": "code",
   "execution_count": 12,
   "id": "finished-census",
   "metadata": {},
   "outputs": [
    {
     "name": "stdout",
     "output_type": "stream",
     "text": [
      "   1   2   3\n",
      "   2   3   4\n"
     ]
    }
   ],
   "source": [
    "A = [[1,2,3], [2,3,4]]\n",
    "printMatrix(A)"
   ]
  },
  {
   "cell_type": "code",
   "execution_count": 38,
   "id": "previous-handy",
   "metadata": {},
   "outputs": [
    {
     "name": "stdout",
     "output_type": "stream",
     "text": [
      "1 2 3 4 5 6 7\n",
      "\n",
      "['234', '234', '2312121', '123', '12']\n"
     ]
    },
    {
     "ename": "UnsupportedOperation",
     "evalue": "not writable",
     "output_type": "error",
     "traceback": [
      "\u001b[1;31m---------------------------------------------------------------------------\u001b[0m",
      "\u001b[1;31mUnsupportedOperation\u001b[0m                      Traceback (most recent call last)",
      "\u001b[1;32m<ipython-input-38-d01cb8ee6bfb>\u001b[0m in \u001b[0;36m<module>\u001b[1;34m\u001b[0m\n\u001b[0;32m     10\u001b[0m \u001b[1;31m# a, b = [int(x) for x in s]\u001b[0m\u001b[1;33m\u001b[0m\u001b[1;33m\u001b[0m\u001b[0m\n\u001b[0;32m     11\u001b[0m \u001b[0ma\u001b[0m\u001b[1;33m,\u001b[0m \u001b[0mb\u001b[0m\u001b[1;33m,\u001b[0m \u001b[0mc\u001b[0m\u001b[1;33m,\u001b[0m \u001b[0md\u001b[0m\u001b[1;33m,\u001b[0m \u001b[0me\u001b[0m \u001b[1;33m=\u001b[0m \u001b[0mmap\u001b[0m\u001b[1;33m(\u001b[0m\u001b[0mint\u001b[0m\u001b[1;33m,\u001b[0m \u001b[0ms1\u001b[0m\u001b[1;33m)\u001b[0m\u001b[1;33m\u001b[0m\u001b[0m\n\u001b[1;32m---> 12\u001b[1;33m \u001b[0mopen_txt\u001b[0m\u001b[1;33m.\u001b[0m\u001b[0mwrite\u001b[0m\u001b[1;33m(\u001b[0m\u001b[1;34m\"{:d} + {:d} + {:d} + {:d} + {:d}= {:d}\\n\"\u001b[0m\u001b[1;33m.\u001b[0m\u001b[0mformat\u001b[0m\u001b[1;33m(\u001b[0m\u001b[0ma\u001b[0m\u001b[1;33m,\u001b[0m \u001b[0mb\u001b[0m\u001b[1;33m,\u001b[0m \u001b[0mc\u001b[0m\u001b[1;33m,\u001b[0m \u001b[0md\u001b[0m\u001b[1;33m,\u001b[0m \u001b[0me\u001b[0m\u001b[1;33m,\u001b[0m \u001b[0ma\u001b[0m\u001b[1;33m+\u001b[0m\u001b[0mb\u001b[0m\u001b[1;33m+\u001b[0m\u001b[0mc\u001b[0m\u001b[1;33m+\u001b[0m\u001b[0md\u001b[0m\u001b[1;33m+\u001b[0m\u001b[0me\u001b[0m\u001b[1;33m)\u001b[0m\u001b[1;33m)\u001b[0m\u001b[1;33m\u001b[0m\u001b[0m\n\u001b[0m",
      "\u001b[1;31mUnsupportedOperation\u001b[0m: not writable"
     ]
    }
   ],
   "source": [
    "open_txt = open('untitled.txt')\n",
    "# r - открыть на чтение\n",
    "# w - открыть на запись \n",
    "# a - открыть на добавление\n",
    "s = open_txt.readline() #чтение одной строки\n",
    "s1 = open_txt.readline().split() #прочитать несколько значений через пробел\n",
    "print(s)\n",
    "print(s1)\n",
    "# a, b = int(s[0]), int(s[1])\n",
    "# a, b = [int(x) for x in s]\n",
    "a, b, c, d, e = map(int, s1)\n",
    "open_txt.write(\"{:d} + {:d} + {:d} + {:d} + {:d}= {:d}\\n\".format(a, b, c, d, e, a+b+c+d+e))\n",
    "open_txt.close()\n",
    "\n",
    "while True:\n",
    "    s = open_txt.readlines()\n",
    "    if not s: break\n",
    "\n",
    "open_txt = open('untitled.txt')\n",
    "lst = open_txt.readlines()\n",
    "for s in lst:\n",
    "    print(s, end = '')\n",
    "open_txt.close()\n",
    "\n",
    "with open('untitled.txt') as Fin:\n",
    "    for s in Fin:\n",
    "        print(s. end = \"\")\n",
    "\n",
    "for s in open('untitled.txt'):\n",
    "    print(s, end = \"\")\n",
    "    \n",
    "sum = 0\n",
    "while True:\n",
    "    s = open_txt.readline()\n",
    "    if not s: break\n",
    "    sum += int(s)\n",
    "    \n",
    "sum = 0\n",
    "for s in open('untitled.txt'):\n",
    "    sum += int(s)\n",
    "    \n",
    "    \n",
    "A = []\n",
    "while True:\n",
    "    s = open_txt.readline()\n",
    "    if not s : break\n",
    "    A.append(int(s))\n",
    "    \n",
    "s = open_txt.read().split()\n",
    "A = list(map(int, s))\n",
    "\n",
    "Fout = open('untitled.txt',\"w\")\n",
    "Fout.write(str(A))\n",
    "Fout.close()\n",
    "\n",
    "for x in A:\n",
    "    Fout.write(str(x)+\"\\n\")\n",
    "    \n"
   ]
  },
  {
   "cell_type": "code",
   "execution_count": 14,
   "id": "minus-karaoke",
   "metadata": {},
   "outputs": [
    {
     "name": "stdout",
     "output_type": "stream",
     "text": [
      "Введите число: 6\n",
      "*\n",
      "**\n",
      "***\n",
      "****\n",
      "*****\n",
      "******\n",
      "*****\n",
      "****\n",
      "***\n",
      "**\n",
      "*\n"
     ]
    }
   ],
   "source": [
    "nn = int(input('Введите число: '))\n",
    "count = 0\n",
    "for i in range(1, nn + 1):\n",
    "    print(\"*\"*i)\n",
    "    count += 1\n",
    "    if count == (nn):\n",
    "        for j in range(nn - 1, 0, -1):\n",
    "            print(\"*\" * j)"
   ]
  },
  {
   "cell_type": "code",
   "execution_count": 3,
   "id": "waiting-watts",
   "metadata": {},
   "outputs": [
    {
     "data": {
      "image/png": "[encoded data removed]",
      "text/plain": [
       "<Figure size 432x288 with 1 Axes>"
      ]
     },
     "metadata": {
      "needs_background": "light"
     },
     "output_type": "display_data"
    },
    {
     "name": "stdout",
     "output_type": "stream",
     "text": [
      "-27096\n",
      "-24482\n",
      "-22042\n",
      "-19770\n",
      "-17660\n",
      "-15706\n",
      "-13902\n",
      "-12242\n",
      "-10720\n",
      "-9330\n",
      "-8066\n",
      "-6922\n",
      "-5892\n",
      "-4970\n",
      "-4150\n",
      "-3426\n",
      "-2792\n",
      "-2242\n",
      "-1770\n",
      "-1370\n",
      "-1036\n",
      "-762\n",
      "-542\n",
      "-370\n",
      "-240\n",
      "-146\n",
      "-82\n",
      "-42\n",
      "-20\n",
      "-10\n",
      "-6\n",
      "-2\n",
      "8\n",
      "30\n",
      "70\n",
      "134\n",
      "228\n",
      "358\n",
      "530\n",
      "750\n",
      "1024\n",
      "1358\n",
      "1758\n",
      "2230\n",
      "2780\n",
      "3414\n",
      "4138\n",
      "4958\n",
      "5880\n",
      "6910\n",
      "8054\n",
      "9318\n",
      "10708\n",
      "12230\n",
      "13890\n",
      "15694\n",
      "17648\n",
      "19758\n",
      "22030\n",
      "24470\n",
      "27084\n",
      "29878\n",
      "32858\n",
      "36030\n",
      "39400\n",
      "42974\n",
      "46758\n",
      "50758\n",
      "54980\n",
      "59430\n",
      "64114\n",
      "69038\n",
      "74208\n",
      "79630\n",
      "85310\n",
      "91254\n",
      "97468\n",
      "103958\n",
      "110730\n",
      "117790\n",
      "125144\n",
      "132798\n",
      "140758\n",
      "149030\n",
      "157620\n",
      "166534\n",
      "175778\n",
      "185358\n",
      "195280\n",
      "205550\n",
      "216174\n",
      "227158\n",
      "238508\n",
      "250230\n",
      "262330\n",
      "max  262330 min  -27096\n"
     ]
    }
   ],
   "source": [
    "#f(x) = x^3 + 3*x - 6\n",
    "from math import *\n",
    "import matplotlib.pyplot as plt\n",
    "import numpy as np\n",
    "fig, ax = plt.subplots() #создание окна\n",
    "x = np.linspace(-30, 65, 96)\n",
    "y = x**3 + 3*x - 6\n",
    "ax = ax.plot(x,y)\n",
    "plt.show() #вывод на экран\n",
    "\n",
    "max = 0\n",
    "min = 0\n",
    "for x in range(-30, 65):\n",
    "    F = x**3 + 3*x - 6\n",
    "    print(F)\n",
    "    if max < F:\n",
    "        max = F\n",
    "    if min > F:\n",
    "        min = F\n",
    "print(\"max \", max, \"min \", min)"
   ]
  },
  {
   "cell_type": "code",
   "execution_count": 36,
   "id": "humanitarian-broadcasting",
   "metadata": {},
   "outputs": [
    {
     "name": "stdout",
     "output_type": "stream",
     "text": [
      " q1 =   8.00e-05 \n",
      " q2 =   8.00e-05 \n",
      " q3 =   8.00e-05 \n",
      " q4 =   8.00e-05 \n",
      " U1 =   8.00e+01 \n",
      " U2 =   2.00e+01 \n",
      " U3 =   2.00e+01\n"
     ]
    }
   ],
   "source": [
    "C1 = 10**(-6)\n",
    "C2 = 10**(-6)\n",
    "C3 = 3*10**(-6)\n",
    "C4 = 2*10**(-6)\n",
    "U = 140\n",
    "C23 = C2 + C3\n",
    "CЭКВ =1/(1/C1 + 1/C23 + 1/C4)\n",
    "q1 = CЭКВ * U \n",
    "q23 = CЭКВ * U\n",
    "q4 = CЭКВ * U\n",
    "U1 = q1/C1\n",
    "U4 = q4/C4\n",
    "U2 = U3 = q23/C23\n",
    "print(\" q1 = {:10.2e} \\n q2 = {:10.2e} \\n q3 = {:10.2e} \\n q4 = {:10.2e} \\n U1 = {:10.2e} \\n U2 = {:10.2e} \\n U3 = {:10.2e}\".format(q1,q23,q23,q4,U1,U2,U3))"
   ]
  },
  {
   "cell_type": "code",
   "execution_count": 1,
   "id": "unnecessary-sixth",
   "metadata": {},
   "outputs": [
    {
     "data": {
      "image/png": "[encoded data removed]",
      "text/plain": [
       "<Figure size 432x288 with 1 Axes>"
      ]
     },
     "metadata": {
      "needs_background": "light"
     },
     "output_type": "display_data"
    },
    {
     "name": "stdout",
     "output_type": "stream",
     "text": [
      "479604\n",
      "408633\n",
      "345654\n",
      "290055\n",
      "241248\n",
      "198669\n",
      "161778\n",
      "130059\n",
      "103020\n",
      "80193\n",
      "61134\n",
      "45423\n",
      "32664\n",
      "22485\n",
      "14538\n",
      "8499\n",
      "4068\n",
      "969\n",
      "-1050\n",
      "-2217\n",
      "-2736\n",
      "-2787\n",
      "-2526\n",
      "-2085\n",
      "-1572\n",
      "-1071\n",
      "-642\n",
      "-321\n",
      "-120\n",
      "-27\n",
      "-6\n",
      "3\n",
      "84\n",
      "345\n",
      "918\n",
      "1959\n",
      "3648\n",
      "6189\n",
      "9810\n",
      "14763\n",
      "21324\n",
      "29793\n",
      "40494\n",
      "53775\n",
      "70008\n",
      "89589\n",
      "112938\n",
      "140499\n",
      "172740\n",
      "210153\n",
      "253254\n",
      "302583\n",
      "358704\n",
      "422205\n",
      "493698\n",
      "573819\n",
      "663228\n",
      "762609\n",
      "872670\n",
      "994143\n",
      "1127784\n",
      "1274373\n",
      "1434714\n",
      "1609635\n",
      "1799988\n",
      "2006649\n",
      "2230518\n",
      "2472519\n",
      "2733600\n",
      "3014733\n",
      "3316914\n",
      "3641163\n",
      "3988524\n",
      "4360065\n",
      "4756878\n",
      "5180079\n",
      "5630808\n",
      "6110229\n",
      "6619530\n",
      "7159923\n",
      "7732644\n",
      "8338953\n",
      "8980134\n",
      "9657495\n",
      "10372368\n",
      "11126109\n",
      "11920098\n",
      "12755739\n",
      "13634460\n",
      "14557713\n",
      "15526974\n",
      "16543743\n",
      "17609544\n",
      "18725925\n",
      "19894458\n",
      "max  19894458 min  -2787\n"
     ]
    }
   ],
   "source": [
    "#f(x) = x**4+ 12*x**3 - 7*x**2 + 3*x - 6\n",
    "from math import *\n",
    "import matplotlib.pyplot as plt\n",
    "import numpy as np\n",
    "fig, ax = plt.subplots() #создание окна\n",
    "x = np.linspace(-30, 65, 96)\n",
    "y = x**4+ 12*x**3 - 7*x**2 + 3*x - 6\n",
    "ax = ax.plot(x,y)\n",
    "plt.show() #вывод на экран\n",
    "\n",
    "max = 0\n",
    "min = 0\n",
    "for x in range(-30, 65):\n",
    "    F = x**4+ 12*x**3 - 7*x**2 + 3*x - 6\n",
    "    print(F)\n",
    "    if max < F:\n",
    "        max = F\n",
    "    if min > F:\n",
    "        min = F\n",
    "print(\"max \", max, \"min \", min)"
   ]
  },
  {
   "cell_type": "code",
   "execution_count": 7,
   "id": "equivalent-powell",
   "metadata": {},
   "outputs": [
    {
     "ename": "TypeError",
     "evalue": "only size-1 arrays can be converted to Python scalars",
     "output_type": "error",
     "traceback": [
      "\u001b[1;31m---------------------------------------------------------------------------\u001b[0m",
      "\u001b[1;31mTypeError\u001b[0m                                 Traceback (most recent call last)",
      "\u001b[1;32m<ipython-input-7-5be472714ee7>\u001b[0m in \u001b[0;36m<module>\u001b[1;34m\u001b[0m\n\u001b[0;32m      5\u001b[0m \u001b[0mfig\u001b[0m\u001b[1;33m,\u001b[0m \u001b[0max\u001b[0m \u001b[1;33m=\u001b[0m \u001b[0mplt\u001b[0m\u001b[1;33m.\u001b[0m\u001b[0msubplots\u001b[0m\u001b[1;33m(\u001b[0m\u001b[1;33m)\u001b[0m \u001b[1;31m#создание окна\u001b[0m\u001b[1;33m\u001b[0m\u001b[0m\n\u001b[0;32m      6\u001b[0m \u001b[0mx\u001b[0m \u001b[1;33m=\u001b[0m \u001b[0mnp\u001b[0m\u001b[1;33m.\u001b[0m\u001b[0mlinspace\u001b[0m\u001b[1;33m(\u001b[0m\u001b[1;33m-\u001b[0m\u001b[1;36m30\u001b[0m\u001b[1;33m,\u001b[0m \u001b[1;36m65\u001b[0m\u001b[1;33m,\u001b[0m \u001b[1;36m96\u001b[0m\u001b[1;33m)\u001b[0m\u001b[1;33m\u001b[0m\u001b[0m\n\u001b[1;32m----> 7\u001b[1;33m \u001b[0my\u001b[0m \u001b[1;33m=\u001b[0m \u001b[0mmath\u001b[0m\u001b[1;33m.\u001b[0m\u001b[0msin\u001b[0m\u001b[1;33m(\u001b[0m\u001b[0mx\u001b[0m\u001b[1;33m)\u001b[0m\u001b[1;33m\u001b[0m\u001b[0m\n\u001b[0m\u001b[0;32m      8\u001b[0m \u001b[0max\u001b[0m \u001b[1;33m=\u001b[0m \u001b[0max\u001b[0m\u001b[1;33m.\u001b[0m\u001b[0mplot\u001b[0m\u001b[1;33m(\u001b[0m\u001b[0mx\u001b[0m\u001b[1;33m,\u001b[0m\u001b[0my\u001b[0m\u001b[1;33m)\u001b[0m\u001b[1;33m\u001b[0m\u001b[0m\n\u001b[0;32m      9\u001b[0m \u001b[0mplt\u001b[0m\u001b[1;33m.\u001b[0m\u001b[0mshow\u001b[0m\u001b[1;33m(\u001b[0m\u001b[1;33m)\u001b[0m \u001b[1;31m#вывод на экран\u001b[0m\u001b[1;33m\u001b[0m\u001b[0m\n",
      "\u001b[1;31mTypeError\u001b[0m: only size-1 arrays can be converted to Python scalars"
     ]
    },
    {
     "data": {
      "image/png": "[encoded data removed]",
      "text/plain": [
       "<Figure size 432x288 with 1 Axes>"
      ]
     },
     "metadata": {
      "needs_background": "light"
     },
     "output_type": "display_data"
    }
   ],
   "source": [
    "#f(x) = sin(x)\n",
    "import math\n",
    "import matplotlib.pyplot as plt\n",
    "import numpy as np\n",
    "fig, ax = plt.subplots() #создание окна\n",
    "x = np.linspace(-30, 65, 96)\n",
    "y = math.sin(x)\n",
    "ax = ax.plot(x,y)\n",
    "plt.show() #вывод на экран\n",
    "\n",
    "max = 0\n",
    "min = 0\n",
    "for x in range(-30, 65):\n",
    "    F = math.sin(x)\n",
    "    print(F)\n",
    "    if max < F:\n",
    "        max = F\n",
    "    if min > F:\n",
    "        min = F\n",
    "print(\"max \", max, \"min \", min)"
   ]
  },
  {
   "cell_type": "code",
   "execution_count": 10,
   "id": "planned-bikini",
   "metadata": {},
   "outputs": [
    {
     "name": "stdout",
     "output_type": "stream",
     "text": [
      "введите начало координат: -50\n",
      "введите конец координат: 50\n",
      "количество точек на координатной плоскости: 40\n"
     ]
    },
    {
     "data": {
      "image/png": "[encoded data removed]",
      "text/plain": [
       "<Figure size 432x288 with 1 Axes>"
      ]
     },
     "metadata": {
      "needs_background": "light"
     },
     "output_type": "display_data"
    },
    {
     "data": {
      "image/png": "[encoded data removed]",
      "text/plain": [
       "<Figure size 432x288 with 1 Axes>"
      ]
     },
     "metadata": {
      "needs_background": "light"
     },
     "output_type": "display_data"
    }
   ],
   "source": [
    "import math\n",
    "import matplotlib.pyplot as plt\n",
    "import numpy as np\n",
    "x1 = int(input(\"введите начало координат: \"))\n",
    "x2 = int(input(\"введите конец координат: \"))\n",
    "x3 = int(input(\"количество точек на координатной плоскости: \"))\n",
    "def f1(x1, x2, x3):\n",
    "    #F(x) = x**2 - 6\n",
    "    fig, ax = plt.subplots() #создание окна\n",
    "    x = np.linspace(x1, x2, x3)\n",
    "    y = x**2 - 6\n",
    "    ax = ax.plot(x,y)\n",
    "    plt.show() #вывод на экран\n",
    "def f2(x1, x2, x3):\n",
    "    #F(x) = 7*x + 3\n",
    "    fig, ax = plt.subplots() #создание окна\n",
    "    x = np.linspace(x1, x2, x3)\n",
    "    y = 7*x + 3\n",
    "    ax = ax.plot(x,y)\n",
    "    plt.show() #вывод на экран\n",
    "f1(x1, x2, x3)\n",
    "f2(x1, x2, x3)"
   ]
  },
  {
   "cell_type": "code",
   "execution_count": 7,
   "id": "focused-fight",
   "metadata": {},
   "outputs": [
    {
     "name": "stdout",
     "output_type": "stream",
     "text": [
      "28\n",
      "18\n",
      "46\n"
     ]
    }
   ],
   "source": [
    "def F(n):\n",
    "    print((n+1) * (n-2))\n",
    "    return (n+1) * (n-2)\n",
    "n = 7\n",
    "F = int(F(n-1)) + int(F(n-2))\n",
    "print(F)"
   ]
  },
  {
   "cell_type": "code",
   "execution_count": 3,
   "id": "dimensional-chancellor",
   "metadata": {},
   "outputs": [
    {
     "name": "stdout",
     "output_type": "stream",
     "text": [
      "введите колличество букв для вывода: 5\n",
      "['a', 'b', 'c', 'd', 'e']\n"
     ]
    }
   ],
   "source": [
    "alf = ['a','b','c',\"d\",'e','f','g','h','i','j','k','l','m','n','o','p','q','r','s','t','u','v','w','x','y','z']\n",
    "n = int(input(\"введите колличество букв для вывода: \"))\n",
    "print(alf[:n])"
   ]
  },
  {
   "cell_type": "code",
   "execution_count": 7,
   "id": "critical-greensboro",
   "metadata": {},
   "outputs": [
    {
     "name": "stdout",
     "output_type": "stream",
     "text": [
      "введите размер массива: 4\n",
      "й\n",
      "ц\n",
      "ку\n",
      "е\n",
      "['й', 'ц', 'ку', 'е']\n"
     ]
    }
   ],
   "source": [
    "# n = int(input(\"введите размер массива: \"))\n",
    "A = [str(input()) for i in range(int(input(\"введите размер массива: \")))]\n",
    "print(A)-"
   ]
  },
  {
   "cell_type": "code",
   "execution_count": 2,
   "id": "atlantic-excitement",
   "metadata": {},
   "outputs": [
    {
     "name": "stdout",
     "output_type": "stream",
     "text": [
      "0\n",
      "1\n",
      "2\n",
      "3\n",
      "--- 0.0 seconds ---\n"
     ]
    }
   ],
   "source": [
    "import time\n",
    "start_time = time.time()\n",
    "for i in range(4):\n",
    "    print(i)\n",
    "print(\"--- %s seconds ---\" % (time.time() - start_time))"
   ]
  },
  {
   "cell_type": "code",
   "execution_count": 11,
   "id": "visible-execution",
   "metadata": {},
   "outputs": [
    {
     "name": "stdout",
     "output_type": "stream",
     "text": [
      "[67, 44, 25, 10, -1, -8, -11, -10, -5, 4, 17, 34, 55, 80, 109, 142, 179, 220, 265, 314]\n",
      "20\n",
      "--- 0.000993490219116211 seconds ---\n",
      "[11, 9, 7, 5, 3, 3, 3, 3, 5, 7, 9, 11, 13, 15, 17, 19, 21, 23, 25, 27]\n",
      "20\n",
      "--- 0.0 seconds ---\n",
      "--- 0.000993490219116211 seconds ---\n",
      "[11, 9, 7, 5, 3, 3, 3, 3, 5, 7, 9, 11, 13, 15, 17, 19, 21, 23, 25, 27]\n",
      "20\n",
      "--- 0.0069539546966552734 seconds ---\n",
      "[67, 44, 25, 10, -1, -8, -11, -10, -5, 4, 17, 34, 55, 80, 109, 142, 179, 220, 265, 314]\n",
      "20\n",
      "--- 0.005959510803222656 seconds ---\n"
     ]
    }
   ],
   "source": [
    "# Один поток выводит на печать список значений функции y=|x+1|+|x-2|, другой - спикок значений функции y=2x2 – 5x – 8.\n",
    "# Диапазон значений аргумента – от -5 до 15, шаг приращения аргумента 1\n",
    "import time\n",
    "def function1(x1,x2):\n",
    "    start_time = time.time()\n",
    "    spisok1 = [0]*(x2-x1)\n",
    "    i = 0\n",
    "    for x in range(x1, x2+1):\n",
    "        y = abs(x+1)+abs(x-2)\n",
    "        spisok1[i] = y\n",
    "        i += 1\n",
    "        if i == (x2-x1):\n",
    "            break\n",
    "    print(spisok1)\n",
    "    print(i)\n",
    "    print(\"--- %s seconds ---\" % (time.time() - start_time))\n",
    "#     print(\"{:4d}\".format(A[i][j]), end = \"\")\n",
    "\n",
    "def function2(x1,x2):\n",
    "    start_time = time.time()\n",
    "    spisok2 = [0]*(x2-x1)\n",
    "    i = 0\n",
    "    for x in range(x1, x2+1):\n",
    "        y = 2*x**2-5*x-8\n",
    "        spisok2[i] = y\n",
    "        i += 1\n",
    "        if i == (x2-x1):\n",
    "            break\n",
    "    print(spisok2)\n",
    "    print(i)\n",
    "    print(\"--- %s seconds ---\" % (time.time() - start_time))\n",
    "start_time = time.time()\n",
    "function2(-5,15)\n",
    "function1(-5,15)\n",
    "print(\"--- %s seconds ---\" % (time.time() - start_time))\n",
    "from threading import Thread\n",
    "\n",
    "t1 = Thread(target=function1, args=(-5,15))\n",
    "t2 = Thread(target=function2, args=(-5,15))\n",
    "\n",
    "t1.start()\n",
    "t2.start()\n",
    "t1.join()\n",
    "t2.join()\n"
   ]
  },
  {
   "cell_type": "code",
   "execution_count": null,
   "id": "aerial-syndrome",
   "metadata": {},
   "outputs": [],
   "source": []
  }
 ],
 "metadata": {
  "kernelspec": {
   "display_name": "Python 3 (ipykernel)",
   "language": "python",
   "name": "python3"
  },
  "language_info": {
   "codemirror_mode": {
    "name": "ipython",
    "version": 3
   },
   "file_extension": ".py",
   "mimetype": "text/x-python",
   "name": "python",
   "nbconvert_exporter": "python",
   "pygments_lexer": "ipython3",
   "version": "3.8.7"
  }
 },
 "nbformat": 4,
 "nbformat_minor": 5
}
