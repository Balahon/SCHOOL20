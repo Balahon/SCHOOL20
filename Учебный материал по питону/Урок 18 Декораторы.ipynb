{
 "cells": [
  {
   "cell_type": "code",
   "execution_count": 2,
   "id": "0212c7b7",
   "metadata": {},
   "outputs": [
    {
     "name": "stdout",
     "output_type": "stream",
     "text": [
      "пример 1\n"
     ]
    }
   ],
   "source": [
    "def x1():\n",
    "    print(\"пример 1\")\n",
    "x1()"
   ]
  },
  {
   "cell_type": "code",
   "execution_count": 4,
   "id": "c8f6692d",
   "metadata": {},
   "outputs": [
    {
     "data": {
      "text/plain": [
       "<function __main__.x1()>"
      ]
     },
     "execution_count": 4,
     "metadata": {},
     "output_type": "execute_result"
    }
   ],
   "source": [
    "x2 = x1\n",
    "x2"
   ]
  },
  {
   "cell_type": "code",
   "execution_count": 5,
   "id": "2f9de0bc",
   "metadata": {},
   "outputs": [
    {
     "name": "stdout",
     "output_type": "stream",
     "text": [
      "пример 1\n"
     ]
    }
   ],
   "source": [
    "x2()"
   ]
  },
  {
   "cell_type": "code",
   "execution_count": 6,
   "id": "d6a75b08",
   "metadata": {},
   "outputs": [],
   "source": [
    "def x1():\n",
    "    def x2():\n",
    "        print('пример 2')\n",
    "    return x2"
   ]
  },
  {
   "cell_type": "code",
   "execution_count": 7,
   "id": "0a93ebc8",
   "metadata": {},
   "outputs": [
    {
     "name": "stdout",
     "output_type": "stream",
     "text": [
      "пример 1\n"
     ]
    }
   ],
   "source": [
    "x3 = x2()\n",
    "x3"
   ]
  },
  {
   "cell_type": "markdown",
   "id": "796ba688",
   "metadata": {},
   "source": [
    "# декоратор — это функция, которая принимает функцию, делает что-то и возвращает другую функцию."
   ]
  },
  {
   "cell_type": "code",
   "execution_count": 8,
   "id": "1e74d8c3",
   "metadata": {},
   "outputs": [
    {
     "name": "stdout",
     "output_type": "stream",
     "text": [
      "Hi\n"
     ]
    }
   ],
   "source": [
    "def say_something(func): #функция, вызова функции (прописываем название функции)\n",
    "    func() #вызываем на исполнение функцию\n",
    "def hi():\n",
    "    print('Hi')\n",
    "say_something(hi)"
   ]
  },
  {
   "cell_type": "code",
   "execution_count": 14,
   "id": "39bcb39b",
   "metadata": {},
   "outputs": [],
   "source": [
    "def log_decorator(func):  # описание декоратора\n",
    "    def wrap():\n",
    "        print(f'вызывает функцию {func}')\n",
    "        func()\n",
    "        print(f\"функция {func} закончила работу\")\n",
    "    return wrap"
   ]
  },
  {
   "cell_type": "code",
   "execution_count": 15,
   "id": "87f82ec0",
   "metadata": {},
   "outputs": [],
   "source": [
    "def hello():\n",
    "    print('hello, world')"
   ]
  },
  {
   "cell_type": "code",
   "execution_count": 16,
   "id": "8b79feab",
   "metadata": {},
   "outputs": [
    {
     "name": "stdout",
     "output_type": "stream",
     "text": [
      "вызывает функцию <function hello at 0x000001CF6ABBB5E0>\n",
      "hello, world\n",
      "функция <function hello at 0x000001CF6ABBB5E0> закончила работу\n"
     ]
    }
   ],
   "source": [
    "wrapped_by_logger = log_decorator(hello)\n",
    "wrapped_by_logger()"
   ]
  },
  {
   "cell_type": "code",
   "execution_count": 12,
   "id": "f142b98d",
   "metadata": {},
   "outputs": [],
   "source": [
    "@log_decorator\n",
    "def hello():\n",
    "    print('hello')"
   ]
  },
  {
   "cell_type": "code",
   "execution_count": 13,
   "id": "bc02c26f",
   "metadata": {},
   "outputs": [
    {
     "name": "stdout",
     "output_type": "stream",
     "text": [
      "Clling func <function hello at 0x000001CF69BF6550>\n",
      "hello\n",
      "func <function hello at 0x000001CF69BF6550> finished its work\n"
     ]
    }
   ],
   "source": [
    "hello()"
   ]
  },
  {
   "cell_type": "code",
   "execution_count": 18,
   "id": "af1f64f7",
   "metadata": {},
   "outputs": [],
   "source": [
    "def decorator(func):\n",
    "    '''Основная функция'''\n",
    "    print('декоратор')\n",
    "    def wrapper():\n",
    "        print('-- до функции', func.__name__)\n",
    "        func()\n",
    "        print('-- после функции', func.__name__)\n",
    "    return wrapper"
   ]
  },
  {
   "cell_type": "code",
   "execution_count": 21,
   "id": "4fa4ebd9",
   "metadata": {},
   "outputs": [
    {
     "name": "stdout",
     "output_type": "stream",
     "text": [
      "декоратор\n",
      "-- до функции hi\n",
      "Привет\n",
      "-- после функции hi\n"
     ]
    }
   ],
   "source": [
    "def hi():\n",
    "    print(\"Привет\")\n",
    "a = decorator(hi)\n",
    "a()"
   ]
  },
  {
   "cell_type": "code",
   "execution_count": null,
   "id": "1d567bdc",
   "metadata": {},
   "outputs": [],
   "source": [
    "@decorator\n",
    "def wrapped():\n",
    "    print('--- обернутая функция')\n",
    "\n",
    "print('- старт программы...')\n",
    "wrapped()\n",
    "print('- конец программы')"
   ]
  },
  {
   "cell_type": "code",
   "execution_count": 43,
   "id": "8916658b",
   "metadata": {},
   "outputs": [],
   "source": [
    "#время вызова и окончания функции \n",
    "# (скорость работы кода/функции)\n",
    "from timeit import default_timer as timer\n",
    "import math\n",
    "import time\n",
    "def measure_time(func):\n",
    "    def inner(*args, **kwargs):\n",
    "        start = timer()\n",
    "        func(*args, **kwargs)\n",
    "        end = timer()\n",
    "        print(f\"функция {func.__name__} рботала {end-start}\")\n",
    "    return inner"
   ]
  },
  {
   "cell_type": "code",
   "execution_count": 50,
   "id": "3cdd3fbb",
   "metadata": {},
   "outputs": [],
   "source": [
    "@measure_time\n",
    "def factorial(num):\n",
    "    time.sleep(3) # притормозим время выполнения\n",
    "    print(math.factorial(num))"
   ]
  },
  {
   "cell_type": "code",
   "execution_count": 51,
   "id": "59fb07bc",
   "metadata": {},
   "outputs": [
    {
     "name": "stdout",
     "output_type": "stream",
     "text": [
      "93326215443944152681699238856266700490715968264381621468592963895217599993229915608941463976156518286253697920827223758251185210916864000000000000000000000000\n",
      "функция factorial рботала 3.0074799000003622\n"
     ]
    }
   ],
   "source": [
    "factorial(100)"
   ]
  },
  {
   "cell_type": "code",
   "execution_count": null,
   "id": "cc37d222",
   "metadata": {},
   "outputs": [],
   "source": []
  }
 ],
 "metadata": {
  "kernelspec": {
   "display_name": "Python 3 (ipykernel)",
   "language": "python",
   "name": "python3"
  },
  "language_info": {
   "codemirror_mode": {
    "name": "ipython",
    "version": 3
   },
   "file_extension": ".py",
   "mimetype": "text/x-python",
   "name": "python",
   "nbconvert_exporter": "python",
   "pygments_lexer": "ipython3",
   "version": "3.8.7"
  }
 },
 "nbformat": 4,
 "nbformat_minor": 5
}
