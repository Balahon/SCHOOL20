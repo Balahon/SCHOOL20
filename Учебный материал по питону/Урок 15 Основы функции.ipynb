{
 "cells": [
  {
   "cell_type": "code",
   "execution_count": 1,
   "id": "a52ca98b",
   "metadata": {},
   "outputs": [],
   "source": [
    "def f1():\n",
    "    '''\n",
    "    показывается при функции help\n",
    "    '''\n",
    "    print(\"lgd\")"
   ]
  },
  {
   "cell_type": "code",
   "execution_count": 3,
   "id": "41d772fb",
   "metadata": {},
   "outputs": [
    {
     "name": "stdout",
     "output_type": "stream",
     "text": [
      "lgd\n"
     ]
    }
   ],
   "source": [
    "f1()"
   ]
  },
  {
   "cell_type": "code",
   "execution_count": 4,
   "id": "faf15ecf",
   "metadata": {},
   "outputs": [
    {
     "name": "stdout",
     "output_type": "stream",
     "text": [
      "Help on function f1 in module __main__:\n",
      "\n",
      "f1()\n",
      "    dewdqewdew\n",
      "\n"
     ]
    }
   ],
   "source": [
    "help(f1)"
   ]
  },
  {
   "cell_type": "code",
   "execution_count": 5,
   "id": "af7fdb31",
   "metadata": {},
   "outputs": [],
   "source": [
    "def f2(name):\n",
    "    print(name)"
   ]
  },
  {
   "cell_type": "code",
   "execution_count": 7,
   "id": "c291297a",
   "metadata": {},
   "outputs": [
    {
     "name": "stdout",
     "output_type": "stream",
     "text": [
      "Yura\n"
     ]
    }
   ],
   "source": [
    "f2('Yura')"
   ]
  },
  {
   "cell_type": "code",
   "execution_count": 10,
   "id": "bb894a94",
   "metadata": {},
   "outputs": [],
   "source": [
    "def f3(name):\n",
    "    return 'hi ' + name"
   ]
  },
  {
   "cell_type": "code",
   "execution_count": 11,
   "id": "516fe436",
   "metadata": {},
   "outputs": [
    {
     "data": {
      "text/plain": [
       "'hi Yura'"
      ]
     },
     "execution_count": 11,
     "metadata": {},
     "output_type": "execute_result"
    }
   ],
   "source": [
    "f3(\"Yura\")"
   ]
  },
  {
   "cell_type": "code",
   "execution_count": 12,
   "id": "09d15c9d",
   "metadata": {},
   "outputs": [
    {
     "name": "stdout",
     "output_type": "stream",
     "text": [
      "True\n",
      "False\n"
     ]
    }
   ],
   "source": [
    "def f4(text):\n",
    "    return text == text[::-1]\n",
    "print(f4(\"aabaa\"))\n",
    "print(f4('aabba'))"
   ]
  },
  {
   "cell_type": "code",
   "execution_count": 15,
   "id": "084ed2a9",
   "metadata": {},
   "outputs": [],
   "source": [
    "def f5(p1,p2,p3):\n",
    "    return sum((p1,p2,p3)) * 0.06"
   ]
  },
  {
   "cell_type": "code",
   "execution_count": 16,
   "id": "7b8d3f10",
   "metadata": {},
   "outputs": [
    {
     "data": {
      "text/plain": [
       "0.6"
      ]
     },
     "execution_count": 16,
     "metadata": {},
     "output_type": "execute_result"
    }
   ],
   "source": [
    "f5(1,3,6)"
   ]
  },
  {
   "cell_type": "code",
   "execution_count": 17,
   "id": "fe7db582",
   "metadata": {},
   "outputs": [],
   "source": [
    "def f6(*args):\n",
    "    for x in args:\n",
    "        print(f'Плата = {x}')\n",
    "    return sum(args) * 0.06"
   ]
  },
  {
   "cell_type": "code",
   "execution_count": 19,
   "id": "e3e36da8",
   "metadata": {},
   "outputs": [
    {
     "name": "stdout",
     "output_type": "stream",
     "text": [
      "Плата = 10\n",
      "Плата = 20\n",
      "Плата = 45\n"
     ]
    },
    {
     "data": {
      "text/plain": [
       "4.5"
      ]
     },
     "execution_count": 19,
     "metadata": {},
     "output_type": "execute_result"
    }
   ],
   "source": [
    "f6(10,20,45)"
   ]
  },
  {
   "cell_type": "code",
   "execution_count": 20,
   "id": "58b667c2",
   "metadata": {},
   "outputs": [],
   "source": [
    "def f7(**kwargs):\n",
    "    for k, v in kwargs.items():\n",
    "        print(f'Игрок {k} имеет рэйтинг {v}')"
   ]
  },
  {
   "cell_type": "code",
   "execution_count": 21,
   "id": "7affefcc",
   "metadata": {},
   "outputs": [
    {
     "name": "stdout",
     "output_type": "stream",
     "text": [
      "Игрок Calv имеет рэйтинг 243242\n",
      "Игрок Пафвп имеет рэйтинг 2345\n"
     ]
    }
   ],
   "source": [
    "f7(Calv = 243242, Пафвп = 2345)"
   ]
  },
  {
   "cell_type": "code",
   "execution_count": null,
   "id": "b1a9f013",
   "metadata": {},
   "outputs": [],
   "source": []
  }
 ],
 "metadata": {
  "kernelspec": {
   "display_name": "Python 3 (ipykernel)",
   "language": "python",
   "name": "python3"
  },
  "language_info": {
   "codemirror_mode": {
    "name": "ipython",
    "version": 3
   },
   "file_extension": ".py",
   "mimetype": "text/x-python",
   "name": "python",
   "nbconvert_exporter": "python",
   "pygments_lexer": "ipython3",
   "version": "3.8.7"
  }
 },
 "nbformat": 4,
 "nbformat_minor": 5
}
