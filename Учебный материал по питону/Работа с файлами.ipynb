{
 "cells": [
  {
   "cell_type": "code",
   "execution_count": 1,
   "id": "875c9f21",
   "metadata": {},
   "outputs": [
    {
     "data": {
      "text/plain": [
       "'C:\\\\Users\\\\Balah\\\\Учебный материал по питону'"
      ]
     },
     "execution_count": 1,
     "metadata": {},
     "output_type": "execute_result"
    }
   ],
   "source": [
    "pwd #указывает текущую директорию"
   ]
  },
  {
   "cell_type": "code",
   "execution_count": 2,
   "id": "26e147f0",
   "metadata": {},
   "outputs": [],
   "source": [
    "#создаем txt файл"
   ]
  },
  {
   "cell_type": "code",
   "execution_count": 3,
   "id": "198119d8",
   "metadata": {},
   "outputs": [
    {
     "name": "stdout",
     "output_type": "stream",
     "text": [
      "Overwriting sample.txt\n"
     ]
    }
   ],
   "source": [
    "%%writefile sample.txt \n",
    "Name|Phone\n",
    "Jone;231\n",
    "Bob;1234\n",
    "Alice;5413"
   ]
  },
  {
   "cell_type": "code",
   "execution_count": 4,
   "id": "72a7e652",
   "metadata": {},
   "outputs": [
    {
     "data": {
      "text/plain": [
       "<_io.TextIOWrapper name='sample.txt' mode='r' encoding='cp1251'>"
      ]
     },
     "execution_count": 4,
     "metadata": {},
     "output_type": "execute_result"
    }
   ],
   "source": [
    "file = open('sample.txt')\n",
    "file"
   ]
  },
  {
   "cell_type": "code",
   "execution_count": 5,
   "id": "62719fb5",
   "metadata": {},
   "outputs": [
    {
     "name": "stdout",
     "output_type": "stream",
     "text": [
      "<class 'str'>\n",
      "Name|Phone\n",
      "Jone;231\n",
      "Bob;1234\n",
      "Alice;5413\n",
      "\n"
     ]
    }
   ],
   "source": [
    "data = file.read()\n",
    "print(type(data))\n",
    "print(data) #в виде строки"
   ]
  },
  {
   "cell_type": "code",
   "execution_count": 6,
   "id": "4ad980ac",
   "metadata": {},
   "outputs": [
    {
     "name": "stdout",
     "output_type": "stream",
     "text": [
      "Name|Phone\n",
      "Jone;231\n",
      "Bob;1234\n",
      "Alice;5413\n",
      "\n"
     ]
    }
   ],
   "source": [
    "print(data)"
   ]
  },
  {
   "cell_type": "code",
   "execution_count": 7,
   "id": "a534360d",
   "metadata": {},
   "outputs": [
    {
     "name": "stdout",
     "output_type": "stream",
     "text": [
      "\n"
     ]
    }
   ],
   "source": [
    "print(file.read()) #выдаст ничего, курсор находится в концефайла"
   ]
  },
  {
   "cell_type": "code",
   "execution_count": 8,
   "id": "e674aecb",
   "metadata": {},
   "outputs": [
    {
     "name": "stdout",
     "output_type": "stream",
     "text": [
      "Name|Phone\n",
      "Jone;231\n",
      "Bob;1234\n",
      "Alice;5413\n",
      "\n"
     ]
    }
   ],
   "source": [
    "file.seek(0) #перетащим курсор в начало файла\n",
    "print(file.read())"
   ]
  },
  {
   "cell_type": "code",
   "execution_count": 9,
   "id": "3923484d",
   "metadata": {},
   "outputs": [
    {
     "data": {
      "text/plain": [
       "0"
      ]
     },
     "execution_count": 9,
     "metadata": {},
     "output_type": "execute_result"
    }
   ],
   "source": [
    "file.seek(0)"
   ]
  },
  {
   "cell_type": "code",
   "execution_count": 10,
   "id": "0ad5a151",
   "metadata": {},
   "outputs": [
    {
     "name": "stdout",
     "output_type": "stream",
     "text": [
      "<class 'list'>\n",
      "['Name|Phone\\n', 'Jone;231\\n', 'Bob;1234\\n', 'Alice;5413\\n']\n"
     ]
    }
   ],
   "source": [
    "lines = file.readlines()\n",
    "print(type(lines))\n",
    "print(lines) # список из 4 строк"
   ]
  },
  {
   "cell_type": "code",
   "execution_count": 11,
   "id": "9572d58a",
   "metadata": {},
   "outputs": [],
   "source": [
    "sample_file = open(r'C:\\Users\\Balah\\Учебный материал по питону\\sample.txt')"
   ]
  },
  {
   "cell_type": "code",
   "execution_count": 12,
   "id": "5b01a4ad",
   "metadata": {},
   "outputs": [],
   "source": [
    "file.close()\n",
    "sample_file.close()"
   ]
  },
  {
   "cell_type": "code",
   "execution_count": 13,
   "id": "e6bf6077",
   "metadata": {},
   "outputs": [
    {
     "name": "stdout",
     "output_type": "stream",
     "text": [
      "True\n",
      "True\n"
     ]
    }
   ],
   "source": [
    "print(file.closed)\n",
    "print(sample_file.closed) #проверка на закрытие файла"
   ]
  },
  {
   "cell_type": "code",
   "execution_count": 14,
   "id": "2d6a5516",
   "metadata": {},
   "outputs": [],
   "source": [
    "with open('sample.txt') as sampe_file:\n",
    "    sample_data = sampe_file.read()"
   ]
  },
  {
   "cell_type": "code",
   "execution_count": 15,
   "id": "b7427536",
   "metadata": {},
   "outputs": [
    {
     "name": "stdout",
     "output_type": "stream",
     "text": [
      "Name|Phone\n",
      "Jone;231\n",
      "Bob;1234\n",
      "Alice;5413\n",
      "\n"
     ]
    }
   ],
   "source": [
    "print(sample_data)"
   ]
  },
  {
   "cell_type": "markdown",
   "id": "8a52cd1f",
   "metadata": {},
   "source": [
    "# File Modes\n",
    "    mode = 'r' - только читает \n",
    "    mode = 'w' - только записывает\n",
    "    mode = 'a' - добавляет в конец файла\n",
    "    mode = 'r+' - читает и записывает (уже созданный файл)\n",
    "    mode = 'w+' - читает и записывает(создает файл)"
   ]
  },
  {
   "cell_type": "code",
   "execution_count": 16,
   "id": "9583b36a",
   "metadata": {},
   "outputs": [],
   "source": [
    "with open('sample.txt', mode = 'a') as sample_file:\n",
    "    sample_file.write('Eric;2312')"
   ]
  },
  {
   "cell_type": "code",
   "execution_count": 22,
   "id": "f74c7b32",
   "metadata": {},
   "outputs": [
    {
     "name": "stdout",
     "output_type": "stream",
     "text": [
      "Name|Phone\n",
      "Jone;231\n",
      "Bob;1234\n",
      "Alice;5413\n",
      "Eric;2312\n"
     ]
    }
   ],
   "source": [
    "with open('sample.txt', mode = 'r') as sample_file:\n",
    "    print(sample_file.read())"
   ]
  },
  {
   "cell_type": "code",
   "execution_count": 28,
   "id": "92731d27",
   "metadata": {},
   "outputs": [
    {
     "name": "stdout",
     "output_type": "stream",
     "text": [
      "Name|Phone\n",
      "Jone;231\n",
      "Bob;1234\n",
      "Alice;5413\n",
      "Eric;2312Eddi;1312Eddi;1312/nEddi;1312\n",
      "Eddi;1312\n"
     ]
    }
   ],
   "source": [
    "with open('sample.txt', mode = 'r+') as sample_file:\n",
    "    sample_file.seek(0, 2) #перемещает курсор на конец файла\n",
    "# (0,0) - c начала\n",
    "# (0,1) = относительно текущего состояния курсора\n",
    "    sample_file.write(\"\\nEddi;1312\")\n",
    "    sample_file.seek(0)\n",
    "    print(sample_file.read())"
   ]
  },
  {
   "cell_type": "code",
   "execution_count": 33,
   "id": "887d31fb",
   "metadata": {},
   "outputs": [
    {
     "name": "stdout",
     "output_type": "stream",
     "text": [
      "abuyz\n"
     ]
    }
   ],
   "source": [
    "with open('primerw+.txt', mode = 'w+') as primer_file:\n",
    "    primer_file.write(\"abuyz\")\n",
    "    primer_file.seek(0)\n",
    "    print(primer_file.read())"
   ]
  },
  {
   "cell_type": "code",
   "execution_count": 34,
   "id": "dc2b095a",
   "metadata": {},
   "outputs": [
    {
     "name": "stdout",
     "output_type": "stream",
     "text": [
      "abuyz\n",
      "abuyz\n"
     ]
    }
   ],
   "source": [
    "with open('primerw+.txt', mode = 'r+') as primer_file:\n",
    "    primer_file.seek(0,2)\n",
    "    primer_file.write(\"\\nabuyz\")\n",
    "    primer_file.seek(0)\n",
    "    print(primer_file.read())"
   ]
  }
 ],
 "metadata": {
  "kernelspec": {
   "display_name": "Python 3 (ipykernel)",
   "language": "python",
   "name": "python3"
  },
  "language_info": {
   "codemirror_mode": {
    "name": "ipython",
    "version": 3
   },
   "file_extension": ".py",
   "mimetype": "text/x-python",
   "name": "python",
   "nbconvert_exporter": "python",
   "pygments_lexer": "ipython3",
   "version": "3.8.7"
  }
 },
 "nbformat": 4,
 "nbformat_minor": 5
}
