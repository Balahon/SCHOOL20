{
 "cells": [
  {
   "cell_type": "markdown",
   "id": "f35a18f7",
   "metadata": {},
   "source": [
    "# Пропишем тестировщик файла FizzBuzz"
   ]
  },
  {
   "cell_type": "markdown",
   "id": "988f1391",
   "metadata": {},
   "source": [
    "Для тестирования создаем 2 файла с помощью блокнота\n",
    "и сохраняем с расширением .py\n",
    "превый называем fizz_buzz.py и прописываем функцию,\n",
    "которую будем проверять.\n",
    "втрой называем fizz_buzz_tests.py и прописываем класс.\n",
    "после чего через командную строку вызываем fizz_buzz_tests.py\n",
    "python fizz_buzz_tests.py"
   ]
  },
  {
   "cell_type": "code",
   "execution_count": null,
   "id": "6bc922f9",
   "metadata": {},
   "outputs": [],
   "source": [
    "# содержимое fizz_buzz\n",
    "def get_reply(number):\n",
    "    if number%5==0 and number%3==0:\n",
    "        return 'FizzBuzz'\n",
    "    elif number%3==0:\n",
    "        return 'Fizz'\n",
    "    elif number%5==0:\n",
    "        return 'Buzz'\n",
    "    else:\n",
    "        return \"\""
   ]
  },
  {
   "cell_type": "code",
   "execution_count": 6,
   "id": "85c05f18",
   "metadata": {},
   "outputs": [
    {
     "ename": "NameError",
     "evalue": "name 'null' is not defined",
     "output_type": "error",
     "traceback": [
      "\u001b[1;31m---------------------------------------------------------------------------\u001b[0m",
      "\u001b[1;31mNameError\u001b[0m                                 Traceback (most recent call last)",
      "\u001b[1;32m~\\AppData\\Local\\Temp/ipykernel_12392/1423461002.py\u001b[0m in \u001b[0;36m<module>\u001b[1;34m\u001b[0m\n\u001b[0;32m      1\u001b[0m \u001b[1;32mimport\u001b[0m \u001b[0munittest\u001b[0m\u001b[1;33m\u001b[0m\u001b[1;33m\u001b[0m\u001b[0m\n\u001b[1;32m----> 2\u001b[1;33m \u001b[1;32mimport\u001b[0m \u001b[0mfizz_buzz\u001b[0m\u001b[1;33m.\u001b[0m\u001b[0mpy\u001b[0m \u001b[1;32mas\u001b[0m \u001b[0mfizzbuzz\u001b[0m\u001b[1;33m\u001b[0m\u001b[1;33m\u001b[0m\u001b[0m\n\u001b[0m\u001b[0;32m      3\u001b[0m \u001b[1;32mclass\u001b[0m \u001b[0mFizzBuzzTests\u001b[0m\u001b[1;33m(\u001b[0m\u001b[0munittest\u001b[0m\u001b[1;33m.\u001b[0m\u001b[0mTestCase\u001b[0m\u001b[1;33m)\u001b[0m\u001b[1;33m:\u001b[0m\u001b[1;33m\u001b[0m\u001b[1;33m\u001b[0m\u001b[0m\n\u001b[0;32m      4\u001b[0m     \u001b[1;32mdef\u001b[0m \u001b[0mtest_fizz\u001b[0m\u001b[1;33m(\u001b[0m\u001b[0mself\u001b[0m\u001b[1;33m)\u001b[0m\u001b[1;33m:\u001b[0m\u001b[1;33m\u001b[0m\u001b[1;33m\u001b[0m\u001b[0m\n\u001b[0;32m      5\u001b[0m         \u001b[0mnumbers\u001b[0m \u001b[1;33m=\u001b[0m \u001b[1;36m6\u001b[0m\u001b[1;33m\u001b[0m\u001b[1;33m\u001b[0m\u001b[0m\n",
      "\u001b[1;32m~\\Учебный материал по питону\\fizz_buzz.py\u001b[0m in \u001b[0;36m<module>\u001b[1;34m\u001b[0m\n\u001b[0;32m      3\u001b[0m   {\n\u001b[0;32m      4\u001b[0m    \u001b[1;34m\"cell_type\"\u001b[0m\u001b[1;33m:\u001b[0m \u001b[1;34m\"code\"\u001b[0m\u001b[1;33m,\u001b[0m\u001b[1;33m\u001b[0m\u001b[1;33m\u001b[0m\u001b[0m\n\u001b[1;32m----> 5\u001b[1;33m    \u001b[1;34m\"execution_count\"\u001b[0m\u001b[1;33m:\u001b[0m \u001b[0mnull\u001b[0m\u001b[1;33m,\u001b[0m\u001b[1;33m\u001b[0m\u001b[1;33m\u001b[0m\u001b[0m\n\u001b[0m\u001b[0;32m      6\u001b[0m    \u001b[1;34m\"id\"\u001b[0m\u001b[1;33m:\u001b[0m \u001b[1;34m\"c786138e\"\u001b[0m\u001b[1;33m,\u001b[0m\u001b[1;33m\u001b[0m\u001b[1;33m\u001b[0m\u001b[0m\n\u001b[0;32m      7\u001b[0m    \u001b[1;34m\"metadata\"\u001b[0m\u001b[1;33m:\u001b[0m \u001b[1;33m{\u001b[0m\u001b[1;33m}\u001b[0m\u001b[1;33m,\u001b[0m\u001b[1;33m\u001b[0m\u001b[1;33m\u001b[0m\u001b[0m\n",
      "\u001b[1;31mNameError\u001b[0m: name 'null' is not defined"
     ]
    }
   ],
   "source": [
    "# содержимое  fizz_buzz_tests\n",
    "import unittest\n",
    "import fizz_buzz\n",
    "class FizzBuzzTests(unittest.TestCase):\n",
    "    def test_fizz(self):\n",
    "        number = 6\n",
    "        result = fizz_buzz.get_reply(number)\n",
    "        self.assertEqual(result,\"Fizz\")\n",
    "    def test_buzz(self):\n",
    "        number = 10\n",
    "        result = fizz_buzz.get_reply(number)\n",
    "        self.assertEqual(result,\"Buzz\")\n",
    "    def test_fizzbuzz(self):\n",
    "        number = 15\n",
    "        result = fizz_buzz.get_reply(number)\n",
    "        self.assertEqual(result,\"FizzBuzz\")\n",
    "if __name__ == \"__main__\":\n",
    "    unittest.main()"
   ]
  }
 ],
 "metadata": {
  "kernelspec": {
   "display_name": "Python 3 (ipykernel)",
   "language": "python",
   "name": "python3"
  },
  "language_info": {
   "codemirror_mode": {
    "name": "ipython",
    "version": 3
   },
   "file_extension": ".py",
   "mimetype": "text/x-python",
   "name": "python",
   "nbconvert_exporter": "python",
   "pygments_lexer": "ipython3",
   "version": "3.8.7"
  }
 },
 "nbformat": 4,
 "nbformat_minor": 5
}
