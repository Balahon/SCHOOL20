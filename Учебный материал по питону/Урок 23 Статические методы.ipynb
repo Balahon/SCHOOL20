{
 "cells": [
  {
   "cell_type": "code",
   "execution_count": 1,
   "id": "9a085f33",
   "metadata": {},
   "outputs": [],
   "source": [
    "class StaticTest:\n",
    "    x = 1"
   ]
  },
  {
   "cell_type": "code",
   "execution_count": 2,
   "id": "8ddb666a",
   "metadata": {},
   "outputs": [],
   "source": [
    "t1 = StaticTest()"
   ]
  },
  {
   "cell_type": "code",
   "execution_count": 3,
   "id": "5cd659fc",
   "metadata": {},
   "outputs": [
    {
     "name": "stdout",
     "output_type": "stream",
     "text": [
      "Via instance: 1\n",
      "Via class: 1\n"
     ]
    }
   ],
   "source": [
    "print(f'Via instance: {t1.x}')\n",
    "print(f'Via class: {StaticTest.x}')"
   ]
  },
  {
   "cell_type": "code",
   "execution_count": 4,
   "id": "74d14f63",
   "metadata": {},
   "outputs": [],
   "source": [
    "t1.x = 2 #создает атрибут на уровне инстанции"
   ]
  },
  {
   "cell_type": "code",
   "execution_count": 5,
   "id": "7fabcbda",
   "metadata": {
    "scrolled": true
   },
   "outputs": [
    {
     "name": "stdout",
     "output_type": "stream",
     "text": [
      "Via instance: 2\n",
      "Via class: 1\n"
     ]
    }
   ],
   "source": [
    "print(f'Via instance: {t1.x}')\n",
    "print(f'Via class: {StaticTest.x}')"
   ]
  },
  {
   "cell_type": "code",
   "execution_count": 6,
   "id": "37730abf",
   "metadata": {},
   "outputs": [],
   "source": [
    "StaticTest.x = 3"
   ]
  },
  {
   "cell_type": "code",
   "execution_count": 7,
   "id": "971c7b03",
   "metadata": {},
   "outputs": [
    {
     "name": "stdout",
     "output_type": "stream",
     "text": [
      "Via instance: 2\n",
      "Via class: 3\n"
     ]
    }
   ],
   "source": [
    "print(f'Via instance: {t1.x}')\n",
    "print(f'Via class: {StaticTest.x}')"
   ]
  },
  {
   "cell_type": "code",
   "execution_count": 23,
   "id": "218eb0f9",
   "metadata": {},
   "outputs": [],
   "source": [
    "class Date:\n",
    "    def __init__(self, month, day, year): #конструктор\n",
    "        self.month = month\n",
    "        self.day = day\n",
    "        self.year = year\n",
    "        \n",
    "    def display(self): #уровень инстанции \n",
    "        return f\"{self.month}-{self.day}-{self.year}\"\n",
    "    #конструктор может быть 1, а методов неограниченно\n",
    "    \n",
    "     #создание статического метода покрытый classmethod\n",
    "#     принимает превым аргументом (cls) информацию о классе\n",
    "# self - интсанция о классе, cls - информация о классе\n",
    "    @classmethod\n",
    "    def millenium_c(cls, month, day):\n",
    "        return cls(month,day,2000)\n",
    "    \n",
    "    # декоратор staticmethod он ничего не принимает\n",
    "    @staticmethod \n",
    "    def millenium_s(month, day):\n",
    "        return Date(month,day, 2000)"
   ]
  },
  {
   "cell_type": "code",
   "execution_count": 24,
   "id": "ffbe9d2b",
   "metadata": {},
   "outputs": [
    {
     "name": "stdout",
     "output_type": "stream",
     "text": [
      "6-9-2000\n",
      "6-9-2000\n"
     ]
    }
   ],
   "source": [
    "d1 = Date.millenium_c(6,9)\n",
    "d2 = Date.millenium_s(6,9)\n",
    "\n",
    "print(d1.display())\n",
    "print(d1.display())\n"
   ]
  },
  {
   "cell_type": "code",
   "execution_count": 30,
   "id": "905361fe",
   "metadata": {},
   "outputs": [],
   "source": [
    "class Date_time(Date):\n",
    "    def display(self):\n",
    "        return f\"{self.month}-{self.day}-{self.year} - 00:00:00PM\""
   ]
  },
  {
   "cell_type": "code",
   "execution_count": 31,
   "id": "c4d4c509",
   "metadata": {},
   "outputs": [
    {
     "name": "stdout",
     "output_type": "stream",
     "text": [
      "True\n",
      "False\n",
      "10-10-1990 - 00:00:00PM\n",
      "10-10-2000\n"
     ]
    }
   ],
   "source": [
    "dt1 = Date_time(10,10,1990)\n",
    "dt2 = Date_time.millenium_s(10,10)\n",
    "#Функция isinstance() вернет True, если проверяемый объект \n",
    "# является экземпляром указанного класса (классов),\n",
    "# или прямым, косвенным или виртуальным подклассом от него.\n",
    "print(isinstance(dt1,Date_time))\n",
    "print(isinstance(dt2,Date_time))\n",
    "print(dt1.display())\n",
    "print(dt2.display())\n",
    "# разница в том что статический метод абстрагирован от класса"
   ]
  },
  {
   "cell_type": "code",
   "execution_count": 33,
   "id": "bb71c4b3",
   "metadata": {
    "scrolled": true
   },
   "outputs": [
    {
     "name": "stdout",
     "output_type": "stream",
     "text": [
      "True\n",
      "True\n",
      "10-10-1990 - 00:00:00PM\n",
      "10-10-2000 - 00:00:00PM\n"
     ]
    }
   ],
   "source": [
    "dt1 = Date_time(10,10,1990)\n",
    "dt2 = Date_time.millenium_c(10,10)\n",
    "print(isinstance(dt1,Date_time))\n",
    "print(isinstance(dt2,Date_time))\n",
    "print(dt1.display())\n",
    "print(dt2.display())"
   ]
  },
  {
   "cell_type": "code",
   "execution_count": 47,
   "id": "b50dbdff",
   "metadata": {},
   "outputs": [],
   "source": [
    "class StrConverter:\n",
    "    @staticmethod\n",
    "    def to_str(bytes_or_str):\n",
    "        if isinstance(bytes_or_str, bytes):\n",
    "            value = bytes_or_str.decorde(\"utf-8\")\n",
    "        else:\n",
    "            value = bytes_or_str\n",
    "            return value\n",
    "    \n",
    "    @staticmethod\n",
    "    def to_bytes(bytes_or_str):\n",
    "        if isinstance(bytes_or_str, str):\n",
    "            value = bytes_or_str.encode(\"utf-8\")\n",
    "        else:\n",
    "            value = bytes_or_str\n",
    "        return value"
   ]
  },
  {
   "cell_type": "code",
   "execution_count": 48,
   "id": "69b28531",
   "metadata": {
    "scrolled": true
   },
   "outputs": [
    {
     "name": "stdout",
     "output_type": "stream",
     "text": [
      "A\n",
      "A\n"
     ]
    }
   ],
   "source": [
    "print(StrConverter.to_str('\\x41'))\n",
    "print(StrConverter.to_str('A'))"
   ]
  },
  {
   "cell_type": "code",
   "execution_count": 49,
   "id": "1184b824",
   "metadata": {},
   "outputs": [
    {
     "name": "stdout",
     "output_type": "stream",
     "text": [
      "b'A'\n",
      "b'A'\n"
     ]
    }
   ],
   "source": [
    "print(StrConverter.to_bytes('\\x41'))\n",
    "print(StrConverter.to_bytes('A'))"
   ]
  },
  {
   "cell_type": "code",
   "execution_count": null,
   "id": "63b03ca2",
   "metadata": {},
   "outputs": [],
   "source": []
  }
 ],
 "metadata": {
  "kernelspec": {
   "display_name": "Python 3 (ipykernel)",
   "language": "python",
   "name": "python3"
  },
  "language_info": {
   "codemirror_mode": {
    "name": "ipython",
    "version": 3
   },
   "file_extension": ".py",
   "mimetype": "text/x-python",
   "name": "python",
   "nbconvert_exporter": "python",
   "pygments_lexer": "ipython3",
   "version": "3.8.7"
  }
 },
 "nbformat": 4,
 "nbformat_minor": 5
}
