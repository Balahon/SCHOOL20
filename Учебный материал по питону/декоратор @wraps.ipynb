{
 "cells": [
  {
   "cell_type": "code",
   "execution_count": 1,
   "id": "95e6daf8",
   "metadata": {},
   "outputs": [],
   "source": [
    "def log_decorator(func):\n",
    "    def wrap():\n",
    "        print(f\"вызов функции {func}\")\n",
    "        func()\n",
    "        print(f\"функция {func} закончила работу\")\n",
    "    return wrap"
   ]
  },
  {
   "cell_type": "code",
   "execution_count": 2,
   "id": "09416ed2",
   "metadata": {},
   "outputs": [],
   "source": [
    "@log_decorator\n",
    "def loool():\n",
    "    print(\"loool\")"
   ]
  },
  {
   "cell_type": "code",
   "execution_count": 4,
   "id": "1568756f",
   "metadata": {},
   "outputs": [
    {
     "name": "stdout",
     "output_type": "stream",
     "text": [
      "вызов функции <function loool at 0x0000010CEA7B0700>\n",
      "loool\n",
      "функция <function loool at 0x0000010CEA7B0700> закончила работу\n"
     ]
    }
   ],
   "source": [
    "loool()"
   ]
  },
  {
   "cell_type": "code",
   "execution_count": 9,
   "id": "3895f0c1",
   "metadata": {},
   "outputs": [
    {
     "name": "stdout",
     "output_type": "stream",
     "text": [
      "Help on function wrap in module __main__:\n",
      "\n",
      "wrap()\n",
      "\n"
     ]
    }
   ],
   "source": [
    "help(loool)"
   ]
  },
  {
   "cell_type": "code",
   "execution_count": 5,
   "id": "c0825db7",
   "metadata": {},
   "outputs": [],
   "source": [
    "from functools import wraps\n",
    "def log_decorator(func):\n",
    "    @wraps(func)\n",
    "    def wrap(*args, **kwargs):\n",
    "        print(f\"вызов функции {func}\")\n",
    "        func(*args, **kwargs)\n",
    "        print(f\"функция {func} закончила работу\")\n",
    "    return wrap"
   ]
  },
  {
   "cell_type": "code",
   "execution_count": 6,
   "id": "ad8d20fe",
   "metadata": {},
   "outputs": [],
   "source": [
    "@log_decorator\n",
    "def hello():\n",
    "    print(\"HI\")"
   ]
  },
  {
   "cell_type": "code",
   "execution_count": 7,
   "id": "4da9c4c8",
   "metadata": {},
   "outputs": [
    {
     "name": "stdout",
     "output_type": "stream",
     "text": [
      "Help on function hello in module __main__:\n",
      "\n",
      "hello()\n",
      "\n"
     ]
    }
   ],
   "source": [
    "help(hello)"
   ]
  },
  {
   "cell_type": "code",
   "execution_count": 8,
   "id": "19484f70",
   "metadata": {},
   "outputs": [
    {
     "name": "stdout",
     "output_type": "stream",
     "text": [
      "вызов функции <function hello at 0x0000010CEA859700>\n",
      "HI\n",
      "функция <function hello at 0x0000010CEA859700> закончила работу\n"
     ]
    }
   ],
   "source": [
    "hello()"
   ]
  }
 ],
 "metadata": {
  "kernelspec": {
   "display_name": "Python 3 (ipykernel)",
   "language": "python",
   "name": "python3"
  },
  "language_info": {
   "codemirror_mode": {
    "name": "ipython",
    "version": 3
   },
   "file_extension": ".py",
   "mimetype": "text/x-python",
   "name": "python",
   "nbconvert_exporter": "python",
   "pygments_lexer": "ipython3",
   "version": "3.8.7"
  }
 },
 "nbformat": 4,
 "nbformat_minor": 5
}
