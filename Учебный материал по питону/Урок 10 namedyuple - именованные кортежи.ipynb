{
 "cells": [
  {
   "cell_type": "code",
   "execution_count": 1,
   "id": "8d4f0424",
   "metadata": {},
   "outputs": [
    {
     "name": "stdout",
     "output_type": "stream",
     "text": [
      "('Carlsen', 1990, 2842)\n"
     ]
    }
   ],
   "source": [
    "players = [('Carlsen', 1990,2842),('Mamedyarov', 1985,2801),('Caruana', 1992,2822)]\n",
    "print(players[0])"
   ]
  },
  {
   "cell_type": "code",
   "execution_count": null,
   "id": "c23ca0e2",
   "metadata": {},
   "outputs": [],
   "source": [
    "# players[0].name выдаст ошибку"
   ]
  },
  {
   "cell_type": "code",
   "execution_count": 8,
   "id": "ea5e4d17",
   "metadata": {},
   "outputs": [],
   "source": [
    "from collections import namedtuple\n",
    "Player = namedtuple('Player', 'name age rating')"
   ]
  },
  {
   "cell_type": "code",
   "execution_count": 12,
   "id": "17ffdef5",
   "metadata": {},
   "outputs": [],
   "source": [
    "players = [Player('Carlsen', 1990,2842),Player('Mamedyarov', 1985,2801),Player('Caruana', 1992,2822)]"
   ]
  },
  {
   "cell_type": "code",
   "execution_count": 13,
   "id": "87a26311",
   "metadata": {},
   "outputs": [
    {
     "data": {
      "text/plain": [
       "Player(name='Carlsen', age=1990, rating=2842)"
      ]
     },
     "execution_count": 13,
     "metadata": {},
     "output_type": "execute_result"
    }
   ],
   "source": [
    "players[0]"
   ]
  },
  {
   "cell_type": "code",
   "execution_count": 14,
   "id": "7b3ce422",
   "metadata": {},
   "outputs": [
    {
     "data": {
      "text/plain": [
       "'Carlsen'"
      ]
     },
     "execution_count": 14,
     "metadata": {},
     "output_type": "execute_result"
    }
   ],
   "source": [
    "players[0].name"
   ]
  },
  {
   "cell_type": "code",
   "execution_count": 16,
   "id": "d45944be",
   "metadata": {},
   "outputs": [
    {
     "name": "stdout",
     "output_type": "stream",
     "text": [
      "Mamedyarov\n",
      "1985\n",
      "2801\n"
     ]
    }
   ],
   "source": [
    "p1 = Player('Mamedyarov', 1985,2801)\n",
    "print(p1.name)\n",
    "print(p1.age)\n",
    "print(p1.rating)"
   ]
  }
 ],
 "metadata": {
  "kernelspec": {
   "display_name": "Python 3 (ipykernel)",
   "language": "python",
   "name": "python3"
  },
  "language_info": {
   "codemirror_mode": {
    "name": "ipython",
    "version": 3
   },
   "file_extension": ".py",
   "mimetype": "text/x-python",
   "name": "python",
   "nbconvert_exporter": "python",
   "pygments_lexer": "ipython3",
   "version": "3.8.7"
  }
 },
 "nbformat": 4,
 "nbformat_minor": 5
}
