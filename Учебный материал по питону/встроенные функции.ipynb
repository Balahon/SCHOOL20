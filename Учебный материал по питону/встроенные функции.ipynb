{
 "cells": [
  {
   "cell_type": "code",
   "execution_count": null,
   "id": "6a5211e0",
   "metadata": {},
   "outputs": [],
   "source": [
    "abs(-1) #модуль"
   ]
  },
  {
   "cell_type": "code",
   "execution_count": null,
   "id": "9b57bfad",
   "metadata": {},
   "outputs": [],
   "source": [
    "max(1,2,3)"
   ]
  },
  {
   "cell_type": "code",
   "execution_count": null,
   "id": "8811fc8e",
   "metadata": {},
   "outputs": [],
   "source": [
    "min(1,2,3)"
   ]
  },
  {
   "cell_type": "code",
   "execution_count": null,
   "id": "013ef73c",
   "metadata": {},
   "outputs": [],
   "source": [
    "pow(2,5) #2 в степени 5"
   ]
  },
  {
   "cell_type": "code",
   "execution_count": 1,
   "id": "1c244b0c",
   "metadata": {},
   "outputs": [
    {
     "data": {
      "text/plain": [
       "3.4"
      ]
     },
     "execution_count": 1,
     "metadata": {},
     "output_type": "execute_result"
    }
   ],
   "source": [
    "round(3.37, 1) # округление"
   ]
  },
  {
   "cell_type": "code",
   "execution_count": 2,
   "id": "978f6c99",
   "metadata": {},
   "outputs": [
    {
     "data": {
      "text/plain": [
       "15"
      ]
     },
     "execution_count": 2,
     "metadata": {},
     "output_type": "execute_result"
    }
   ],
   "source": [
    "sum([1,2,3,4,5])"
   ]
  },
  {
   "cell_type": "code",
   "execution_count": null,
   "id": "8459a542",
   "metadata": {},
   "outputs": [],
   "source": [
    "h = hex(42) # 16 cc\n",
    "o = oct(42) # 8 cc\n",
    "b = bin(42) # 2 cc"
   ]
  },
  {
   "cell_type": "code",
   "execution_count": 7,
   "id": "3d07e014",
   "metadata": {},
   "outputs": [
    {
     "name": "stdout",
     "output_type": "stream",
     "text": [
      "True\n"
     ]
    }
   ],
   "source": [
    "a1 = all([1,1,1])\n",
    "print(a1)"
   ]
  },
  {
   "cell_type": "code",
   "execution_count": 8,
   "id": "a910b718",
   "metadata": {},
   "outputs": [],
   "source": [
    "a2 = [('1',2304), ('2',2345), ('3',2355), ('4',2365) ,('5',2375)]"
   ]
  },
  {
   "cell_type": "code",
   "execution_count": 11,
   "id": "06c1e0d0",
   "metadata": {},
   "outputs": [
    {
     "data": {
      "text/plain": [
       "True"
      ]
     },
     "execution_count": 11,
     "metadata": {},
     "output_type": "execute_result"
    }
   ],
   "source": [
    "all(rating > 2300 for _,rating in a2) # проверка по 2 значению списка"
   ]
  },
  {
   "cell_type": "code",
   "execution_count": 12,
   "id": "60a2bab2",
   "metadata": {},
   "outputs": [
    {
     "data": {
      "text/plain": [
       "False"
      ]
     },
     "execution_count": 12,
     "metadata": {},
     "output_type": "execute_result"
    }
   ],
   "source": [
    "all(rating > 2400 for _,rating in a2) # проверка по 2 значению списка"
   ]
  },
  {
   "cell_type": "code",
   "execution_count": 13,
   "id": "b5fc8854",
   "metadata": {},
   "outputs": [
    {
     "data": {
      "text/plain": [
       "True"
      ]
     },
     "execution_count": 13,
     "metadata": {},
     "output_type": "execute_result"
    }
   ],
   "source": [
    "all([rating > 2300 for _,rating in a2]) # проверка по 2 значению списка"
   ]
  },
  {
   "cell_type": "code",
   "execution_count": 14,
   "id": "9fcc8f7a",
   "metadata": {},
   "outputs": [
    {
     "data": {
      "text/plain": [
       "False"
      ]
     },
     "execution_count": 14,
     "metadata": {},
     "output_type": "execute_result"
    }
   ],
   "source": [
    "any(rating > 2400 for _,rating in a2) # проверка по 2 значению списка"
   ]
  },
  {
   "cell_type": "code",
   "execution_count": 15,
   "id": "e48b0020",
   "metadata": {},
   "outputs": [
    {
     "data": {
      "text/plain": [
       "True"
      ]
     },
     "execution_count": 15,
     "metadata": {},
     "output_type": "execute_result"
    }
   ],
   "source": [
    "all(rating < 2400 for _,rating in a2) # проверка по 2 значению списка"
   ]
  },
  {
   "cell_type": "code",
   "execution_count": 16,
   "id": "c3f10509",
   "metadata": {},
   "outputs": [
    {
     "name": "stdout",
     "output_type": "stream",
     "text": [
      "False\n",
      "True\n"
     ]
    }
   ],
   "source": [
    "a1 = any([False, False, False])\n",
    "a2 = any([True, False, False])\n",
    "print(a1)\n",
    "print(a2)"
   ]
  },
  {
   "cell_type": "code",
   "execution_count": 19,
   "id": "e4fe1ca2",
   "metadata": {},
   "outputs": [
    {
     "name": "stdout",
     "output_type": "stream",
     "text": [
      "<class 'zip'>\n",
      "<zip object at 0x00000214D9D0F900>\n",
      "[('a', 10), ('b', 20), ('c', 30)]\n"
     ]
    }
   ],
   "source": [
    "letters = 'abcd'\n",
    "numb = (10, 20, 30)\n",
    "#Функция zip объединяет в кортежи элементы из последовательностей \n",
    "#переданных в качестве аргументов.\n",
    "zipped = zip(letters, numb)\n",
    "print(type(zipped))\n",
    "print(zipped)\n",
    "\n",
    "zipped_list = list(zipped)\n",
    "print(zipped_list)"
   ]
  },
  {
   "cell_type": "code",
   "execution_count": 20,
   "id": "e172508f",
   "metadata": {},
   "outputs": [
    {
     "data": {
      "text/plain": [
       "{'A': 1, 'B': 2, 'C': 3, 'D': 4, 'E': 5}"
      ]
     },
     "execution_count": 20,
     "metadata": {},
     "output_type": "execute_result"
    }
   ],
   "source": [
    "numbers = ['A','B','C','D','E']\n",
    "rat = [1,2,3,4,5,6]\n",
    "pl = dict(zip(numbers, rat))\n",
    "pl"
   ]
  },
  {
   "cell_type": "code",
   "execution_count": 21,
   "id": "05eb3d15",
   "metadata": {},
   "outputs": [
    {
     "data": {
      "text/plain": [
       "97"
      ]
     },
     "execution_count": 21,
     "metadata": {},
     "output_type": "execute_result"
    }
   ],
   "source": [
    "code = ord('a')\n",
    "code"
   ]
  },
  {
   "cell_type": "code",
   "execution_count": null,
   "id": "1921194f",
   "metadata": {},
   "outputs": [],
   "source": []
  }
 ],
 "metadata": {
  "kernelspec": {
   "display_name": "Python 3 (ipykernel)",
   "language": "python",
   "name": "python3"
  },
  "language_info": {
   "codemirror_mode": {
    "name": "ipython",
    "version": 3
   },
   "file_extension": ".py",
   "mimetype": "text/x-python",
   "name": "python",
   "nbconvert_exporter": "python",
   "pygments_lexer": "ipython3",
   "version": "3.8.7"
  }
 },
 "nbformat": 4,
 "nbformat_minor": 5
}
