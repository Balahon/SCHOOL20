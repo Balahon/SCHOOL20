{
 "cells": [
  {
   "cell_type": "code",
   "execution_count": 3,
   "id": "0cd97eea",
   "metadata": {},
   "outputs": [],
   "source": [
    "class Character():\n",
    "    def __init__(self, actual_race): #определение конструктор\n",
    "        self.character_race = actual_race"
   ]
  },
  {
   "cell_type": "code",
   "execution_count": 5,
   "id": "eaa63c3d",
   "metadata": {},
   "outputs": [
    {
     "data": {
      "text/plain": [
       "__main__.Character"
      ]
     },
     "execution_count": 5,
     "metadata": {},
     "output_type": "execute_result"
    }
   ],
   "source": [
    "unit = Character('Elf')\n",
    "type(unit)"
   ]
  },
  {
   "cell_type": "code",
   "execution_count": 6,
   "id": "dc2ad1cd",
   "metadata": {},
   "outputs": [
    {
     "data": {
      "text/plain": [
       "'Elf'"
      ]
     },
     "execution_count": 6,
     "metadata": {},
     "output_type": "execute_result"
    }
   ],
   "source": [
    "unit.character_race"
   ]
  },
  {
   "cell_type": "code",
   "execution_count": 7,
   "id": "d0a771be",
   "metadata": {},
   "outputs": [],
   "source": [
    "class Character():\n",
    "    def __init__(self, race): #определение конструктор\n",
    "        self.race = race"
   ]
  },
  {
   "cell_type": "code",
   "execution_count": 8,
   "id": "4ec47625",
   "metadata": {},
   "outputs": [
    {
     "data": {
      "text/plain": [
       "__main__.Character"
      ]
     },
     "execution_count": 8,
     "metadata": {},
     "output_type": "execute_result"
    }
   ],
   "source": [
    "unit = Character('Elf')\n",
    "type(unit)"
   ]
  },
  {
   "cell_type": "code",
   "execution_count": 9,
   "id": "1d41e920",
   "metadata": {},
   "outputs": [
    {
     "data": {
      "text/plain": [
       "'Elf'"
      ]
     },
     "execution_count": 9,
     "metadata": {},
     "output_type": "execute_result"
    }
   ],
   "source": [
    "unit.race"
   ]
  },
  {
   "cell_type": "code",
   "execution_count": 10,
   "id": "5f147af6",
   "metadata": {},
   "outputs": [],
   "source": [
    "class Character():\n",
    "    def __init__(self, race,damage=10, armor=20): #определение конструктор\n",
    "        self.race = race\n",
    "        self.damage = damage\n",
    "        self.armor = armor"
   ]
  },
  {
   "cell_type": "code",
   "execution_count": 11,
   "id": "a63b9683",
   "metadata": {},
   "outputs": [
    {
     "data": {
      "text/plain": [
       "__main__.Character"
      ]
     },
     "execution_count": 11,
     "metadata": {},
     "output_type": "execute_result"
    }
   ],
   "source": [
    "unit = Character('Elf',damage=20,armor=20)\n",
    "type(unit)"
   ]
  },
  {
   "cell_type": "code",
   "execution_count": 13,
   "id": "e42d1365",
   "metadata": {},
   "outputs": [
    {
     "name": "stdout",
     "output_type": "stream",
     "text": [
      "Elf\n",
      "20\n",
      "20\n"
     ]
    }
   ],
   "source": [
    "print(unit.race)\n",
    "print(unit.damage)\n",
    "print(unit.armor)"
   ]
  },
  {
   "cell_type": "code",
   "execution_count": 2,
   "id": "e769731c",
   "metadata": {},
   "outputs": [
    {
     "name": "stdout",
     "output_type": "stream",
     "text": [
      "{'name': '1', 'fam': '2'}\n",
      "{'name': '3', 'fam': '4'}\n",
      "{}\n"
     ]
    }
   ],
   "source": [
    "class bot:\n",
    "    def FIO(self, first_name, last_name):\n",
    "        self.name = first_name\n",
    "        self.fam = last_name\n",
    "p1 = bot()\n",
    "p1.FIO(\"1\", \"2\")\n",
    "p2 = bot()\n",
    "p2.FIO(\"3\",\"4\")\n",
    "p3 = bot()\n",
    "\n",
    "for i in (p1,p2,p3):\n",
    "    print(i.__dict__)"
   ]
  },
  {
   "cell_type": "code",
   "execution_count": 11,
   "id": "ed853840",
   "metadata": {},
   "outputs": [
    {
     "name": "stdout",
     "output_type": "stream",
     "text": [
      "1 2\n",
      "3 4\n",
      "000 000\n"
     ]
    }
   ],
   "source": [
    "class bot:\n",
    "    name = '000'\n",
    "    fam = '000'\n",
    "    def FIO(self, first_name, last_name):\n",
    "        self.name = first_name\n",
    "        self.fam = last_name\n",
    "p1 = bot()\n",
    "p1.FIO(\"1\", \"2\")\n",
    "p2 = bot()\n",
    "p2.FIO(\"3\",\"4\")\n",
    "p3 = bot()\n",
    "\n",
    "for i in (p1,p2,p3):\n",
    "    print(i.name, i.fam)"
   ]
  },
  {
   "cell_type": "code",
   "execution_count": 7,
   "id": "7d096066",
   "metadata": {},
   "outputs": [
    {
     "name": "stdout",
     "output_type": "stream",
     "text": [
      "{'name': '1', 'fam': '2'}\n",
      "{'name': '3', 'fam': '4'}\n",
      "{'name': '000', 'fam': '000'}\n"
     ]
    }
   ],
   "source": [
    "class bot:\n",
    "    def __init__(self, first_name = '000', last_name = '000'):\n",
    "        self.name = first_name\n",
    "        self.fam = last_name\n",
    "p1 = bot(\"1\", \"2\")\n",
    "p2 = bot(\"3\",\"4\")\n",
    "p3 = bot()\n",
    "\n",
    "for i in (p1,p2,p3):\n",
    "    print(i.__dict__)"
   ]
  }
 ],
 "metadata": {
  "kernelspec": {
   "display_name": "Python 3 (ipykernel)",
   "language": "python",
   "name": "python3"
  },
  "language_info": {
   "codemirror_mode": {
    "name": "ipython",
    "version": 3
   },
   "file_extension": ".py",
   "mimetype": "text/x-python",
   "name": "python",
   "nbconvert_exporter": "python",
   "pygments_lexer": "ipython3",
   "version": "3.8.7"
  }
 },
 "nbformat": 4,
 "nbformat_minor": 5
}
