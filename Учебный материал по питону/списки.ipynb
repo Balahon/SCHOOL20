{
 "cells": [
  {
   "cell_type": "code",
   "execution_count": 1,
   "id": "e216395d",
   "metadata": {},
   "outputs": [
    {
     "name": "stdout",
     "output_type": "stream",
     "text": [
      "[1, 2, 3]\n",
      "[1, 2.4, '354fsd']\n",
      "3\n"
     ]
    }
   ],
   "source": [
    "int_list = [1,2,3]\n",
    "mixed_list = [1,2.4,'354fsd']\n",
    "print(int_list)\n",
    "print(mixed_list)\n",
    "print(len(int_list))"
   ]
  },
  {
   "cell_type": "code",
   "execution_count": 3,
   "id": "91cb44be",
   "metadata": {},
   "outputs": [
    {
     "name": "stdout",
     "output_type": "stream",
     "text": [
      "3\n",
      "3\n"
     ]
    }
   ],
   "source": [
    "print(int_list[2])\n",
    "print(int_list[-1])"
   ]
  },
  {
   "cell_type": "code",
   "execution_count": 2,
   "id": "8c8db2e8",
   "metadata": {},
   "outputs": [
    {
     "name": "stdout",
     "output_type": "stream",
     "text": [
      "['3', 'q', '5', '4', 'f', 'rdwe']\n"
     ]
    }
   ],
   "source": [
    "a = ['3','q','5']\n",
    "b = ['4','f','rdwe']\n",
    "c = a + b\n",
    "print(c)"
   ]
  },
  {
   "cell_type": "code",
   "execution_count": 3,
   "id": "96e9f29b",
   "metadata": {},
   "outputs": [
    {
     "data": {
      "text/plain": [
       "['fewcs', 'q', '5']"
      ]
     },
     "execution_count": 3,
     "metadata": {},
     "output_type": "execute_result"
    }
   ],
   "source": [
    "a[0] = 'fewcs'\n",
    "a"
   ]
  },
  {
   "cell_type": "code",
   "execution_count": 4,
   "id": "a27a9c16",
   "metadata": {},
   "outputs": [
    {
     "data": {
      "text/plain": [
       "['fewcs', 'q', '5', 'fdfdsgghfdf']"
      ]
     },
     "execution_count": 4,
     "metadata": {},
     "output_type": "execute_result"
    }
   ],
   "source": [
    "a.append('fdfdsgghfdf') #добавить в конец\n",
    "a"
   ]
  },
  {
   "cell_type": "code",
   "execution_count": 5,
   "id": "dc95e2de",
   "metadata": {},
   "outputs": [
    {
     "name": "stdout",
     "output_type": "stream",
     "text": [
      "fdfdsgghfdf\n",
      "['fewcs', 'q', '5']\n"
     ]
    }
   ],
   "source": [
    "poped = a.pop() #удалит последний элемент\n",
    "print(poped)\n",
    "print(a)"
   ]
  },
  {
   "cell_type": "code",
   "execution_count": 7,
   "id": "e538e071",
   "metadata": {},
   "outputs": [
    {
     "data": {
      "text/plain": [
       "['5', 'fewcs', 'fewf', 'q']"
      ]
     },
     "execution_count": 7,
     "metadata": {},
     "output_type": "execute_result"
    }
   ],
   "source": [
    "a.append(\"fewf\")\n",
    "a.sort() #сортировка по возрастанию\n",
    "a"
   ]
  },
  {
   "cell_type": "code",
   "execution_count": 11,
   "id": "945dbbd8",
   "metadata": {},
   "outputs": [
    {
     "name": "stdout",
     "output_type": "stream",
     "text": [
      "['aa', 'ab', 'ac', 'ad', 'ae']\n",
      "['aa', 'ab', 'ac', 'ad', 'ae']\n"
     ]
    }
   ],
   "source": [
    "letters = ['ab','ac','ad','ae','aa']\n",
    "letters.sort()#по возрастанию\n",
    "print(letters)\n"
   ]
  },
  {
   "cell_type": "code",
   "execution_count": 12,
   "id": "1bf8347a",
   "metadata": {},
   "outputs": [
    {
     "name": "stdout",
     "output_type": "stream",
     "text": [
      "['b', 'dw', 'adv']\n"
     ]
    }
   ],
   "source": [
    "letters = ['adv', 'b', 'dw']\n",
    "letters.sort(key=len) #по возростанию по ключу длина\n",
    "print(letters)"
   ]
  },
  {
   "cell_type": "code",
   "execution_count": 16,
   "id": "9ad4ae96",
   "metadata": {},
   "outputs": [
    {
     "name": "stdout",
     "output_type": "stream",
     "text": [
      "[4, 21, 4, 23, 1, 342, 4, 8, 7, 6, 5, 4, 3, 2, 1]\n"
     ]
    }
   ],
   "source": [
    "numbers = [1,2,3,4,5,6,7,8,4,342,1,23,4,21,4]\n",
    "numbers.reverse() #задом наперед\n",
    "print(numbers)"
   ]
  },
  {
   "cell_type": "code",
   "execution_count": 17,
   "id": "2b1f6527",
   "metadata": {},
   "outputs": [
    {
     "name": "stdout",
     "output_type": "stream",
     "text": [
      "[342, 23, 21, 8, 7, 6, 5, 4, 4, 4, 4, 3, 2, 1, 1]\n"
     ]
    }
   ],
   "source": [
    "numbers.sort(reverse=True) #по убыванию\n",
    "print(numbers)"
   ]
  },
  {
   "cell_type": "code",
   "execution_count": 18,
   "id": "132b8255",
   "metadata": {},
   "outputs": [
    {
     "name": "stdout",
     "output_type": "stream",
     "text": [
      "[342, 22, 23, 21, 8, 7, 6, 5, 4, 4, 4, 4, 3, 2, 1, 1]\n"
     ]
    }
   ],
   "source": [
    "numbers.insert(1,22)#вставить элемент \n",
    "#по индексу (22 вставил на место индекса 1)\n",
    "print(numbers)"
   ]
  },
  {
   "cell_type": "code",
   "execution_count": 19,
   "id": "dd73007d",
   "metadata": {},
   "outputs": [
    {
     "data": {
      "text/plain": [
       "7"
      ]
     },
     "execution_count": 19,
     "metadata": {},
     "output_type": "execute_result"
    }
   ],
   "source": [
    "numbers.index(5) #возвращает индекс первого попавшегося искомого числа"
   ]
  },
  {
   "cell_type": "code",
   "execution_count": 20,
   "id": "6fa13de0",
   "metadata": {},
   "outputs": [
    {
     "name": "stdout",
     "output_type": "stream",
     "text": [
      "4\n"
     ]
    }
   ],
   "source": [
    "print(numbers.count(4))"
   ]
  },
  {
   "cell_type": "code",
   "execution_count": 21,
   "id": "92975a84",
   "metadata": {},
   "outputs": [
    {
     "name": "stdout",
     "output_type": "stream",
     "text": [
      "[342, 22, 23, 21, 8, 7, 6, 5, 4, 4, 4, 4, 3, 2, 1, 1]\n"
     ]
    }
   ],
   "source": [
    "copy = numbers.copy()# создает копию, \n",
    "# НО!!!!!!!!!\n",
    "# при изменении оригинала,копия тоже меняется\n",
    "print(copy)"
   ]
  },
  {
   "cell_type": "code",
   "execution_count": 22,
   "id": "a9a49a08",
   "metadata": {},
   "outputs": [
    {
     "data": {
      "text/plain": [
       "[]"
      ]
     },
     "execution_count": 22,
     "metadata": {},
     "output_type": "execute_result"
    }
   ],
   "source": [
    "numbers.clear()#очищает список\n",
    "numbers"
   ]
  }
 ],
 "metadata": {
  "kernelspec": {
   "display_name": "Python 3 (ipykernel)",
   "language": "python",
   "name": "python3"
  },
  "language_info": {
   "codemirror_mode": {
    "name": "ipython",
    "version": 3
   },
   "file_extension": ".py",
   "mimetype": "text/x-python",
   "name": "python",
   "nbconvert_exporter": "python",
   "pygments_lexer": "ipython3",
   "version": "3.8.7"
  }
 },
 "nbformat": 4,
 "nbformat_minor": 5
}
