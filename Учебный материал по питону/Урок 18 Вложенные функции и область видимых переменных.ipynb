{
 "cells": [
  {
   "cell_type": "code",
   "execution_count": 1,
   "id": "42a3e97c",
   "metadata": {},
   "outputs": [],
   "source": [
    "a = 'Global'\n",
    "def ex1():\n",
    "    a = 'enclosin'\n",
    "    def ex2():\n",
    "        a = 'local'\n",
    "        print(a)\n",
    "    ex2()"
   ]
  },
  {
   "cell_type": "code",
   "execution_count": 3,
   "id": "82c8ec0d",
   "metadata": {},
   "outputs": [
    {
     "name": "stdout",
     "output_type": "stream",
     "text": [
      "local\n",
      "Global\n"
     ]
    }
   ],
   "source": [
    "ex1()\n",
    "print(a)"
   ]
  },
  {
   "cell_type": "code",
   "execution_count": 5,
   "id": "54733d06",
   "metadata": {},
   "outputs": [],
   "source": [
    "a = 'Global'\n",
    "def ex1():\n",
    "    a = 'enclosin'\n",
    "    def ex2():\n",
    "#         a = 'local'\n",
    "        print(a)\n",
    "    ex2()"
   ]
  },
  {
   "cell_type": "code",
   "execution_count": 6,
   "id": "40d6591e",
   "metadata": {},
   "outputs": [
    {
     "name": "stdout",
     "output_type": "stream",
     "text": [
      "enclosin\n",
      "Global\n"
     ]
    }
   ],
   "source": [
    "ex1()\n",
    "print(a)"
   ]
  },
  {
   "cell_type": "code",
   "execution_count": 10,
   "id": "fc188fdf",
   "metadata": {},
   "outputs": [],
   "source": [
    "a = 'Global'\n",
    "def ex1(a):\n",
    "    print(f'переменная {a}')\n",
    "    a = 'enclosing'\n",
    "    print(f'переменная {a}')\n",
    "    def ex2():\n",
    "        a = 'local'\n",
    "        print(a)\n",
    "    ex2()"
   ]
  },
  {
   "cell_type": "code",
   "execution_count": 11,
   "id": "4f768e54",
   "metadata": {},
   "outputs": [
    {
     "name": "stdout",
     "output_type": "stream",
     "text": [
      "переменная test\n",
      "переменная enclosing\n",
      "local\n",
      "Global\n"
     ]
    }
   ],
   "source": [
    "ex1('test')\n",
    "print(a)"
   ]
  },
  {
   "cell_type": "code",
   "execution_count": 15,
   "id": "d4cb7175",
   "metadata": {},
   "outputs": [],
   "source": [
    "a = 'Global'\n",
    "def ex1():\n",
    "    global a\n",
    "    print(f'переменная {a}')\n",
    "    a = 'enclosing'\n",
    "    print(f'переменная {a}')\n",
    "    def ex2():\n",
    "        a = 'local'\n",
    "        print(a)\n",
    "    ex2()"
   ]
  },
  {
   "cell_type": "code",
   "execution_count": 16,
   "id": "18c98788",
   "metadata": {},
   "outputs": [
    {
     "name": "stdout",
     "output_type": "stream",
     "text": [
      "переменная Global\n",
      "переменная enclosing\n",
      "local\n",
      "enclosing\n"
     ]
    }
   ],
   "source": [
    "ex1()\n",
    "print(a)"
   ]
  },
  {
   "cell_type": "code",
   "execution_count": 21,
   "id": "a35e37e3",
   "metadata": {},
   "outputs": [],
   "source": [
    "a = 'Global'\n",
    "def ex1(a):\n",
    "    print(f'переменная {a}')\n",
    "    a = 'enclosing'\n",
    "    print(f'переменная {a}')\n",
    "    def ex2():\n",
    "        a = 'local'\n",
    "        print(a)\n",
    "    ex2()\n",
    "    return \"\""
   ]
  },
  {
   "cell_type": "code",
   "execution_count": 22,
   "id": "82671220",
   "metadata": {},
   "outputs": [
    {
     "name": "stdout",
     "output_type": "stream",
     "text": [
      "переменная Global\n",
      "переменная enclosing\n",
      "local\n",
      "Global\n"
     ]
    }
   ],
   "source": [
    "ex1(a)\n",
    "print(a)"
   ]
  }
 ],
 "metadata": {
  "kernelspec": {
   "display_name": "Python 3 (ipykernel)",
   "language": "python",
   "name": "python3"
  },
  "language_info": {
   "codemirror_mode": {
    "name": "ipython",
    "version": 3
   },
   "file_extension": ".py",
   "mimetype": "text/x-python",
   "name": "python",
   "nbconvert_exporter": "python",
   "pygments_lexer": "ipython3",
   "version": "3.8.7"
  }
 },
 "nbformat": 4,
 "nbformat_minor": 5
}
