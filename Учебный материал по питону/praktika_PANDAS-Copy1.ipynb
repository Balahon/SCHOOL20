{
 "cells": [
  {
   "cell_type": "code",
   "execution_count": 1,
   "id": "0fb364c8",
   "metadata": {},
   "outputs": [],
   "source": [
    "import pandas as pd\n",
    "#работа с данными"
   ]
  },
  {
   "cell_type": "code",
   "execution_count": 2,
   "id": "44feecda",
   "metadata": {},
   "outputs": [],
   "source": [
    "from pandas import Series, DataFrame"
   ]
  },
  {
   "cell_type": "code",
   "execution_count": 3,
   "id": "f1c0f750",
   "metadata": {},
   "outputs": [
    {
     "name": "stdout",
     "output_type": "stream",
     "text": [
      "0    4\n",
      "1    7\n",
      "2   -5\n",
      "3    3\n",
      "dtype: int64\n"
     ]
    }
   ],
   "source": [
    "obj = pd.Series([4,7,-5,3])\n",
    "print(obj)"
   ]
  },
  {
   "cell_type": "code",
   "execution_count": 4,
   "id": "56a1a16c",
   "metadata": {},
   "outputs": [
    {
     "name": "stdout",
     "output_type": "stream",
     "text": [
      "[ 4  7 -5  3]\n",
      "RangeIndex(start=0, stop=4, step=1)\n"
     ]
    }
   ],
   "source": [
    "print(obj.values)\n",
    "print(obj.index)"
   ]
  },
  {
   "cell_type": "code",
   "execution_count": 5,
   "id": "9b24eb49",
   "metadata": {},
   "outputs": [
    {
     "name": "stdout",
     "output_type": "stream",
     "text": [
      "Bob      4\n",
      "Steve    7\n",
      "Jeff    -5\n",
      "Ryan     3\n",
      "dtype: int64\n"
     ]
    }
   ],
   "source": [
    "obj.index = [\"Bob\",\"Steve\",\"Jeff\",\"Ryan\"]\n",
    "print(obj)"
   ]
  },
  {
   "cell_type": "code",
   "execution_count": 6,
   "id": "19a13965",
   "metadata": {},
   "outputs": [
    {
     "name": "stdout",
     "output_type": "stream",
     "text": [
      "7\n",
      "seven         7\n",
      "four          4\n",
      "minus five   -5\n",
      "dtype: int64\n"
     ]
    }
   ],
   "source": [
    "obj2 = pd.Series([7,4,-5])\n",
    "obj2.index = ['seven','four','minus five']\n",
    "print(obj2[\"seven\"])\n",
    "print(obj2[['seven','four','minus five']])"
   ]
  },
  {
   "cell_type": "code",
   "execution_count": 7,
   "id": "6d640184",
   "metadata": {},
   "outputs": [
    {
     "name": "stdout",
     "output_type": "stream",
     "text": [
      "seven    7\n",
      "four     4\n",
      "dtype: int64 \n",
      "\n",
      "seven         14\n",
      "four           8\n",
      "minus five   -10\n",
      "dtype: int64 \n",
      "\n",
      "seven         1096.633158\n",
      "four            54.598150\n",
      "minus five       0.006738\n",
      "dtype: float64\n"
     ]
    }
   ],
   "source": [
    "import numpy as np\n",
    "print(obj2[obj2 > 0], \"\\n\")\n",
    "print(obj2 * 2, \"\\n\")\n",
    "print(np.exp(obj2))"
   ]
  },
  {
   "cell_type": "code",
   "execution_count": 8,
   "id": "5875bd66",
   "metadata": {},
   "outputs": [
    {
     "name": "stdout",
     "output_type": "stream",
     "text": [
      "MSC      35000\n",
      "KALM      1220\n",
      "VORON     3500\n",
      "ALTAI     1500\n",
      "dtype: int64\n"
     ]
    }
   ],
   "source": [
    "sdata = {\"MSC\":35000,\"KALM\":1220,\"VORON\":3500,\"ALTAI\":1500}\n",
    "obj3 = pd.Series(sdata)\n",
    "print(obj3)"
   ]
  },
  {
   "cell_type": "code",
   "execution_count": 9,
   "id": "366088f0",
   "metadata": {},
   "outputs": [
    {
     "name": "stdout",
     "output_type": "stream",
     "text": [
      "MSC      False\n",
      "KALM     False\n",
      "VORON    False\n",
      "ALTAI    False\n",
      "dtype: bool \n",
      "\n",
      "MSC      True\n",
      "KALM     True\n",
      "VORON    True\n",
      "ALTAI    True\n",
      "dtype: bool \n",
      "\n"
     ]
    }
   ],
   "source": [
    "print(pd.isnull(obj3),\"\\n\")\n",
    "print(pd.notnull(obj3),\"\\n\")"
   ]
  },
  {
   "cell_type": "code",
   "execution_count": 10,
   "id": "29f5bcd0",
   "metadata": {},
   "outputs": [
    {
     "name": "stdout",
     "output_type": "stream",
     "text": [
      "state\n",
      "MSC      35000\n",
      "KALM      1220\n",
      "VORON     3500\n",
      "ALTAI     1500\n",
      "Name: population, dtype: int64\n"
     ]
    }
   ],
   "source": [
    "obj3. name = 'population'\n",
    "obj3.index.name = 'state'\n",
    "print(obj3)"
   ]
  },
  {
   "cell_type": "code",
   "execution_count": 11,
   "id": "27a5bf3b",
   "metadata": {},
   "outputs": [
    {
     "name": "stdout",
     "output_type": "stream",
     "text": [
      "   state   year  pop\n",
      "0    MSC  35000  1.5\n",
      "1   KALM   1220  1.6\n",
      "2  VORON   3500  3.5\n",
      "3  ALTAI   1500  4.3\n"
     ]
    }
   ],
   "source": [
    "data = {'state':[\"MSC\",\"KALM\",\"VORON\",\"ALTAI\"],\n",
    "        'year': [35000,1220,3500,1500],\n",
    "        \"pop\": [1.5,1.6,3.5,4.3]}\n",
    "frame = pd.DataFrame(data)\n",
    "print(frame)"
   ]
  },
  {
   "cell_type": "code",
   "execution_count": 12,
   "id": "85413f44",
   "metadata": {},
   "outputs": [
    {
     "name": "stdout",
     "output_type": "stream",
     "text": [
      "    year  pop  state\n",
      "0  35000  1.5    MSC\n",
      "1   1220  1.6   KALM\n",
      "2   3500  3.5  VORON\n",
      "3   1500  4.3  ALTAI\n"
     ]
    }
   ],
   "source": [
    "frame = pd.DataFrame(data,columns = ['year','pop','state'])\n",
    "print(frame)"
   ]
  },
  {
   "cell_type": "code",
   "execution_count": 13,
   "id": "b310a657",
   "metadata": {},
   "outputs": [
    {
     "name": "stdout",
     "output_type": "stream",
     "text": [
      "        year  pop  state debt\n",
      "one    35000  1.5    MSC  NaN\n",
      "two     1220  1.6   KALM  NaN\n",
      "three   3500  3.5  VORON  NaN\n",
      "four    1500  4.3  ALTAI  NaN \n",
      "\n",
      "Index(['year', 'pop', 'state', 'debt'], dtype='object')\n"
     ]
    }
   ],
   "source": [
    "frame2 = pd.DataFrame(data,columns = ['year','pop','state','debt'],\n",
    "                     index=[\"one\",\"two\",\"three\",\"four\",])\n",
    "print(frame2,\"\\n\")\n",
    "print(frame2.columns)"
   ]
  },
  {
   "cell_type": "code",
   "execution_count": 14,
   "id": "067b6428",
   "metadata": {},
   "outputs": [
    {
     "name": "stdout",
     "output_type": "stream",
     "text": [
      "year      3500\n",
      "pop        3.5\n",
      "state    VORON\n",
      "debt       NaN\n",
      "Name: three, dtype: object\n"
     ]
    }
   ],
   "source": [
    "print(frame2.loc['three'])"
   ]
  },
  {
   "cell_type": "code",
   "execution_count": 15,
   "id": "83a8a131",
   "metadata": {},
   "outputs": [
    {
     "name": "stdout",
     "output_type": "stream",
     "text": [
      "        year  pop  state  debt\n",
      "one    35000  1.5    MSC  16.5\n",
      "two     1220  1.6   KALM  16.5\n",
      "three   3500  3.5  VORON  16.5\n",
      "four    1500  4.3  ALTAI  16.5 \n",
      "\n",
      "        year  pop  state  debt\n",
      "one    35000  1.5    MSC     1\n",
      "two     1220  1.6   KALM     2\n",
      "three   3500  3.5  VORON     3\n",
      "four    1500  4.3  ALTAI     4\n"
     ]
    }
   ],
   "source": [
    "frame2['debt'] = 16.5\n",
    "print(frame2,\"\\n\")\n",
    "frame2['debt'] = [i for i in range(1,5)]\n",
    "print(frame2)"
   ]
  },
  {
   "cell_type": "code",
   "execution_count": 16,
   "id": "46380d93",
   "metadata": {},
   "outputs": [
    {
     "name": "stdout",
     "output_type": "stream",
     "text": [
      "        year  pop  state  debt\n",
      "one    35000  1.5    MSC   NaN\n",
      "two     1220  1.6   KALM  -1.2\n",
      "three   3500  3.5  VORON  -1.8\n",
      "four    1500  4.3  ALTAI  -1.5\n"
     ]
    }
   ],
   "source": [
    "val = pd.Series([-1.2,-1.5,-1.8],index = ['two','four','three'])\n",
    "frame2['debt']=val\n",
    "print(frame2)"
   ]
  },
  {
   "cell_type": "code",
   "execution_count": 17,
   "id": "7ea661fa",
   "metadata": {},
   "outputs": [
    {
     "data": {
      "text/html": [
       "<div>\n",
       "<style scoped>\n",
       "    .dataframe tbody tr th:only-of-type {\n",
       "        vertical-align: middle;\n",
       "    }\n",
       "\n",
       "    .dataframe tbody tr th {\n",
       "        vertical-align: top;\n",
       "    }\n",
       "\n",
       "    .dataframe thead th {\n",
       "        text-align: right;\n",
       "    }\n",
       "</style>\n",
       "<table border=\"1\" class=\"dataframe\">\n",
       "  <thead>\n",
       "    <tr style=\"text-align: right;\">\n",
       "      <th></th>\n",
       "      <th>year</th>\n",
       "      <th>pop</th>\n",
       "      <th>state</th>\n",
       "      <th>debt</th>\n",
       "      <th>eastern</th>\n",
       "    </tr>\n",
       "  </thead>\n",
       "  <tbody>\n",
       "    <tr>\n",
       "      <th>one</th>\n",
       "      <td>35000</td>\n",
       "      <td>1.5</td>\n",
       "      <td>MSC</td>\n",
       "      <td>NaN</td>\n",
       "      <td>False</td>\n",
       "    </tr>\n",
       "    <tr>\n",
       "      <th>two</th>\n",
       "      <td>1220</td>\n",
       "      <td>1.6</td>\n",
       "      <td>KALM</td>\n",
       "      <td>-1.2</td>\n",
       "      <td>False</td>\n",
       "    </tr>\n",
       "    <tr>\n",
       "      <th>three</th>\n",
       "      <td>3500</td>\n",
       "      <td>3.5</td>\n",
       "      <td>VORON</td>\n",
       "      <td>-1.8</td>\n",
       "      <td>False</td>\n",
       "    </tr>\n",
       "    <tr>\n",
       "      <th>four</th>\n",
       "      <td>1500</td>\n",
       "      <td>4.3</td>\n",
       "      <td>ALTAI</td>\n",
       "      <td>-1.5</td>\n",
       "      <td>True</td>\n",
       "    </tr>\n",
       "  </tbody>\n",
       "</table>\n",
       "</div>"
      ],
      "text/plain": [
       "        year  pop  state  debt  eastern\n",
       "one    35000  1.5    MSC   NaN    False\n",
       "two     1220  1.6   KALM  -1.2    False\n",
       "three   3500  3.5  VORON  -1.8    False\n",
       "four    1500  4.3  ALTAI  -1.5     True"
      ]
     },
     "execution_count": 17,
     "metadata": {},
     "output_type": "execute_result"
    }
   ],
   "source": [
    "frame2['eastern'] = frame2.state == \"ALTAI\"\n",
    "frame2"
   ]
  },
  {
   "cell_type": "code",
   "execution_count": 18,
   "id": "7229ff2e",
   "metadata": {},
   "outputs": [
    {
     "name": "stdout",
     "output_type": "stream",
     "text": [
      "Index(['year', 'pop', 'state', 'debt'], dtype='object') \n",
      "\n",
      "        year  pop  state  debt\n",
      "one    35000  1.5    MSC   NaN\n",
      "two     1220  1.6   KALM  -1.2\n",
      "three   3500  3.5  VORON  -1.8\n",
      "four    1500  4.3  ALTAI  -1.5\n"
     ]
    }
   ],
   "source": [
    "del frame2['eastern']\n",
    "print(frame2.columns,'\\n')\n",
    "print(frame2)"
   ]
  },
  {
   "cell_type": "code",
   "execution_count": 19,
   "id": "4c664407",
   "metadata": {},
   "outputs": [
    {
     "data": {
      "text/html": [
       "<div>\n",
       "<style scoped>\n",
       "    .dataframe tbody tr th:only-of-type {\n",
       "        vertical-align: middle;\n",
       "    }\n",
       "\n",
       "    .dataframe tbody tr th {\n",
       "        vertical-align: top;\n",
       "    }\n",
       "\n",
       "    .dataframe thead th {\n",
       "        text-align: right;\n",
       "    }\n",
       "</style>\n",
       "<table border=\"1\" class=\"dataframe\">\n",
       "  <thead>\n",
       "    <tr style=\"text-align: right;\">\n",
       "      <th></th>\n",
       "      <th>Nevada</th>\n",
       "      <th>Ohio</th>\n",
       "    </tr>\n",
       "  </thead>\n",
       "  <tbody>\n",
       "    <tr>\n",
       "      <th>2001</th>\n",
       "      <td>2.4</td>\n",
       "      <td>1.8</td>\n",
       "    </tr>\n",
       "    <tr>\n",
       "      <th>2002</th>\n",
       "      <td>2.9</td>\n",
       "      <td>4.2</td>\n",
       "    </tr>\n",
       "    <tr>\n",
       "      <th>2003</th>\n",
       "      <td>4.2</td>\n",
       "      <td>1.4</td>\n",
       "    </tr>\n",
       "  </tbody>\n",
       "</table>\n",
       "</div>"
      ],
      "text/plain": [
       "      Nevada  Ohio\n",
       "2001     2.4   1.8\n",
       "2002     2.9   4.2\n",
       "2003     4.2   1.4"
      ]
     },
     "execution_count": 19,
     "metadata": {},
     "output_type": "execute_result"
    }
   ],
   "source": [
    "pop = {\"Nevada\":[2.4,2.9,4.2],\n",
    "      'Ohio':[1.8,4.2,1.4]}\n",
    "\n",
    "frame3 = pd.DataFrame(pop,index = [2001,2002,2003])\n",
    "frame3"
   ]
  },
  {
   "cell_type": "code",
   "execution_count": 20,
   "id": "6a05abd7",
   "metadata": {},
   "outputs": [
    {
     "name": "stderr",
     "output_type": "stream",
     "text": [
      "C:\\Users\\Balah\\AppData\\Local\\Temp\\ipykernel_3240\\4097961336.py:1: FutureWarning: The behavior of `series[i:j]` with an integer-dtype index is deprecated. In a future version, this will be treated as *label-based* indexing, consistent with e.g. `series[i]` lookups. To retain the old behavior, use `series.iloc[i:j]`. To get the future behavior, use `series.loc[i:j]`.\n",
      "  pdata = {\"Ohio\":frame3[\"Ohio\"][:-1],\n",
      "C:\\Users\\Balah\\AppData\\Local\\Temp\\ipykernel_3240\\4097961336.py:2: FutureWarning: The behavior of `series[i:j]` with an integer-dtype index is deprecated. In a future version, this will be treated as *label-based* indexing, consistent with e.g. `series[i]` lookups. To retain the old behavior, use `series.iloc[i:j]`. To get the future behavior, use `series.loc[i:j]`.\n",
      "  'Nevada':frame3[\"Nevada\"][:2]}\n"
     ]
    },
    {
     "data": {
      "text/html": [
       "<div>\n",
       "<style scoped>\n",
       "    .dataframe tbody tr th:only-of-type {\n",
       "        vertical-align: middle;\n",
       "    }\n",
       "\n",
       "    .dataframe tbody tr th {\n",
       "        vertical-align: top;\n",
       "    }\n",
       "\n",
       "    .dataframe thead th {\n",
       "        text-align: right;\n",
       "    }\n",
       "</style>\n",
       "<table border=\"1\" class=\"dataframe\">\n",
       "  <thead>\n",
       "    <tr style=\"text-align: right;\">\n",
       "      <th></th>\n",
       "      <th>Ohio</th>\n",
       "      <th>Nevada</th>\n",
       "    </tr>\n",
       "  </thead>\n",
       "  <tbody>\n",
       "    <tr>\n",
       "      <th>2001</th>\n",
       "      <td>1.8</td>\n",
       "      <td>2.4</td>\n",
       "    </tr>\n",
       "    <tr>\n",
       "      <th>2002</th>\n",
       "      <td>4.2</td>\n",
       "      <td>2.9</td>\n",
       "    </tr>\n",
       "  </tbody>\n",
       "</table>\n",
       "</div>"
      ],
      "text/plain": [
       "      Ohio  Nevada\n",
       "2001   1.8     2.4\n",
       "2002   4.2     2.9"
      ]
     },
     "execution_count": 20,
     "metadata": {},
     "output_type": "execute_result"
    }
   ],
   "source": [
    "pdata = {\"Ohio\":frame3[\"Ohio\"][:-1],\n",
    "      'Nevada':frame3[\"Nevada\"][:2]}\n",
    "pd.DataFrame(pdata)"
   ]
  },
  {
   "cell_type": "code",
   "execution_count": 21,
   "id": "c3dd42ca",
   "metadata": {},
   "outputs": [
    {
     "data": {
      "text/html": [
       "<div>\n",
       "<style scoped>\n",
       "    .dataframe tbody tr th:only-of-type {\n",
       "        vertical-align: middle;\n",
       "    }\n",
       "\n",
       "    .dataframe tbody tr th {\n",
       "        vertical-align: top;\n",
       "    }\n",
       "\n",
       "    .dataframe thead th {\n",
       "        text-align: right;\n",
       "    }\n",
       "</style>\n",
       "<table border=\"1\" class=\"dataframe\">\n",
       "  <thead>\n",
       "    <tr style=\"text-align: right;\">\n",
       "      <th>state</th>\n",
       "      <th>Nevada</th>\n",
       "      <th>Ohio</th>\n",
       "    </tr>\n",
       "    <tr>\n",
       "      <th>year</th>\n",
       "      <th></th>\n",
       "      <th></th>\n",
       "    </tr>\n",
       "  </thead>\n",
       "  <tbody>\n",
       "    <tr>\n",
       "      <th>2001</th>\n",
       "      <td>2.4</td>\n",
       "      <td>1.8</td>\n",
       "    </tr>\n",
       "    <tr>\n",
       "      <th>2002</th>\n",
       "      <td>2.9</td>\n",
       "      <td>4.2</td>\n",
       "    </tr>\n",
       "    <tr>\n",
       "      <th>2003</th>\n",
       "      <td>4.2</td>\n",
       "      <td>1.4</td>\n",
       "    </tr>\n",
       "  </tbody>\n",
       "</table>\n",
       "</div>"
      ],
      "text/plain": [
       "state  Nevada  Ohio\n",
       "year               \n",
       "2001      2.4   1.8\n",
       "2002      2.9   4.2\n",
       "2003      4.2   1.4"
      ]
     },
     "execution_count": 21,
     "metadata": {},
     "output_type": "execute_result"
    }
   ],
   "source": [
    "frame3.index.name = \"year\";frame3.columns.name = 'state'\n",
    "frame3"
   ]
  },
  {
   "cell_type": "code",
   "execution_count": 22,
   "id": "c186326a",
   "metadata": {},
   "outputs": [
    {
     "data": {
      "text/plain": [
       "array([[2.4, 1.8],\n",
       "       [2.9, 4.2],\n",
       "       [4.2, 1.4]])"
      ]
     },
     "execution_count": 22,
     "metadata": {},
     "output_type": "execute_result"
    }
   ],
   "source": [
    "frame3.values"
   ]
  },
  {
   "cell_type": "code",
   "execution_count": 23,
   "id": "a444a981",
   "metadata": {},
   "outputs": [
    {
     "name": "stdout",
     "output_type": "stream",
     "text": [
      "Index(['a', 'b', 'c'], dtype='object')\n",
      "Index(['b', 'c'], dtype='object')\n"
     ]
    }
   ],
   "source": [
    "obj = pd.Series(range(3),index=['a',\"b\",\"c\"])\n",
    "index = obj.index\n",
    "print(index)\n",
    "print(index[1:])"
   ]
  },
  {
   "cell_type": "code",
   "execution_count": 24,
   "id": "9bc0940d",
   "metadata": {},
   "outputs": [
    {
     "name": "stdout",
     "output_type": "stream",
     "text": [
      "Int64Index([6, 7, 8], dtype='int64')\n",
      "6    1.4\n",
      "7   -3.2\n",
      "8    0.0\n",
      "dtype: float64\n",
      "[ True  True  True]\n",
      "True\n"
     ]
    }
   ],
   "source": [
    "labels = pd.Index(np.arange(6,9))\n",
    "print(labels)\n",
    "obj4 = pd.Series([1.4,-3.2,0],index=labels)\n",
    "print(obj4)\n",
    "print(obj4.index==labels)\n",
    "print(obj4.index is labels)"
   ]
  },
  {
   "cell_type": "code",
   "execution_count": 25,
   "id": "9e0b332a",
   "metadata": {},
   "outputs": [
    {
     "data": {
      "text/plain": [
       "b      4.50\n",
       "d     43.32\n",
       "c    123.41\n",
       "a     12.12\n",
       "dtype: float64"
      ]
     },
     "execution_count": 25,
     "metadata": {},
     "output_type": "execute_result"
    }
   ],
   "source": [
    "obj = pd.Series([4.5,43.32,123.41,12.12],index=['b','d','c','a'])\n",
    "obj"
   ]
  },
  {
   "cell_type": "code",
   "execution_count": 26,
   "id": "c64dc1c2",
   "metadata": {},
   "outputs": [
    {
     "data": {
      "text/plain": [
       "a     12.12\n",
       "b      4.50\n",
       "c    123.41\n",
       "d     43.32\n",
       "e       NaN\n",
       "dtype: float64"
      ]
     },
     "execution_count": 26,
     "metadata": {},
     "output_type": "execute_result"
    }
   ],
   "source": [
    "obj2= obj.reindex(['a','b','c','d','e'])\n",
    "obj2"
   ]
  },
  {
   "cell_type": "code",
   "execution_count": 27,
   "id": "bccbc18e",
   "metadata": {},
   "outputs": [
    {
     "name": "stdout",
     "output_type": "stream",
     "text": [
      "0     blue\n",
      "2      red\n",
      "4    green\n",
      "dtype: object \n",
      "\n",
      "0     blue\n",
      "1     blue\n",
      "2      red\n",
      "3      red\n",
      "4    green\n",
      "5    green\n",
      "6    green\n",
      "7    green\n",
      "dtype: object\n"
     ]
    }
   ],
   "source": [
    "obj3 = pd.Series([\"blue\",\"red\",\"green\"],index=[0,2,4])\n",
    "print(obj3,'\\n')\n",
    "obj3 = obj3.reindex(range(8),method=\"ffill\")\n",
    "print(obj3)"
   ]
  },
  {
   "cell_type": "code",
   "execution_count": 28,
   "id": "47720571",
   "metadata": {},
   "outputs": [
    {
     "name": "stdout",
     "output_type": "stream",
     "text": [
      "   MSC  KALM  VORON\n",
      "a    0     1      2\n",
      "c    3     4      5\n",
      "d    6     7      8\n",
      "e    9    10     11 \n",
      "\n",
      "   MSC  KALM  VORON\n",
      "b  NaN   NaN    NaN\n",
      "c  3.0   4.0    5.0\n",
      "d  6.0   7.0    8.0\n",
      "a  0.0   1.0    2.0\n",
      "   MSC  KALM  VORON\n",
      "a  0.0   1.0    2.0\n",
      "b  NaN   NaN    NaN\n",
      "c  3.0   4.0    5.0\n",
      "d  6.0   7.0    8.0\n"
     ]
    }
   ],
   "source": [
    "frame = pd.DataFrame(np.arange(12).reshape((4,3)),\n",
    "                    index=['a','c','d','e'],\n",
    "                    columns=[\"MSC\",\"KALM\",\"VORON\"])\n",
    "print(frame,'\\n')\n",
    "frame2 = frame.reindex({'a','b','c','d'})\n",
    "print(frame2)\n",
    "frame2 = frame.reindex(['a','b','c','d'])\n",
    "print(frame2)"
   ]
  },
  {
   "cell_type": "code",
   "execution_count": 29,
   "id": "e7632e87",
   "metadata": {},
   "outputs": [
    {
     "data": {
      "text/html": [
       "<div>\n",
       "<style scoped>\n",
       "    .dataframe tbody tr th:only-of-type {\n",
       "        vertical-align: middle;\n",
       "    }\n",
       "\n",
       "    .dataframe tbody tr th {\n",
       "        vertical-align: top;\n",
       "    }\n",
       "\n",
       "    .dataframe thead th {\n",
       "        text-align: right;\n",
       "    }\n",
       "</style>\n",
       "<table border=\"1\" class=\"dataframe\">\n",
       "  <thead>\n",
       "    <tr style=\"text-align: right;\">\n",
       "      <th></th>\n",
       "      <th>MSC</th>\n",
       "      <th>KALM</th>\n",
       "      <th>VORON</th>\n",
       "      <th>ALTAI</th>\n",
       "    </tr>\n",
       "  </thead>\n",
       "  <tbody>\n",
       "    <tr>\n",
       "      <th>a</th>\n",
       "      <td>0</td>\n",
       "      <td>1</td>\n",
       "      <td>2</td>\n",
       "      <td>NaN</td>\n",
       "    </tr>\n",
       "    <tr>\n",
       "      <th>c</th>\n",
       "      <td>3</td>\n",
       "      <td>4</td>\n",
       "      <td>5</td>\n",
       "      <td>NaN</td>\n",
       "    </tr>\n",
       "    <tr>\n",
       "      <th>d</th>\n",
       "      <td>6</td>\n",
       "      <td>7</td>\n",
       "      <td>8</td>\n",
       "      <td>NaN</td>\n",
       "    </tr>\n",
       "    <tr>\n",
       "      <th>e</th>\n",
       "      <td>9</td>\n",
       "      <td>10</td>\n",
       "      <td>11</td>\n",
       "      <td>NaN</td>\n",
       "    </tr>\n",
       "  </tbody>\n",
       "</table>\n",
       "</div>"
      ],
      "text/plain": [
       "   MSC  KALM  VORON  ALTAI\n",
       "a    0     1      2    NaN\n",
       "c    3     4      5    NaN\n",
       "d    6     7      8    NaN\n",
       "e    9    10     11    NaN"
      ]
     },
     "execution_count": 29,
     "metadata": {},
     "output_type": "execute_result"
    }
   ],
   "source": [
    "resp = [\"MSC\",\"KALM\",\"VORON\",\"ALTAI\"]\n",
    "frame.reindex(columns=resp)"
   ]
  },
  {
   "cell_type": "code",
   "execution_count": 30,
   "id": "6f33dfea",
   "metadata": {},
   "outputs": [
    {
     "name": "stdout",
     "output_type": "stream",
     "text": [
      "a    0.0\n",
      "b    1.0\n",
      "c    2.0\n",
      "d    3.0\n",
      "e    4.0\n",
      "dtype: float64 \n",
      "\n",
      "a    0.0\n",
      "b    1.0\n",
      "d    3.0\n",
      "e    4.0\n",
      "dtype: float64 \n",
      "\n",
      "a    0.0\n",
      "b    1.0\n",
      "e    4.0\n",
      "dtype: float64 \n",
      "\n"
     ]
    }
   ],
   "source": [
    "obj = pd.Series(np.arange(5.),index = ['a','b','c','d','e'])\n",
    "print(obj,'\\n')\n",
    "new_obj = obj.drop('c')\n",
    "print(new_obj,'\\n')\n",
    "print(obj.drop([\"d\",\"c\"]),'\\n')"
   ]
  },
  {
   "cell_type": "code",
   "execution_count": 31,
   "id": "c354999e",
   "metadata": {},
   "outputs": [
    {
     "name": "stdout",
     "output_type": "stream",
     "text": [
      "b    1.0\n",
      "c    2.0\n",
      "d    3.0\n",
      "dtype: float64\n",
      "a    0.0\n",
      "b    3.0\n",
      "c    3.0\n",
      "d    3.0\n",
      "e    4.0\n",
      "dtype: float64\n"
     ]
    }
   ],
   "source": [
    "print(obj['b':\"d\"])\n",
    "obj[\"b\":\"d\"]=3\n",
    "print(obj)"
   ]
  },
  {
   "cell_type": "code",
   "execution_count": 45,
   "id": "1c5d38de",
   "metadata": {},
   "outputs": [
    {
     "name": "stdout",
     "output_type": "stream",
     "text": [
      "   MSC  KALM  VORON\n",
      "a    0     1      2\n",
      "c    0     0      0\n",
      "d    0     0      0\n",
      "e    0     0      0\n",
      "   MSC  KALM  VORON\n",
      "a    0     1      2\n",
      "c    0     0      0 \n",
      "\n",
      "   MSC  KALM  VORON\n",
      "c    0     0      0\n",
      "d    0     0      0\n",
      "e    0     0      0 \n",
      "\n",
      "    MSC  KALM  VORON\n",
      "a  True  True  False\n",
      "c  True  True   True\n",
      "d  True  True   True\n",
      "e  True  True   True \n",
      "\n",
      "   MSC  KALM  VORON\n",
      "a    0     1      2\n",
      "c    0     0      0\n",
      "d    0     0      0\n",
      "e    0     0      0\n"
     ]
    }
   ],
   "source": [
    "print(frame)\n",
    "print(frame[:2],'\\n')\n",
    "print(frame[frame[\"VORON\"]<2],'\\n')\n",
    "print(frame<2,'\\n')\n",
    "frame[frame>2]=0\n",
    "print(frame)"
   ]
  },
  {
   "cell_type": "code",
   "execution_count": 36,
   "id": "bb4cd70b",
   "metadata": {},
   "outputs": [
    {
     "name": "stdout",
     "output_type": "stream",
     "text": [
      "a    0\n",
      "c    3\n",
      "d    6\n",
      "e    9\n",
      "Name: MSC, dtype: int32\n",
      "   MSC  KALM\n",
      "a    0     1\n",
      "c    3     4\n",
      "d    6     7\n",
      "e    9    10\n"
     ]
    }
   ],
   "source": [
    "print(frame[\"MSC\"])\n",
    "print(frame[[\"MSC\",\"KALM\"]])"
   ]
  },
  {
   "cell_type": "code",
   "execution_count": 48,
   "id": "5d0e21b9",
   "metadata": {},
   "outputs": [
    {
     "name": "stdout",
     "output_type": "stream",
     "text": [
      "a    7.3\n",
      "c   -2.5\n",
      "d    3.4\n",
      "e    1.5\n",
      "dtype: float64\n",
      "a   -2.1\n",
      "c    3.6\n",
      "e   -1.5\n",
      "f    4.0\n",
      "g    3.3\n",
      "dtype: float64\n",
      "a    5.2\n",
      "c    1.1\n",
      "d    NaN\n",
      "e    0.0\n",
      "f    NaN\n",
      "g    NaN\n",
      "dtype: float64\n"
     ]
    }
   ],
   "source": [
    "s1 = pd.Series([7.3,-2.5,3.4,1.5],index=[\"a\",\"c\",\"d\",\"e\"])\n",
    "s2 = pd.Series([-2.1,3.6,-1.5,4,3.3],index=[\"a\",\"c\",\"e\",\"f\",\"g\"])\n",
    "print(s1)\n",
    "print(s2)\n",
    "print(s1+s2)\n"
   ]
  },
  {
   "cell_type": "code",
   "execution_count": 51,
   "id": "6afaddde",
   "metadata": {},
   "outputs": [
    {
     "name": "stdout",
     "output_type": "stream",
     "text": [
      "[[ 0  1  2  3]\n",
      " [ 4  5  6  7]\n",
      " [ 8  9 10 11]]\n"
     ]
    }
   ],
   "source": [
    "arr = np.arange(12).reshape(3,4)\n",
    "print(arr)"
   ]
  },
  {
   "cell_type": "code",
   "execution_count": 53,
   "id": "8a0381ca",
   "metadata": {},
   "outputs": [
    {
     "data": {
      "text/plain": [
       "a    3\n",
       "b    0\n",
       "c    2\n",
       "d    1\n",
       "dtype: int64"
      ]
     },
     "execution_count": 53,
     "metadata": {},
     "output_type": "execute_result"
    }
   ],
   "source": [
    "obj = pd.Series(range(4),index=[\"b\",\"d\",'c',\"a\"])\n",
    "obj.sort_index()"
   ]
  },
  {
   "cell_type": "code",
   "execution_count": 62,
   "id": "43db9b20",
   "metadata": {},
   "outputs": [
    {
     "name": "stdout",
     "output_type": "stream",
     "text": [
      "       a  c   d   b\n",
      "one    8  9  10  11\n",
      "three  0  1   2   3\n",
      "two    4  5   6   7\n",
      "       a   b  c   d\n",
      "three  0   3  1   2\n",
      "two    4   7  5   6\n",
      "one    8  11  9  10 \n",
      "\n",
      "        d  c   b  a\n",
      "three   2  1   3  0\n",
      "two     6  5   7  4\n",
      "one    10  9  11  8\n"
     ]
    }
   ],
   "source": [
    "frame = pd.DataFrame(np.arange(12).reshape((3,4)),\n",
    "                    columns=['a','c','d','b'],\n",
    "                    index=[\"three\",\"two\",\"one\"])\n",
    "print(frame.sort_index())\n",
    "print(frame.sort_index(axis=1),'\\n')\n",
    "print(frame.sort_index(axis=1,ascending=False))"
   ]
  },
  {
   "cell_type": "code",
   "execution_count": 66,
   "id": "bdf5027f",
   "metadata": {},
   "outputs": [
    {
     "data": {
      "text/plain": [
       "4   -1.0\n",
       "3    2.0\n",
       "0    4.0\n",
       "1    5.0\n",
       "2    NaN\n",
       "dtype: float64"
      ]
     },
     "execution_count": 66,
     "metadata": {},
     "output_type": "execute_result"
    }
   ],
   "source": [
    "obj = pd.Series([4,5,np.NaN,2,-1])\n",
    "obj.sort_values()"
   ]
  },
  {
   "cell_type": "code",
   "execution_count": 67,
   "id": "fefe7cd6",
   "metadata": {},
   "outputs": [
    {
     "data": {
      "text/html": [
       "<div>\n",
       "<style scoped>\n",
       "    .dataframe tbody tr th:only-of-type {\n",
       "        vertical-align: middle;\n",
       "    }\n",
       "\n",
       "    .dataframe tbody tr th {\n",
       "        vertical-align: top;\n",
       "    }\n",
       "\n",
       "    .dataframe thead th {\n",
       "        text-align: right;\n",
       "    }\n",
       "</style>\n",
       "<table border=\"1\" class=\"dataframe\">\n",
       "  <thead>\n",
       "    <tr style=\"text-align: right;\">\n",
       "      <th></th>\n",
       "      <th>b</th>\n",
       "      <th>a</th>\n",
       "    </tr>\n",
       "  </thead>\n",
       "  <tbody>\n",
       "    <tr>\n",
       "      <th>0</th>\n",
       "      <td>4</td>\n",
       "      <td>1</td>\n",
       "    </tr>\n",
       "    <tr>\n",
       "      <th>1</th>\n",
       "      <td>2</td>\n",
       "      <td>4</td>\n",
       "    </tr>\n",
       "    <tr>\n",
       "      <th>2</th>\n",
       "      <td>-2</td>\n",
       "      <td>12</td>\n",
       "    </tr>\n",
       "    <tr>\n",
       "      <th>3</th>\n",
       "      <td>4</td>\n",
       "      <td>4</td>\n",
       "    </tr>\n",
       "  </tbody>\n",
       "</table>\n",
       "</div>"
      ],
      "text/plain": [
       "   b   a\n",
       "0  4   1\n",
       "1  2   4\n",
       "2 -2  12\n",
       "3  4   4"
      ]
     },
     "execution_count": 67,
     "metadata": {},
     "output_type": "execute_result"
    }
   ],
   "source": [
    "frame = pd.DataFrame({'b':[4,2,-2,4],'a':[1,4,12,4]})\n",
    "frame"
   ]
  },
  {
   "cell_type": "code",
   "execution_count": 68,
   "id": "64d358dc",
   "metadata": {},
   "outputs": [
    {
     "data": {
      "text/html": [
       "<div>\n",
       "<style scoped>\n",
       "    .dataframe tbody tr th:only-of-type {\n",
       "        vertical-align: middle;\n",
       "    }\n",
       "\n",
       "    .dataframe tbody tr th {\n",
       "        vertical-align: top;\n",
       "    }\n",
       "\n",
       "    .dataframe thead th {\n",
       "        text-align: right;\n",
       "    }\n",
       "</style>\n",
       "<table border=\"1\" class=\"dataframe\">\n",
       "  <thead>\n",
       "    <tr style=\"text-align: right;\">\n",
       "      <th></th>\n",
       "      <th>b</th>\n",
       "      <th>a</th>\n",
       "    </tr>\n",
       "  </thead>\n",
       "  <tbody>\n",
       "    <tr>\n",
       "      <th>2</th>\n",
       "      <td>-2</td>\n",
       "      <td>12</td>\n",
       "    </tr>\n",
       "    <tr>\n",
       "      <th>1</th>\n",
       "      <td>2</td>\n",
       "      <td>4</td>\n",
       "    </tr>\n",
       "    <tr>\n",
       "      <th>0</th>\n",
       "      <td>4</td>\n",
       "      <td>1</td>\n",
       "    </tr>\n",
       "    <tr>\n",
       "      <th>3</th>\n",
       "      <td>4</td>\n",
       "      <td>4</td>\n",
       "    </tr>\n",
       "  </tbody>\n",
       "</table>\n",
       "</div>"
      ],
      "text/plain": [
       "   b   a\n",
       "2 -2  12\n",
       "1  2   4\n",
       "0  4   1\n",
       "3  4   4"
      ]
     },
     "execution_count": 68,
     "metadata": {},
     "output_type": "execute_result"
    }
   ],
   "source": [
    "frame.sort_values(by='b')"
   ]
  },
  {
   "cell_type": "code",
   "execution_count": 69,
   "id": "bf0930e8",
   "metadata": {},
   "outputs": [
    {
     "data": {
      "text/plain": [
       "0    3.0\n",
       "1    4.0\n",
       "2    NaN\n",
       "3    2.0\n",
       "4    1.0\n",
       "dtype: float64"
      ]
     },
     "execution_count": 69,
     "metadata": {},
     "output_type": "execute_result"
    }
   ],
   "source": [
    "obj.rank()"
   ]
  },
  {
   "cell_type": "code",
   "execution_count": 70,
   "id": "d8fbfb4b",
   "metadata": {},
   "outputs": [
    {
     "data": {
      "text/html": [
       "<div>\n",
       "<style scoped>\n",
       "    .dataframe tbody tr th:only-of-type {\n",
       "        vertical-align: middle;\n",
       "    }\n",
       "\n",
       "    .dataframe tbody tr th {\n",
       "        vertical-align: top;\n",
       "    }\n",
       "\n",
       "    .dataframe thead th {\n",
       "        text-align: right;\n",
       "    }\n",
       "</style>\n",
       "<table border=\"1\" class=\"dataframe\">\n",
       "  <thead>\n",
       "    <tr style=\"text-align: right;\">\n",
       "      <th></th>\n",
       "      <th>b</th>\n",
       "      <th>a</th>\n",
       "    </tr>\n",
       "  </thead>\n",
       "  <tbody>\n",
       "    <tr>\n",
       "      <th>0</th>\n",
       "      <td>2.0</td>\n",
       "      <td>1.0</td>\n",
       "    </tr>\n",
       "    <tr>\n",
       "      <th>1</th>\n",
       "      <td>1.0</td>\n",
       "      <td>2.0</td>\n",
       "    </tr>\n",
       "    <tr>\n",
       "      <th>2</th>\n",
       "      <td>1.0</td>\n",
       "      <td>2.0</td>\n",
       "    </tr>\n",
       "    <tr>\n",
       "      <th>3</th>\n",
       "      <td>1.5</td>\n",
       "      <td>1.5</td>\n",
       "    </tr>\n",
       "  </tbody>\n",
       "</table>\n",
       "</div>"
      ],
      "text/plain": [
       "     b    a\n",
       "0  2.0  1.0\n",
       "1  1.0  2.0\n",
       "2  1.0  2.0\n",
       "3  1.5  1.5"
      ]
     },
     "execution_count": 70,
     "metadata": {},
     "output_type": "execute_result"
    }
   ],
   "source": [
    "frame.rank(axis='columns')"
   ]
  },
  {
   "cell_type": "code",
   "execution_count": 71,
   "id": "43d0b0e0",
   "metadata": {},
   "outputs": [
    {
     "data": {
      "text/html": [
       "<div>\n",
       "<style scoped>\n",
       "    .dataframe tbody tr th:only-of-type {\n",
       "        vertical-align: middle;\n",
       "    }\n",
       "\n",
       "    .dataframe tbody tr th {\n",
       "        vertical-align: top;\n",
       "    }\n",
       "\n",
       "    .dataframe thead th {\n",
       "        text-align: right;\n",
       "    }\n",
       "</style>\n",
       "<table border=\"1\" class=\"dataframe\">\n",
       "  <thead>\n",
       "    <tr style=\"text-align: right;\">\n",
       "      <th></th>\n",
       "      <th>b</th>\n",
       "      <th>a</th>\n",
       "    </tr>\n",
       "  </thead>\n",
       "  <tbody>\n",
       "    <tr>\n",
       "      <th>0</th>\n",
       "      <td>3.5</td>\n",
       "      <td>1.0</td>\n",
       "    </tr>\n",
       "    <tr>\n",
       "      <th>1</th>\n",
       "      <td>2.0</td>\n",
       "      <td>2.5</td>\n",
       "    </tr>\n",
       "    <tr>\n",
       "      <th>2</th>\n",
       "      <td>1.0</td>\n",
       "      <td>4.0</td>\n",
       "    </tr>\n",
       "    <tr>\n",
       "      <th>3</th>\n",
       "      <td>3.5</td>\n",
       "      <td>2.5</td>\n",
       "    </tr>\n",
       "  </tbody>\n",
       "</table>\n",
       "</div>"
      ],
      "text/plain": [
       "     b    a\n",
       "0  3.5  1.0\n",
       "1  2.0  2.5\n",
       "2  1.0  4.0\n",
       "3  3.5  2.5"
      ]
     },
     "execution_count": 71,
     "metadata": {},
     "output_type": "execute_result"
    }
   ],
   "source": [
    "frame.rank(axis='rows')"
   ]
  },
  {
   "cell_type": "code",
   "execution_count": 76,
   "id": "127436ab",
   "metadata": {},
   "outputs": [
    {
     "data": {
      "text/plain": [
       "b    0\n",
       "b    1\n",
       "a    2\n",
       "a    3\n",
       "c    4\n",
       "dtype: int64"
      ]
     },
     "execution_count": 76,
     "metadata": {},
     "output_type": "execute_result"
    }
   ],
   "source": [
    "obj = pd.Series(range(5),index=['b','b','a',\"a\",'c'])\n",
    "obj"
   ]
  },
  {
   "cell_type": "code",
   "execution_count": 78,
   "id": "f34a0fb2",
   "metadata": {},
   "outputs": [
    {
     "data": {
      "text/plain": [
       "False"
      ]
     },
     "execution_count": 78,
     "metadata": {},
     "output_type": "execute_result"
    }
   ],
   "source": [
    "obj.index.is_unique"
   ]
  },
  {
   "cell_type": "code",
   "execution_count": 79,
   "id": "b3bb40be",
   "metadata": {},
   "outputs": [
    {
     "data": {
      "text/plain": [
       "a    2\n",
       "a    3\n",
       "dtype: int64"
      ]
     },
     "execution_count": 79,
     "metadata": {},
     "output_type": "execute_result"
    }
   ],
   "source": [
    "obj['a']"
   ]
  },
  {
   "cell_type": "code",
   "execution_count": 80,
   "id": "395719fa",
   "metadata": {},
   "outputs": [
    {
     "data": {
      "text/html": [
       "<div>\n",
       "<style scoped>\n",
       "    .dataframe tbody tr th:only-of-type {\n",
       "        vertical-align: middle;\n",
       "    }\n",
       "\n",
       "    .dataframe tbody tr th {\n",
       "        vertical-align: top;\n",
       "    }\n",
       "\n",
       "    .dataframe thead th {\n",
       "        text-align: right;\n",
       "    }\n",
       "</style>\n",
       "<table border=\"1\" class=\"dataframe\">\n",
       "  <thead>\n",
       "    <tr style=\"text-align: right;\">\n",
       "      <th></th>\n",
       "      <th>0</th>\n",
       "      <th>1</th>\n",
       "      <th>2</th>\n",
       "    </tr>\n",
       "  </thead>\n",
       "  <tbody>\n",
       "    <tr>\n",
       "      <th>a</th>\n",
       "      <td>0.389596</td>\n",
       "      <td>-0.219119</td>\n",
       "      <td>-1.027851</td>\n",
       "    </tr>\n",
       "    <tr>\n",
       "      <th>a</th>\n",
       "      <td>0.454455</td>\n",
       "      <td>-1.084845</td>\n",
       "      <td>0.048210</td>\n",
       "    </tr>\n",
       "    <tr>\n",
       "      <th>b</th>\n",
       "      <td>-0.382219</td>\n",
       "      <td>-1.873332</td>\n",
       "      <td>-0.969788</td>\n",
       "    </tr>\n",
       "    <tr>\n",
       "      <th>b</th>\n",
       "      <td>-0.382666</td>\n",
       "      <td>1.527885</td>\n",
       "      <td>-1.405146</td>\n",
       "    </tr>\n",
       "  </tbody>\n",
       "</table>\n",
       "</div>"
      ],
      "text/plain": [
       "          0         1         2\n",
       "a  0.389596 -0.219119 -1.027851\n",
       "a  0.454455 -1.084845  0.048210\n",
       "b -0.382219 -1.873332 -0.969788\n",
       "b -0.382666  1.527885 -1.405146"
      ]
     },
     "execution_count": 80,
     "metadata": {},
     "output_type": "execute_result"
    }
   ],
   "source": [
    "frame = pd.DataFrame(np.random.randn(4,3),index=['a','a','b','b'])\n",
    "frame"
   ]
  },
  {
   "cell_type": "code",
   "execution_count": 81,
   "id": "49f531ad",
   "metadata": {},
   "outputs": [
    {
     "data": {
      "text/html": [
       "<div>\n",
       "<style scoped>\n",
       "    .dataframe tbody tr th:only-of-type {\n",
       "        vertical-align: middle;\n",
       "    }\n",
       "\n",
       "    .dataframe tbody tr th {\n",
       "        vertical-align: top;\n",
       "    }\n",
       "\n",
       "    .dataframe thead th {\n",
       "        text-align: right;\n",
       "    }\n",
       "</style>\n",
       "<table border=\"1\" class=\"dataframe\">\n",
       "  <thead>\n",
       "    <tr style=\"text-align: right;\">\n",
       "      <th></th>\n",
       "      <th>0</th>\n",
       "      <th>1</th>\n",
       "      <th>2</th>\n",
       "    </tr>\n",
       "  </thead>\n",
       "  <tbody>\n",
       "    <tr>\n",
       "      <th>b</th>\n",
       "      <td>-0.382219</td>\n",
       "      <td>-1.873332</td>\n",
       "      <td>-0.969788</td>\n",
       "    </tr>\n",
       "    <tr>\n",
       "      <th>b</th>\n",
       "      <td>-0.382666</td>\n",
       "      <td>1.527885</td>\n",
       "      <td>-1.405146</td>\n",
       "    </tr>\n",
       "  </tbody>\n",
       "</table>\n",
       "</div>"
      ],
      "text/plain": [
       "          0         1         2\n",
       "b -0.382219 -1.873332 -0.969788\n",
       "b -0.382666  1.527885 -1.405146"
      ]
     },
     "execution_count": 81,
     "metadata": {},
     "output_type": "execute_result"
    }
   ],
   "source": [
    "frame.loc['b']"
   ]
  },
  {
   "cell_type": "code",
   "execution_count": 83,
   "id": "8b944264",
   "metadata": {},
   "outputs": [
    {
     "data": {
      "text/plain": [
       "a   -0.857374\n",
       "a   -0.582180\n",
       "b   -3.225339\n",
       "b   -0.259927\n",
       "dtype: float64"
      ]
     },
     "execution_count": 83,
     "metadata": {},
     "output_type": "execute_result"
    }
   ],
   "source": [
    "frame.sum(axis='columns')"
   ]
  },
  {
   "cell_type": "code",
   "execution_count": 84,
   "id": "bff9be71",
   "metadata": {},
   "outputs": [
    {
     "data": {
      "text/plain": [
       "a   -0.285791\n",
       "a   -0.194060\n",
       "b   -1.075113\n",
       "b   -0.086642\n",
       "dtype: float64"
      ]
     },
     "execution_count": 84,
     "metadata": {},
     "output_type": "execute_result"
    }
   ],
   "source": [
    "frame.mean(axis='columns',skipna=False)"
   ]
  },
  {
   "cell_type": "code",
   "execution_count": 85,
   "id": "b6e136b9",
   "metadata": {},
   "outputs": [
    {
     "data": {
      "text/plain": [
       "0    a\n",
       "1    b\n",
       "2    a\n",
       "dtype: object"
      ]
     },
     "execution_count": 85,
     "metadata": {},
     "output_type": "execute_result"
    }
   ],
   "source": [
    "frame.idxmax()"
   ]
  },
  {
   "cell_type": "code",
   "execution_count": 86,
   "id": "41feaad1",
   "metadata": {},
   "outputs": [
    {
     "data": {
      "text/plain": [
       "0    b\n",
       "1    b\n",
       "2    b\n",
       "dtype: object"
      ]
     },
     "execution_count": 86,
     "metadata": {},
     "output_type": "execute_result"
    }
   ],
   "source": [
    "frame.idxmin()"
   ]
  },
  {
   "cell_type": "code",
   "execution_count": 87,
   "id": "c86d6966",
   "metadata": {},
   "outputs": [
    {
     "data": {
      "text/html": [
       "<div>\n",
       "<style scoped>\n",
       "    .dataframe tbody tr th:only-of-type {\n",
       "        vertical-align: middle;\n",
       "    }\n",
       "\n",
       "    .dataframe tbody tr th {\n",
       "        vertical-align: top;\n",
       "    }\n",
       "\n",
       "    .dataframe thead th {\n",
       "        text-align: right;\n",
       "    }\n",
       "</style>\n",
       "<table border=\"1\" class=\"dataframe\">\n",
       "  <thead>\n",
       "    <tr style=\"text-align: right;\">\n",
       "      <th></th>\n",
       "      <th>0</th>\n",
       "      <th>1</th>\n",
       "      <th>2</th>\n",
       "    </tr>\n",
       "  </thead>\n",
       "  <tbody>\n",
       "    <tr>\n",
       "      <th>count</th>\n",
       "      <td>4.000000</td>\n",
       "      <td>4.000000</td>\n",
       "      <td>4.000000</td>\n",
       "    </tr>\n",
       "    <tr>\n",
       "      <th>mean</th>\n",
       "      <td>0.019792</td>\n",
       "      <td>-0.412353</td>\n",
       "      <td>-0.838644</td>\n",
       "    </tr>\n",
       "    <tr>\n",
       "      <th>std</th>\n",
       "      <td>0.465214</td>\n",
       "      <td>1.459288</td>\n",
       "      <td>0.621941</td>\n",
       "    </tr>\n",
       "    <tr>\n",
       "      <th>min</th>\n",
       "      <td>-0.382666</td>\n",
       "      <td>-1.873332</td>\n",
       "      <td>-1.405146</td>\n",
       "    </tr>\n",
       "    <tr>\n",
       "      <th>25%</th>\n",
       "      <td>-0.382331</td>\n",
       "      <td>-1.281967</td>\n",
       "      <td>-1.122175</td>\n",
       "    </tr>\n",
       "    <tr>\n",
       "      <th>50%</th>\n",
       "      <td>0.003688</td>\n",
       "      <td>-0.651982</td>\n",
       "      <td>-0.998820</td>\n",
       "    </tr>\n",
       "    <tr>\n",
       "      <th>75%</th>\n",
       "      <td>0.405811</td>\n",
       "      <td>0.217632</td>\n",
       "      <td>-0.715289</td>\n",
       "    </tr>\n",
       "    <tr>\n",
       "      <th>max</th>\n",
       "      <td>0.454455</td>\n",
       "      <td>1.527885</td>\n",
       "      <td>0.048210</td>\n",
       "    </tr>\n",
       "  </tbody>\n",
       "</table>\n",
       "</div>"
      ],
      "text/plain": [
       "              0         1         2\n",
       "count  4.000000  4.000000  4.000000\n",
       "mean   0.019792 -0.412353 -0.838644\n",
       "std    0.465214  1.459288  0.621941\n",
       "min   -0.382666 -1.873332 -1.405146\n",
       "25%   -0.382331 -1.281967 -1.122175\n",
       "50%    0.003688 -0.651982 -0.998820\n",
       "75%    0.405811  0.217632 -0.715289\n",
       "max    0.454455  1.527885  0.048210"
      ]
     },
     "execution_count": 87,
     "metadata": {},
     "output_type": "execute_result"
    }
   ],
   "source": [
    "frame.describe()"
   ]
  },
  {
   "cell_type": "code",
   "execution_count": 96,
   "id": "e3ca1029",
   "metadata": {},
   "outputs": [
    {
     "data": {
      "text/plain": [
       "<bound method Series.unique of b    0\n",
       "b    1\n",
       "a    2\n",
       "a    3\n",
       "c    4\n",
       "dtype: int64>"
      ]
     },
     "execution_count": 96,
     "metadata": {},
     "output_type": "execute_result"
    }
   ],
   "source": [
    "obj.unique"
   ]
  },
  {
   "cell_type": "code",
   "execution_count": 97,
   "id": "6e881c70",
   "metadata": {},
   "outputs": [
    {
     "data": {
      "text/plain": [
       "0    1\n",
       "1    1\n",
       "2    1\n",
       "3    1\n",
       "4    1\n",
       "dtype: int64"
      ]
     },
     "execution_count": 97,
     "metadata": {},
     "output_type": "execute_result"
    }
   ],
   "source": [
    "obj.value_counts()"
   ]
  },
  {
   "cell_type": "code",
   "execution_count": 98,
   "id": "b663abd0",
   "metadata": {},
   "outputs": [
    {
     "data": {
      "text/plain": [
       "<bound method Series.isin of b    0\n",
       "b    1\n",
       "a    2\n",
       "a    3\n",
       "c    4\n",
       "dtype: int64>"
      ]
     },
     "execution_count": 98,
     "metadata": {},
     "output_type": "execute_result"
    }
   ],
   "source": [
    "obj.isin"
   ]
  },
  {
   "cell_type": "code",
   "execution_count": null,
   "id": "706284b1",
   "metadata": {},
   "outputs": [],
   "source": []
  }
 ],
 "metadata": {
  "kernelspec": {
   "display_name": "Python 3 (ipykernel)",
   "language": "python",
   "name": "python3"
  },
  "language_info": {
   "codemirror_mode": {
    "name": "ipython",
    "version": 3
   },
   "file_extension": ".py",
   "mimetype": "text/x-python",
   "name": "python",
   "nbconvert_exporter": "python",
   "pygments_lexer": "ipython3",
   "version": "3.8.0"
  }
 },
 "nbformat": 4,
 "nbformat_minor": 5
}
