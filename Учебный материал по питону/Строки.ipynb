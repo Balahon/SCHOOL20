{
 "cells": [
  {
   "cell_type": "code",
   "execution_count": 18,
   "id": "74493dee",
   "metadata": {},
   "outputs": [
    {
     "name": "stdout",
     "output_type": "stream",
     "text": [
      " I'm Yuri and I'm 'strong' men\n",
      " I'm Yuri and I'm \"strong\" men\n"
     ]
    }
   ],
   "source": [
    "print(\" I'm Yuri and I'm 'strong' men\")\n",
    "# 'I'm Yuri and I'm \"strong\" men'  ошибка\n",
    "print(\" I'm Yuri and I'm \\\"strong\\\" men\")\n"
   ]
  },
  {
   "cell_type": "code",
   "execution_count": 22,
   "id": "2c9bae10",
   "metadata": {},
   "outputs": [
    {
     "name": "stdout",
     "output_type": "stream",
     "text": [
      "C:\\Program Files (x86)\\ICCup\\Launcher\n",
      "C:\\Program Files (x86)\\ICCup\\Launcher\n",
      "C:\\\\Program Files (x86)\\\\ICCup\\\\Launcher\n",
      "C:\\Program Files (x86)\\ICCup\\Launcher\n"
     ]
    }
   ],
   "source": [
    "print('C:\\Program Files (x86)\\ICCup\\Launcher')\n",
    "print('C:\\\\Program Files (x86)\\\\ICCup\\\\Launcher')\n",
    "print(r'C:\\\\Program Files (x86)\\\\ICCup\\\\Launcher')\n",
    "print(r'C:\\Program Files (x86)\\ICCup\\Launcher')"
   ]
  },
  {
   "cell_type": "code",
   "execution_count": 26,
   "id": "66df761a",
   "metadata": {},
   "outputs": [
    {
     "name": "stdout",
     "output_type": "stream",
     "text": [
      "I'm Yuri and \n",
      "I'm 'strong' men\n",
      " I'm Yuri and \r\n",
      "I'm 'strong' men\n"
     ]
    }
   ],
   "source": [
    "print(\"I'm Yuri and \\nI'm 'strong' men\")\n",
    "print(\"I'm Yuri and \\r\\nI'm 'strong' men\")\n",
    "\n"
   ]
  },
  {
   "cell_type": "code",
   "execution_count": 4,
   "id": "702b65b8",
   "metadata": {},
   "outputs": [
    {
     "name": "stdout",
     "output_type": "stream",
     "text": [
      "spam\"s\n",
      "spam's\n"
     ]
    }
   ],
   "source": [
    "S1 = 'spam\"s'\n",
    "S2 = \"spam's\"\n",
    "print(S1)\n",
    "print(S2)"
   ]
  },
  {
   "cell_type": "code",
   "execution_count": null,
   "id": "b881ecd0",
   "metadata": {},
   "outputs": [],
   "source": [
    "Экранированная последовательность\tНазначение\n",
    "\\n\tПеревод строки\n",
    "\\a\tЗвонок\n",
    "\\b\tЗабой\n",
    "\\f\tПеревод страницы\n",
    "\\r\tВозврат каретки\n",
    "\\t\tГоризонтальная табуляция\n",
    "\\v\tВертикальная табуляция\n",
    "\\N{id}\tИдентификатор ID базы данных Юникода\n",
    "\\uhhhh\t16-битовый символ Юникода в 16-ричном представлении\n",
    "\\Uhhhh…\t32-битовый символ Юникода в 32-ричном представлении\n",
    "\\xhh\t16-ричное значение символа\n",
    "\\ooo\t8-ричное значение символа\n",
    "\\0\tСимвол Null (не является признаком конца строки)"
   ]
  },
  {
   "cell_type": "code",
   "execution_count": 7,
   "id": "298ae9e6",
   "metadata": {},
   "outputs": [
    {
     "name": "stdout",
     "output_type": "stream",
     "text": [
      "C:\\newt.txt\n",
      "\\n\\n\\\n",
      "\\n\\n\\\n",
      "\\n\\n\n"
     ]
    }
   ],
   "source": [
    "#Если перед открывающей кавычкой стоит символ 'r' \n",
    "#в любом регистре), то механизм экранирования отключается.\n",
    "print( r'C:\\newt.txt')\n",
    "print(r'\\n\\n\\\\'[:-1])\n",
    "print(r'\\n\\n' + '\\\\')\n",
    "print('\\\\n\\\\n')"
   ]
  },
  {
   "cell_type": "code",
   "execution_count": null,
   "id": "26e72f80",
   "metadata": {},
   "outputs": [],
   "source": [
    "S = r'\\n\\n\\\\'[:-1]\n",
    "S = r'\\n\\n' + '\\\\'\n",
    "S = '\\\\n\\\\n'"
   ]
  },
  {
   "cell_type": "code",
   "execution_count": 9,
   "id": "a8882ede",
   "metadata": {},
   "outputs": [
    {
     "name": "stdout",
     "output_type": "stream",
     "text": [
      "это очень большая\n",
      "... строка, многострочный\n",
      "... блок текста\n"
     ]
    }
   ],
   "source": [
    "# Главное достоинство строк в тройных кавычках в том, \n",
    "# что их можно использовать для записи многострочных блоков текста. \n",
    "# Внутри такой строки возможно присутствие кавычек и апострофов, \n",
    "# главное, чтобы не было трех кавычек подряд.\n",
    "c = '''это очень большая\n",
    "... строка, многострочный\n",
    "... блок текста'''\n",
    "print(c)"
   ]
  },
  {
   "cell_type": "code",
   "execution_count": 34,
   "id": "dcffca9a",
   "metadata": {},
   "outputs": [
    {
     "name": "stdout",
     "output_type": "stream",
     "text": [
      "i\n",
      "e\n",
      "m Yuri and I'm 'strong' men\n",
      "I'm \n",
      "I'm Yuri and I'm 'strong' men\n",
      "ImYr n ' srn'mn\n",
      "mYr n ' srn'\n"
     ]
    }
   ],
   "source": [
    "a = str(\"I'm Yuri and I'm 'strong' men\")\n",
    "print(a[7])\n",
    "print(a[-2])\n",
    "#строки не переназначаются\n",
    "# a[4] = \"w\" выдаст ошибку\n",
    "print(a[2::])\n",
    "print(a[0:4])\n",
    "print(a[::1])\n",
    "print(a[::2])\n",
    "print(a[2:25:2])\n"
   ]
  },
  {
   "cell_type": "code",
   "execution_count": 36,
   "id": "2f1696e9",
   "metadata": {},
   "outputs": [
    {
     "name": "stdout",
     "output_type": "stream",
     "text": [
      "abc def\n",
      "abc def\n",
      "abc def\n",
      "abc def\n"
     ]
    }
   ],
   "source": [
    "print(\"abc\" + \" \" + \"def\")\n",
    "a = \"abc\"\n",
    "b = \"def\"\n",
    "print(a + \" \" + b) #расходует много памяти\n",
    "print(\"%s %s\" % (a,b))\n",
    "print(\"{} {}\".format(a,b))"
   ]
  },
  {
   "cell_type": "code",
   "execution_count": 39,
   "id": "b97a00af",
   "metadata": {},
   "outputs": [
    {
     "name": "stdout",
     "output_type": "stream",
     "text": [
      "r\n",
      "2\n",
      "Hello, my name is yura\n",
      "HELLO, MY NAME IS YURA\n",
      "hello, my name is yura\n",
      "True\n",
      "True\n",
      "False\n",
      "False\n",
      "2\n",
      "-1\n",
      "-1\n",
      "11\n",
      "11\n"
     ]
    }
   ],
   "source": [
    "x = \"Hello, My name is Yura\"\n",
    "print(x[len(x) - 2])\n",
    "print(x.count(\"l\"))\n",
    "print(x.capitalize()) #Делает заглавным только первыую букву строки\n",
    "upper_cased = x.upper() #Делает заглавным всю строку\n",
    "print(upper_cased)\n",
    "lower_cased = x.lower() #Делает с маленькой буквы всю строку\n",
    "print(lower_cased)\n",
    "print(upper_cased.isupper()) #проверяет, вся строка с заглавной или нет\n",
    "print(lower_cased.islower()) #проверяет, вся строка с маленькой или нет\n",
    "print(x.isupper()) #проверяет, вся строка с заглавной или нет\n",
    "print(x.islower())  #проверяет, вся строка с маленькой или нет\n",
    "print(x.find(\"l\")) #возвражает индекс первого вхождения буквы в строку\n",
    "print(x.find(\"l\", 5))  #возвражает индекс первого вхождения буквы в строку с 5 индекса\n",
    "print(x.find(\"l\", 5, 10)) #c 5 по 10 индекс\n",
    "print(x.find(\"a\",2, 15))\n",
    "print(x.find(\"a\", 6, 20))"
   ]
  },
  {
   "cell_type": "code",
   "execution_count": 42,
   "id": "aea30a6b",
   "metadata": {},
   "outputs": [
    {
     "name": "stdout",
     "output_type": "stream",
     "text": [
      "True\n",
      "False\n",
      "False\n",
      "True\n",
      "True\n",
      "False\n"
     ]
    }
   ],
   "source": [
    "print(\"123asd\".isalnum())# провекра,строка состоит из цифр и букв\n",
    "print(\"123asd!\".isalnum())\n",
    "print(\"123asd\".isalpha())#только буквы\n",
    "print(\"asd\".isalpha())\n",
    "print(\" \".isspace())\n",
    "print(\"\".isspace())"
   ]
  },
  {
   "cell_type": "code",
   "execution_count": 45,
   "id": "51897da0",
   "metadata": {},
   "outputs": [
    {
     "name": "stdout",
     "output_type": "stream",
     "text": [
      "True\n",
      "True\n",
      "empty\n"
     ]
    }
   ],
   "source": [
    "emty_string = \"\"\n",
    "print(emty_string == \"\")\n",
    "empty_string = \"    \"\n",
    "print(empty_string.strip() == \"\")\n",
    "empty_string1 = \"   \"\n",
    "if not empty_string1:\n",
    "    print(\"not empty\")\n",
    "else:\n",
    "    print(\"empty\")"
   ]
  },
  {
   "cell_type": "code",
   "execution_count": 49,
   "id": "fb80a5e7",
   "metadata": {},
   "outputs": [
    {
     "name": "stdout",
     "output_type": "stream",
     "text": [
      "True\n",
      "False\n",
      "<class 'list'>\n",
      "['he', '', 'o']\n",
      "['h', 'llo']\n"
     ]
    }
   ],
   "source": [
    "h = \"hello\"\n",
    "print(h.startswith(\"he\")) #строчка начинается с he?\n",
    "print(h.endswith(\"he\")) #строчка заканчивается на he?\n",
    "split = h.split(\"l\") #семантическое разделение строки\n",
    "print(type(split))\n",
    "print(split)\n",
    "split = h.split(\"e\")\n",
    "print(split)"
   ]
  },
  {
   "cell_type": "code",
   "execution_count": 48,
   "id": "62f48c87",
   "metadata": {},
   "outputs": [
    {
     "name": "stdout",
     "output_type": "stream",
     "text": [
      "['12', '10', '8', '9', '10', '2', '4']\n"
     ]
    }
   ],
   "source": [
    "data = \"12;10;8;9;10;2;4\"\n",
    "separate_data = data.split(\";\") #удаляем ;\n",
    "# и записываем строчку в виде списка\n",
    "print(separate_data)"
   ]
  },
  {
   "cell_type": "code",
   "execution_count": 50,
   "id": "bffaedfb",
   "metadata": {},
   "outputs": [
    {
     "name": "stdout",
     "output_type": "stream",
     "text": [
      "('Python ', 'is ', 'fun')\n",
      "('Python is fun', '', '')\n",
      "('Python ', 'is', \" fun, isn't it\")\n"
     ]
    }
   ],
   "source": [
    "python = \"Python is fun\"\n",
    "print(python.partition(\"is \")) # значение в скобках - сепоратор\n",
    "print(python.partition(\"not \"))\n",
    "# возвращает чать строки до, сам сепоратор и часть после\n",
    "python = \"Python is fun, isn't it\"\n",
    "print(python.partition(\"is\")) "
   ]
  },
  {
   "cell_type": "code",
   "execution_count": 52,
   "id": "c2f6ee0c",
   "metadata": {},
   "outputs": [
    {
     "name": "stdout",
     "output_type": "stream",
     "text": [
      "My name is Yura and I'm 25\n",
      "abcdefэто очень большая\n",
      "... строка, многострочный\n",
      "... блок текста\n"
     ]
    }
   ],
   "source": [
    "print(\"My name is {} and I'm {}\".format(\"Yura\",25))\n",
    "print(\"{}{}{}\".format(a, b, c)) \n",
    "# {:5d} - 5 позиций (d - decimal - десятичный)\n",
    "#{:7.3f} - 7 позиций, 3 знака после запятой (f - fixed - фиксированный)\n",
    "#{:10.3e} - 10 позиций, 3 знака после десятичной точки в записи значений\n",
    "# *3.333e-01**1.111e-01"
   ]
  },
  {
   "cell_type": "code",
   "execution_count": 54,
   "id": "65592990",
   "metadata": {},
   "outputs": [
    {
     "name": "stdout",
     "output_type": "stream",
     "text": [
      "a = 1  b = 2\n"
     ]
    }
   ],
   "source": [
    "a = 1\n",
    "b = 2\n",
    "print(f\"a = {a}  b = {b}\")"
   ]
  },
  {
   "cell_type": "code",
   "execution_count": 1,
   "id": "b19e885b",
   "metadata": {},
   "outputs": [
    {
     "data": {
      "text/plain": [
       "'C:\\\\Users\\\\Balah\\\\Учебный материал по питону'"
      ]
     },
     "execution_count": 1,
     "metadata": {},
     "output_type": "execute_result"
    }
   ],
   "source": [
    "pwd"
   ]
  }
 ],
 "metadata": {
  "kernelspec": {
   "display_name": "Python 3 (ipykernel)",
   "language": "python",
   "name": "python3"
  },
  "language_info": {
   "codemirror_mode": {
    "name": "ipython",
    "version": 3
   },
   "file_extension": ".py",
   "mimetype": "text/x-python",
   "name": "python",
   "nbconvert_exporter": "python",
   "pygments_lexer": "ipython3",
   "version": "3.8.7"
  }
 },
 "nbformat": 4,
 "nbformat_minor": 5
}
