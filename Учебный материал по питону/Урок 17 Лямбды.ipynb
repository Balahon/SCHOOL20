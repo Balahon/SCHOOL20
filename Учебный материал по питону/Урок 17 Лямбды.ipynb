{
 "cells": [
  {
   "cell_type": "code",
   "execution_count": 1,
   "id": "1e760e46",
   "metadata": {},
   "outputs": [],
   "source": [
    "def f1(*args):\n",
    "    return [x*x for x in args]"
   ]
  },
  {
   "cell_type": "code",
   "execution_count": 2,
   "id": "e70d5a70",
   "metadata": {},
   "outputs": [
    {
     "data": {
      "text/plain": [
       "[1, 4, 9, 16, 25]"
      ]
     },
     "execution_count": 2,
     "metadata": {},
     "output_type": "execute_result"
    }
   ],
   "source": [
    "res = f1(1,2,3,4,5)\n",
    "res"
   ]
  },
  {
   "cell_type": "code",
   "execution_count": 3,
   "id": "27ee3010",
   "metadata": {},
   "outputs": [],
   "source": [
    "def f2(*args):\n",
    "    return [x*3 for x in args]"
   ]
  },
  {
   "cell_type": "code",
   "execution_count": 4,
   "id": "c1a81364",
   "metadata": {},
   "outputs": [
    {
     "data": {
      "text/plain": [
       "[3, 6, 9, 12, 15]"
      ]
     },
     "execution_count": 4,
     "metadata": {},
     "output_type": "execute_result"
    }
   ],
   "source": [
    "res = f2(1,2,3,4,5)\n",
    "res"
   ]
  },
  {
   "cell_type": "code",
   "execution_count": 5,
   "id": "dcfcf2d7",
   "metadata": {},
   "outputs": [
    {
     "data": {
      "text/plain": [
       "<map at 0x1d785c906a0>"
      ]
     },
     "execution_count": 5,
     "metadata": {},
     "output_type": "execute_result"
    }
   ],
   "source": [
    "def f3(number):\n",
    "    return number*number\n",
    "numbers = [1,2,3,4,5]\n",
    "map(f3,numbers)"
   ]
  },
  {
   "cell_type": "code",
   "execution_count": 8,
   "id": "aabefd9c",
   "metadata": {},
   "outputs": [
    {
     "name": "stdout",
     "output_type": "stream",
     "text": [
      "1\n",
      "4\n",
      "9\n",
      "16\n",
      "25\n"
     ]
    }
   ],
   "source": [
    "mapped = map(f3,numbers)\n",
    "for x in map(f3, numbers):\n",
    "             print(x)"
   ]
  },
  {
   "cell_type": "code",
   "execution_count": 9,
   "id": "7b0a6b4f",
   "metadata": {},
   "outputs": [
    {
     "name": "stdout",
     "output_type": "stream",
     "text": [
      "<class 'map'>\n"
     ]
    }
   ],
   "source": [
    "print(type(mapped))"
   ]
  },
  {
   "cell_type": "code",
   "execution_count": 10,
   "id": "bce360cc",
   "metadata": {},
   "outputs": [
    {
     "data": {
      "text/plain": [
       "[1, 4, 9, 16, 25]"
      ]
     },
     "execution_count": 10,
     "metadata": {},
     "output_type": "execute_result"
    }
   ],
   "source": [
    "list(mapped)"
   ]
  },
  {
   "cell_type": "code",
   "execution_count": 11,
   "id": "92d62ae3",
   "metadata": {},
   "outputs": [
    {
     "data": {
      "text/plain": [
       "[1, 4, 9, 16, 25]"
      ]
     },
     "execution_count": 11,
     "metadata": {},
     "output_type": "execute_result"
    }
   ],
   "source": [
    "list(map(f3,numbers))"
   ]
  },
  {
   "cell_type": "code",
   "execution_count": 12,
   "id": "b44eb925",
   "metadata": {},
   "outputs": [],
   "source": [
    "def f4(age):\n",
    "    return age >= 18\n",
    "ages = [12,53,23,54]"
   ]
  },
  {
   "cell_type": "code",
   "execution_count": 13,
   "id": "aa956a26",
   "metadata": {},
   "outputs": [
    {
     "data": {
      "text/plain": [
       "<filter at 0x1d785d44340>"
      ]
     },
     "execution_count": 13,
     "metadata": {},
     "output_type": "execute_result"
    }
   ],
   "source": [
    "filter(f4,ages)"
   ]
  },
  {
   "cell_type": "code",
   "execution_count": 14,
   "id": "3fe982d8",
   "metadata": {},
   "outputs": [
    {
     "data": {
      "text/plain": [
       "[53, 23, 54]"
      ]
     },
     "execution_count": 14,
     "metadata": {},
     "output_type": "execute_result"
    }
   ],
   "source": [
    "list(filter(f4, ages))"
   ]
  },
  {
   "cell_type": "code",
   "execution_count": 15,
   "id": "6959d00b",
   "metadata": {},
   "outputs": [],
   "source": [
    "f5 = lambda age : age >= 18"
   ]
  },
  {
   "cell_type": "code",
   "execution_count": 16,
   "id": "b030b104",
   "metadata": {},
   "outputs": [
    {
     "data": {
      "text/plain": [
       "[53, 23, 54]"
      ]
     },
     "execution_count": 16,
     "metadata": {},
     "output_type": "execute_result"
    }
   ],
   "source": [
    "list(filter(f5,ages))"
   ]
  },
  {
   "cell_type": "code",
   "execution_count": 17,
   "id": "e37922d7",
   "metadata": {},
   "outputs": [
    {
     "data": {
      "text/plain": [
       "[53, 23, 54]"
      ]
     },
     "execution_count": 17,
     "metadata": {},
     "output_type": "execute_result"
    }
   ],
   "source": [
    "list(filter(lambda age : age >= 18,ages))"
   ]
  },
  {
   "cell_type": "code",
   "execution_count": 18,
   "id": "edf790e0",
   "metadata": {},
   "outputs": [],
   "source": [
    "mult = lambda x, y : x*y"
   ]
  },
  {
   "cell_type": "code",
   "execution_count": 19,
   "id": "54bad0d1",
   "metadata": {},
   "outputs": [
    {
     "data": {
      "text/plain": [
       "6"
      ]
     },
     "execution_count": 19,
     "metadata": {},
     "output_type": "execute_result"
    }
   ],
   "source": [
    "mult(2,3)"
   ]
  }
 ],
 "metadata": {
  "kernelspec": {
   "display_name": "Python 3 (ipykernel)",
   "language": "python",
   "name": "python3"
  },
  "language_info": {
   "codemirror_mode": {
    "name": "ipython",
    "version": 3
   },
   "file_extension": ".py",
   "mimetype": "text/x-python",
   "name": "python",
   "nbconvert_exporter": "python",
   "pygments_lexer": "ipython3",
   "version": "3.8.7"
  }
 },
 "nbformat": 4,
 "nbformat_minor": 5
}
