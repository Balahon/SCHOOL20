{
 "cells": [
  {
   "cell_type": "code",
   "execution_count": 1,
   "id": "54c5aa4d",
   "metadata": {},
   "outputs": [
    {
     "data": {
      "text/plain": [
       "'utf-8'"
      ]
     },
     "execution_count": 1,
     "metadata": {},
     "output_type": "execute_result"
    }
   ],
   "source": [
    "import sys\n",
    "sys.getdefaultencoding()"
   ]
  },
  {
   "cell_type": "code",
   "execution_count": 2,
   "id": "8b6535cf",
   "metadata": {},
   "outputs": [
    {
     "data": {
      "text/plain": [
       "97"
      ]
     },
     "execution_count": 2,
     "metadata": {},
     "output_type": "execute_result"
    }
   ],
   "source": [
    "ord(\"a\")"
   ]
  },
  {
   "cell_type": "code",
   "execution_count": 3,
   "id": "13d8a56a",
   "metadata": {},
   "outputs": [
    {
     "data": {
      "text/plain": [
       "'a'"
      ]
     },
     "execution_count": 3,
     "metadata": {},
     "output_type": "execute_result"
    }
   ],
   "source": [
    "chr(97)"
   ]
  },
  {
   "cell_type": "code",
   "execution_count": 4,
   "id": "37442fd3",
   "metadata": {},
   "outputs": [
    {
     "data": {
      "text/plain": [
       "'Æ'"
      ]
     },
     "execution_count": 4,
     "metadata": {},
     "output_type": "execute_result"
    }
   ],
   "source": [
    "chr(198)"
   ]
  },
  {
   "cell_type": "code",
   "execution_count": 5,
   "id": "40857dab",
   "metadata": {},
   "outputs": [
    {
     "name": "stdout",
     "output_type": "stream",
     "text": [
      "<class 'bytes'>\n",
      "b'hello'\n",
      "b'\\xff\\xfeh\\x00e\\x00l\\x00l\\x00o\\x00'\n"
     ]
    }
   ],
   "source": [
    "s = \"hello\"\n",
    "enc_ascii = s.encode('ascii')\n",
    "enc_utf8 = s.encode('utf8')\n",
    "enc_utf16 = s.encode('utf16')\n",
    "print(type(enc_ascii))\n",
    "print(enc_utf8)\n",
    "print(enc_utf16)\n"
   ]
  },
  {
   "cell_type": "code",
   "execution_count": 6,
   "id": "665cd37a",
   "metadata": {},
   "outputs": [
    {
     "name": "stdout",
     "output_type": "stream",
     "text": [
      "5\n",
      "5\n",
      "12\n"
     ]
    }
   ],
   "source": [
    "print(len(enc_ascii))\n",
    "print(len(enc_utf8))\n",
    "print(len(enc_utf16))"
   ]
  },
  {
   "cell_type": "code",
   "execution_count": 8,
   "id": "92596ca4",
   "metadata": {},
   "outputs": [
    {
     "name": "stdout",
     "output_type": "stream",
     "text": [
      "<class 'bytes'>\n",
      "<class 'str'>\n"
     ]
    }
   ],
   "source": [
    "str_in_bytes = b'hello'\n",
    "str_in_bytes = s.encode('utf8')\n",
    "str_in_text = 'hello'\n",
    "print(type(str_in_bytes))\n",
    "print(type(str_in_text))"
   ]
  },
  {
   "cell_type": "code",
   "execution_count": 9,
   "id": "4ec6fb35",
   "metadata": {},
   "outputs": [
    {
     "name": "stdout",
     "output_type": "stream",
     "text": [
      "b'bytes'\n",
      "b'\\xd0\\xb1\\xd0\\xb0\\xd0\\xb9\\xd1\\x82\\xd1\\x8b'\n"
     ]
    }
   ],
   "source": [
    "print('bytes'.encode('utf8'))\n",
    "print('байты'.encode('utf8'))"
   ]
  },
  {
   "cell_type": "code",
   "execution_count": 10,
   "id": "778433b3",
   "metadata": {},
   "outputs": [
    {
     "name": "stdout",
     "output_type": "stream",
     "text": [
      "104\n",
      "h\n"
     ]
    }
   ],
   "source": [
    "print(str_in_bytes[0])\n",
    "print(str_in_text[0])"
   ]
  },
  {
   "cell_type": "code",
   "execution_count": null,
   "id": "93b15fc5",
   "metadata": {},
   "outputs": [],
   "source": [
    "# str_in_bytes[0] = 10 выдаст ошибку"
   ]
  },
  {
   "cell_type": "code",
   "execution_count": 12,
   "id": "6e2ffb6f",
   "metadata": {
    "scrolled": false
   },
   "outputs": [
    {
     "data": {
      "text/plain": [
       "bytearray(b'Wello')"
      ]
     },
     "execution_count": 12,
     "metadata": {},
     "output_type": "execute_result"
    }
   ],
   "source": [
    "ba = bytearray(b'hello')\n",
    "ba[0] = 87\n",
    "ba"
   ]
  },
  {
   "cell_type": "code",
   "execution_count": 13,
   "id": "5f60d42d",
   "metadata": {},
   "outputs": [
    {
     "name": "stdout",
     "output_type": "stream",
     "text": [
      "b'hello'\n",
      "8\n"
     ]
    }
   ],
   "source": [
    "result = str(str_in_bytes)\n",
    "print(result)\n",
    "print(len(result))"
   ]
  },
  {
   "cell_type": "code",
   "execution_count": 14,
   "id": "e3ce76dd",
   "metadata": {},
   "outputs": [
    {
     "name": "stdout",
     "output_type": "stream",
     "text": [
      "hello\n"
     ]
    }
   ],
   "source": [
    "result = str(str_in_bytes, 'utf8')\n",
    "print(result)"
   ]
  },
  {
   "cell_type": "code",
   "execution_count": 15,
   "id": "53246264",
   "metadata": {},
   "outputs": [
    {
     "name": "stdout",
     "output_type": "stream",
     "text": [
      "hello\n"
     ]
    }
   ],
   "source": [
    "result = str(str_in_bytes.decode('utf8'))\n",
    "print(result)"
   ]
  },
  {
   "cell_type": "code",
   "execution_count": 16,
   "id": "ad364c09",
   "metadata": {},
   "outputs": [],
   "source": [
    "jpeg = [120, 3, 255, 0 , 100] #b - добавка значит что работаем с байтами\n",
    "with open(r'C:\\Users\\Balah\\Учебный материал по питону\\btest.bin','w+b') as file:\n",
    "    file.write(bytes(jpeg))"
   ]
  },
  {
   "cell_type": "code",
   "execution_count": 17,
   "id": "0a8d52fd",
   "metadata": {},
   "outputs": [
    {
     "name": "stdout",
     "output_type": "stream",
     "text": [
      "120\n",
      "3\n",
      "255\n",
      "0\n",
      "100\n"
     ]
    }
   ],
   "source": [
    "with open(r'C:\\Users\\Balah\\Учебный материал по питону\\btest.bin','rb') as file:\n",
    "    data = file.read()\n",
    "    for b in data:\n",
    "        print(int(b))"
   ]
  }
 ],
 "metadata": {
  "kernelspec": {
   "display_name": "Python 3 (ipykernel)",
   "language": "python",
   "name": "python3"
  },
  "language_info": {
   "codemirror_mode": {
    "name": "ipython",
    "version": 3
   },
   "file_extension": ".py",
   "mimetype": "text/x-python",
   "name": "python",
   "nbconvert_exporter": "python",
   "pygments_lexer": "ipython3",
   "version": "3.8.7"
  }
 },
 "nbformat": 4,
 "nbformat_minor": 5
}
